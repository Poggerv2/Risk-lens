{
 "cells": [
  {
   "cell_type": "code",
   "execution_count": 171,
   "metadata": {},
   "outputs": [],
   "source": [
    "import pandas as pd\n",
    "import numpy as np\n",
    "import matplotlib.pyplot as plt\n",
    "import seaborn as sns\n",
    "from scipy.stats.mstats import winsorize\n",
    "from sklearn.decomposition import PCA\n",
    "from sklearn.preprocessing import StandardScaler\n",
    "from sklearn.ensemble import RandomForestRegressor"
   ]
  },
  {
   "cell_type": "code",
   "execution_count": 172,
   "metadata": {},
   "outputs": [],
   "source": [
    "df = pd.read_csv('../data/raw_data/aapl.csv')\n",
    "df.columns = df.columns.str.lower()\n",
    "df['date'] = pd.to_datetime(df['date'])\n",
    "df = df.set_index('date')\n",
    "df = df.loc['2019-01-01':'2024-12-31']\n",
    "df = df.astype(float)"
   ]
  },
  {
   "cell_type": "code",
   "execution_count": 173,
   "metadata": {},
   "outputs": [
    {
     "data": {
      "application/vnd.microsoft.datawrangler.viewer.v0+json": {
       "columns": [
        {
         "name": "date",
         "rawType": "datetime64[ns]",
         "type": "datetime"
        },
        {
         "name": "open",
         "rawType": "float64",
         "type": "float"
        },
        {
         "name": "high",
         "rawType": "float64",
         "type": "float"
        },
        {
         "name": "low",
         "rawType": "float64",
         "type": "float"
        },
        {
         "name": "close",
         "rawType": "float64",
         "type": "float"
        },
        {
         "name": "volume",
         "rawType": "float64",
         "type": "float"
        }
       ],
       "conversionMethod": "pd.DataFrame",
       "ref": "6d68843b-63bb-4002-9541-10e888bfe59b",
       "rows": [
        [
         "2019-01-02 00:00:00",
         "36.9444693411881",
         "37.88901287019494",
         "36.78704481309749",
         "37.66718673706055",
         "148158800.0"
        ],
        [
         "2019-01-03 00:00:00",
         "34.342206921445",
         "34.75723422012453",
         "33.86993698814538",
         "33.91525650024414",
         "365248800.0"
        ],
        [
         "2019-01-04 00:00:00",
         "34.473394125186296",
         "35.43224829276365",
         "34.2992750451496",
         "35.363075256347656",
         "234428400.0"
        ],
        [
         "2019-01-07 00:00:00",
         "35.46802857200159",
         "35.49903742871124",
         "34.80016986131174",
         "35.284366607666016",
         "219111200.0"
        ],
        [
         "2019-01-08 00:00:00",
         "35.673156691404685",
         "36.212215823587805",
         "35.42509675519286",
         "35.95699691772461",
         "164101200.0"
        ],
        [
         "2019-01-09 00:00:00",
         "36.08579128285842",
         "36.85859957931004",
         "35.68984972880673",
         "36.567604064941406",
         "180396400.0"
        ],
        [
         "2019-01-10 00:00:00",
         "36.37440495188372",
         "36.725030654714",
         "35.98323116880231",
         "36.68448257446289",
         "143122800.0"
        ],
        [
         "2019-01-11 00:00:00",
         "36.46505174890769",
         "36.66063686235995",
         "36.1382758615389",
         "36.32432174682617",
         "108092800.0"
        ],
        [
         "2019-01-14 00:00:00",
         "35.98084691352754",
         "36.08102516483244",
         "35.592057030970075",
         "35.77810287475586",
         "129756800.0"
        ],
        [
         "2019-01-15 00:00:00",
         "35.842498368694265",
         "36.58668161697159",
         "35.790023535594074",
         "36.51035690307617",
         "114843600.0"
        ],
        [
         "2019-01-16 00:00:00",
         "36.51274559172934",
         "37.18060421377019",
         "36.49366350086684",
         "36.95639419555664",
         "122278800.0"
        ],
        [
         "2019-01-17 00:00:00",
         "36.77988943935679",
         "37.60517262297568",
         "36.55567940983745",
         "37.17583465576172",
         "119284800.0"
        ],
        [
         "2019-01-18 00:00:00",
         "37.56700033062978",
         "37.65763933734888",
         "37.20444794328947",
         "37.4048080444336",
         "135004000.0"
        ],
        [
         "2019-01-22 00:00:00",
         "37.30702320944919",
         "37.38334794017175",
         "36.40302772681457",
         "36.565223693847656",
         "121576000.0"
        ],
        [
         "2019-01-23 00:00:00",
         "36.76795152660388",
         "37.00408824684386",
         "36.18357674489752",
         "36.71309280395508",
         "92522400.0"
        ],
        [
         "2019-01-24 00:00:00",
         "36.7584188843341",
         "36.84667036346506",
         "36.19312608745928",
         "36.42210388183594",
         "101766000.0"
        ],
        [
         "2019-01-25 00:00:00",
         "37.08519007898912",
         "37.71727199264311",
         "36.8085088877834",
         "37.6290168762207",
         "134142000.0"
        ],
        [
         "2019-01-28 00:00:00",
         "37.15913672562548",
         "37.28793993647679",
         "36.65109013037413",
         "37.2807846069336",
         "104768400.0"
        ],
        [
         "2019-01-29 00:00:00",
         "37.2688501863648",
         "37.7172701564587",
         "36.75841615979378",
         "36.89437103271485",
         "166348800.0"
        ],
        [
         "2019-01-30 00:00:00",
         "38.93849747119621",
         "39.63020592451775",
         "38.218164063991175",
         "39.4155387878418",
         "244439200.0"
        ],
        [
         "2019-01-31 00:00:00",
         "39.62066290613324",
         "40.30998739710586",
         "39.250955193222985",
         "39.69937515258789",
         "162958400.0"
        ],
        [
         "2019-02-01 00:00:00",
         "39.823409752459085",
         "40.30521885015985",
         "39.57773013195106",
         "39.71846008300781",
         "130672400.0"
        ],
        [
         "2019-02-04 00:00:00",
         "39.93073474884672",
         "40.94444730466939",
         "39.899725906017245",
         "40.84665298461914",
         "125982000.0"
        ],
        [
         "2019-02-05 00:00:00",
         "41.230675449522025",
         "41.760191529038174",
         "41.109031240808925",
         "41.5455207824707",
         "144406400.0"
        ],
        [
         "2019-02-06 00:00:00",
         "41.65763950801621",
         "41.87708175854276",
         "41.22830515234045",
         "41.55984878540039",
         "112958400.0"
        ],
        [
         "2019-02-07 00:00:00",
         "41.12096229371628",
         "41.4882861658143",
         "40.62961029295609",
         "40.77272415161133",
         "126966800.0"
        ],
        [
         "2019-02-08 00:00:00",
         "40.48048140134687",
         "40.88051884510569",
         "40.343939770856174",
         "40.82063293457031",
         "95280000.0"
        ],
        [
         "2019-02-11 00:00:00",
         "40.973935789221976",
         "41.012263644587904",
         "40.54275655421891",
         "40.58587265014648",
         "83973600.0"
        ],
        [
         "2019-02-12 00:00:00",
         "40.74637006400791",
         "40.96195785381189",
         "40.65055042564856",
         "40.93560791015625",
         "89134000.0"
        ],
        [
         "2019-02-13 00:00:00",
         "41.05539437505655",
         "41.31649612941113",
         "40.70326484554664",
         "40.76554489135742",
         "89960800.0"
        ],
        [
         "2019-02-14 00:00:00",
         "40.652956967864775",
         "41.02424672424616",
         "40.5739071198508",
         "40.914058685302734",
         "87342800.0"
        ],
        [
         "2019-02-15 00:00:00",
         "41.02185789995116",
         "41.12965183201658",
         "40.66254235630195",
         "40.823036193847656",
         "98507200.0"
        ],
        [
         "2019-02-19 00:00:00",
         "40.652950567331295",
         "41.06736001881353",
         "40.60025067695256",
         "40.9451904296875",
         "75891200.0"
        ],
        [
         "2019-02-20 00:00:00",
         "41.00747487004267",
         "41.51770397489298",
         "40.95956687476161",
         "41.20869064331055",
         "104457600.0"
        ],
        [
         "2019-02-21 00:00:00",
         "41.15359722391607",
         "41.29013519518988",
         "40.79428177141705",
         "40.97633361816406",
         "68998800.0"
        ],
        [
         "2019-02-22 00:00:00",
         "41.10090285699931",
         "41.44105442580746",
         "41.05299485458833",
         "41.433868408203125",
         "75652800.0"
        ],
        [
         "2019-02-25 00:00:00",
         "41.718917288617774",
         "42.12853482753936",
         "41.66861152069372",
         "41.73568344116211",
         "87493600.0"
        ],
        [
         "2019-02-26 00:00:00",
         "41.6111276662721",
         "41.992001179873725",
         "41.48177205269116",
         "41.7596435546875",
         "68280800.0"
        ],
        [
         "2019-02-27 00:00:00",
         "41.49135267211243",
         "41.9201341503",
         "41.3763691010239",
         "41.88899230957031",
         "111341600.0"
        ],
        [
         "2019-02-28 00:00:00",
         "41.75723988623331",
         "41.89856972548392",
         "41.42187667097745",
         "41.47697067260742",
         "112861600.0"
        ],
        [
         "2019-03-01 00:00:00",
         "41.74767052064794",
         "41.95607234392837",
         "41.414704965510246",
         "41.91295623779297",
         "103544800.0"
        ],
        [
         "2019-03-04 00:00:00",
         "42.08542092127852",
         "42.57888021404128",
         "41.67340558544547",
         "42.12374877929688",
         "109744800.0"
        ],
        [
         "2019-03-05 00:00:00",
         "42.14531767259841",
         "42.159689709266736",
         "41.809954311368514",
         "42.04710388183594",
         "78949600.0"
        ],
        [
         "2019-03-06 00:00:00",
         "41.84109060936449",
         "42.03751816482708",
         "41.66622476119022",
         "41.80516052246094",
         "83241600.0"
        ],
        [
         "2019-03-07 00:00:00",
         "41.64945123332512",
         "41.78599286166465",
         "41.2062976954326",
         "41.3212776184082",
         "99185600.0"
        ],
        [
         "2019-03-08 00:00:00",
         "40.79907367665731",
         "41.45781867305242",
         "40.602646141444055",
         "41.41949081420898",
         "95997600.0"
        ],
        [
         "2019-03-11 00:00:00",
         "42.03751384059792",
         "42.90705475053342",
         "42.003977877888914",
         "42.85435485839844",
         "128044000.0"
        ],
        [
         "2019-03-12 00:00:00",
         "43.11786033168698",
         "43.757441487989446",
         "42.96694665087926",
         "43.335845947265625",
         "129870400.0"
        ],
        [
         "2019-03-13 00:00:00",
         "43.65683305024534",
         "43.90835463012375",
         "43.33823953641887",
         "43.52748107910156",
         "124130000.0"
        ],
        [
         "2019-03-14 00:00:00",
         "44.05207451978656",
         "44.099986172540426",
         "43.73108691515278",
         "44.0113525390625",
         "94318000.0"
        ]
       ],
       "shape": {
        "columns": 5,
        "rows": 1510
       }
      },
      "text/html": [
       "<div>\n",
       "<style scoped>\n",
       "    .dataframe tbody tr th:only-of-type {\n",
       "        vertical-align: middle;\n",
       "    }\n",
       "\n",
       "    .dataframe tbody tr th {\n",
       "        vertical-align: top;\n",
       "    }\n",
       "\n",
       "    .dataframe thead th {\n",
       "        text-align: right;\n",
       "    }\n",
       "</style>\n",
       "<table border=\"1\" class=\"dataframe\">\n",
       "  <thead>\n",
       "    <tr style=\"text-align: right;\">\n",
       "      <th></th>\n",
       "      <th>open</th>\n",
       "      <th>high</th>\n",
       "      <th>low</th>\n",
       "      <th>close</th>\n",
       "      <th>volume</th>\n",
       "    </tr>\n",
       "    <tr>\n",
       "      <th>date</th>\n",
       "      <th></th>\n",
       "      <th></th>\n",
       "      <th></th>\n",
       "      <th></th>\n",
       "      <th></th>\n",
       "    </tr>\n",
       "  </thead>\n",
       "  <tbody>\n",
       "    <tr>\n",
       "      <th>2019-01-02</th>\n",
       "      <td>36.944469</td>\n",
       "      <td>37.889013</td>\n",
       "      <td>36.787045</td>\n",
       "      <td>37.667187</td>\n",
       "      <td>148158800.0</td>\n",
       "    </tr>\n",
       "    <tr>\n",
       "      <th>2019-01-03</th>\n",
       "      <td>34.342207</td>\n",
       "      <td>34.757234</td>\n",
       "      <td>33.869937</td>\n",
       "      <td>33.915257</td>\n",
       "      <td>365248800.0</td>\n",
       "    </tr>\n",
       "    <tr>\n",
       "      <th>2019-01-04</th>\n",
       "      <td>34.473394</td>\n",
       "      <td>35.432248</td>\n",
       "      <td>34.299275</td>\n",
       "      <td>35.363075</td>\n",
       "      <td>234428400.0</td>\n",
       "    </tr>\n",
       "    <tr>\n",
       "      <th>2019-01-07</th>\n",
       "      <td>35.468029</td>\n",
       "      <td>35.499037</td>\n",
       "      <td>34.800170</td>\n",
       "      <td>35.284367</td>\n",
       "      <td>219111200.0</td>\n",
       "    </tr>\n",
       "    <tr>\n",
       "      <th>2019-01-08</th>\n",
       "      <td>35.673157</td>\n",
       "      <td>36.212216</td>\n",
       "      <td>35.425097</td>\n",
       "      <td>35.956997</td>\n",
       "      <td>164101200.0</td>\n",
       "    </tr>\n",
       "    <tr>\n",
       "      <th>...</th>\n",
       "      <td>...</td>\n",
       "      <td>...</td>\n",
       "      <td>...</td>\n",
       "      <td>...</td>\n",
       "      <td>...</td>\n",
       "    </tr>\n",
       "    <tr>\n",
       "      <th>2024-12-24</th>\n",
       "      <td>255.209412</td>\n",
       "      <td>257.926411</td>\n",
       "      <td>255.009620</td>\n",
       "      <td>257.916443</td>\n",
       "      <td>23234700.0</td>\n",
       "    </tr>\n",
       "    <tr>\n",
       "      <th>2024-12-26</th>\n",
       "      <td>257.906429</td>\n",
       "      <td>259.814335</td>\n",
       "      <td>257.347047</td>\n",
       "      <td>258.735504</td>\n",
       "      <td>27237100.0</td>\n",
       "    </tr>\n",
       "    <tr>\n",
       "      <th>2024-12-27</th>\n",
       "      <td>257.546826</td>\n",
       "      <td>258.415896</td>\n",
       "      <td>252.782075</td>\n",
       "      <td>255.309296</td>\n",
       "      <td>42355300.0</td>\n",
       "    </tr>\n",
       "    <tr>\n",
       "      <th>2024-12-30</th>\n",
       "      <td>251.952985</td>\n",
       "      <td>253.221595</td>\n",
       "      <td>250.474615</td>\n",
       "      <td>251.923019</td>\n",
       "      <td>35557500.0</td>\n",
       "    </tr>\n",
       "    <tr>\n",
       "      <th>2024-12-31</th>\n",
       "      <td>252.162760</td>\n",
       "      <td>253.001833</td>\n",
       "      <td>249.156056</td>\n",
       "      <td>250.144974</td>\n",
       "      <td>39480700.0</td>\n",
       "    </tr>\n",
       "  </tbody>\n",
       "</table>\n",
       "<p>1510 rows × 5 columns</p>\n",
       "</div>"
      ],
      "text/plain": [
       "                  open        high         low       close       volume\n",
       "date                                                                   \n",
       "2019-01-02   36.944469   37.889013   36.787045   37.667187  148158800.0\n",
       "2019-01-03   34.342207   34.757234   33.869937   33.915257  365248800.0\n",
       "2019-01-04   34.473394   35.432248   34.299275   35.363075  234428400.0\n",
       "2019-01-07   35.468029   35.499037   34.800170   35.284367  219111200.0\n",
       "2019-01-08   35.673157   36.212216   35.425097   35.956997  164101200.0\n",
       "...                ...         ...         ...         ...          ...\n",
       "2024-12-24  255.209412  257.926411  255.009620  257.916443   23234700.0\n",
       "2024-12-26  257.906429  259.814335  257.347047  258.735504   27237100.0\n",
       "2024-12-27  257.546826  258.415896  252.782075  255.309296   42355300.0\n",
       "2024-12-30  251.952985  253.221595  250.474615  251.923019   35557500.0\n",
       "2024-12-31  252.162760  253.001833  249.156056  250.144974   39480700.0\n",
       "\n",
       "[1510 rows x 5 columns]"
      ]
     },
     "execution_count": 173,
     "metadata": {},
     "output_type": "execute_result"
    }
   ],
   "source": [
    "df"
   ]
  },
  {
   "cell_type": "code",
   "execution_count": 174,
   "metadata": {},
   "outputs": [],
   "source": [
    "cols = ['sma_7', 'sma_21', 'sma_50', 'sma_200']\n",
    "for col in cols:\n",
    "    df[col] = df['close'].rolling(window=int(col.split('_')[1]), min_periods=1).mean()"
   ]
  },
  {
   "cell_type": "code",
   "execution_count": 175,
   "metadata": {},
   "outputs": [],
   "source": [
    "cols = ['ema_7', 'ema_21', 'ema_50', 'ema_200']\n",
    "for col in cols:\n",
    "    df[col] = df['close'].ewm(span=int(col.split('_')[1]), adjust=False).mean()"
   ]
  },
  {
   "cell_type": "code",
   "execution_count": 176,
   "metadata": {},
   "outputs": [],
   "source": [
    "df['returns'] = np.log(df['close'] / df['close'].shift(1))"
   ]
  },
  {
   "cell_type": "code",
   "execution_count": 177,
   "metadata": {},
   "outputs": [],
   "source": [
    "cols=['std_returns_21', 'std_returns_252']\n",
    "for col in cols:\n",
    "    df[col] = df['returns'].rolling(window=int(col.split('_')[2]), min_periods=1).std()"
   ]
  },
  {
   "cell_type": "code",
   "execution_count": 178,
   "metadata": {},
   "outputs": [],
   "source": [
    "df['upper_band'] = df['sma_21'] + (2 * df['std_returns_21'])\n",
    "df['lower_band'] = df['sma_21'] - (2 * df['std_returns_21'])"
   ]
  },
  {
   "cell_type": "code",
   "execution_count": 179,
   "metadata": {},
   "outputs": [],
   "source": [
    "cols = ['momentum_7', 'momentum_21']\n",
    "for col in cols:\n",
    "    df[col] = df['close'] - df['close'].shift(int(col.split('_')[1]))"
   ]
  },
  {
   "cell_type": "code",
   "execution_count": 180,
   "metadata": {},
   "outputs": [],
   "source": [
    "delta = df['close'].diff(1)\n",
    "gain = pd.Series(np.where(delta > 0, delta, 0), index=df.index)\n",
    "loss = pd.Series(np.where(delta < 0, -delta, 0), index=df.index)\n",
    "avg_gain = gain.ewm(span=14, adjust=False).mean()\n",
    "avg_loss = loss.ewm(span=14, adjust=False).mean()\n",
    "rs = np.where(avg_loss == 0, 0, avg_gain / avg_loss)\n",
    "df['rsi_14'] = 100 - (100 / (1 + rs))"
   ]
  },
  {
   "cell_type": "code",
   "execution_count": 181,
   "metadata": {},
   "outputs": [],
   "source": [
    "df['high_low'] = df['high'] - df['low']\n",
    "df['high_close'] = abs(df['high'] - df['close'].shift(1))\n",
    "df['low_close'] = abs(df['low'] - df['close'].shift(1))\n",
    "df['tr'] = df[['high_low', 'high_close', 'low_close']].max(axis=1)\n",
    "\n",
    "df['+dm'] = np.where(df['high'].diff(1) > df['low'].diff(1), df['high'].diff(1), 0)\n",
    "df['-dm'] = np.where(df['low'].diff(1) > df['high'].diff(1), df['low'].diff(1), 0)"
   ]
  },
  {
   "cell_type": "code",
   "execution_count": 182,
   "metadata": {},
   "outputs": [],
   "source": [
    "df['tr_smooth'] = df['tr'].ewm(span=14, adjust=False).mean()\n",
    "df['+dm_smooth'] = df['+dm'].ewm(span=14, adjust=False).mean()\n",
    "df['-dm_smooth'] = df['-dm'].ewm(span=14, adjust=False).mean()"
   ]
  },
  {
   "cell_type": "code",
   "execution_count": 183,
   "metadata": {},
   "outputs": [],
   "source": [
    "df['+di'] = (df['+dm_smooth'] / df['tr_smooth']) * 100\n",
    "df['-di'] = (df['-dm_smooth'] / df['tr_smooth']) * 100"
   ]
  },
  {
   "cell_type": "code",
   "execution_count": 184,
   "metadata": {},
   "outputs": [],
   "source": [
    "df['dx'] = (abs(df['+di'] - df['-di']) / (df['+di'] + df['-di'])) * 100\n",
    "df['adx'] = df['dx'].ewm(span=14, adjust=False).mean()"
   ]
  },
  {
   "cell_type": "code",
   "execution_count": 185,
   "metadata": {},
   "outputs": [],
   "source": [
    "df['ema_12'] = df['close'].ewm(span=12, adjust=False).mean()\n",
    "df['ema_26'] = df['close'].ewm(span=26, adjust=False).mean()\n",
    "df['macd'] = df['ema_12'] - df['ema_26']\n",
    "df['macd_signal'] = df['macd'].ewm(span=9, adjust=False).mean()"
   ]
  },
  {
   "cell_type": "code",
   "execution_count": 186,
   "metadata": {},
   "outputs": [],
   "source": [
    "drop_cols = [\n",
    "    'high_low', 'high_close', 'low_close', 'tr', '+dm', '-dm', \n",
    "    'tr_smooth', '+dm_smooth', '-dm_smooth', '+di', '-di', 'dx'\n",
    "]\n",
    "df = df.drop(drop_cols, axis=1)"
   ]
  },
  {
   "cell_type": "code",
   "execution_count": 187,
   "metadata": {},
   "outputs": [],
   "source": [
    "df = df.iloc[252:]"
   ]
  },
  {
   "cell_type": "code",
   "execution_count": null,
   "metadata": {},
   "outputs": [],
   "source": []
  },
  {
   "cell_type": "code",
   "execution_count": 188,
   "metadata": {},
   "outputs": [
    {
     "name": "stdout",
     "output_type": "stream",
     "text": [
      "<class 'pandas.core.frame.DataFrame'>\n",
      "DatetimeIndex: 1258 entries, 2020-01-02 to 2024-12-31\n",
      "Data columns (total 26 columns):\n",
      " #   Column           Non-Null Count  Dtype  \n",
      "---  ------           --------------  -----  \n",
      " 0   open             1258 non-null   float64\n",
      " 1   high             1258 non-null   float64\n",
      " 2   low              1258 non-null   float64\n",
      " 3   close            1258 non-null   float64\n",
      " 4   volume           1258 non-null   float64\n",
      " 5   sma_7            1258 non-null   float64\n",
      " 6   sma_21           1258 non-null   float64\n",
      " 7   sma_50           1258 non-null   float64\n",
      " 8   sma_200          1258 non-null   float64\n",
      " 9   ema_7            1258 non-null   float64\n",
      " 10  ema_21           1258 non-null   float64\n",
      " 11  ema_50           1258 non-null   float64\n",
      " 12  ema_200          1258 non-null   float64\n",
      " 13  returns          1258 non-null   float64\n",
      " 14  std_returns_21   1258 non-null   float64\n",
      " 15  std_returns_252  1258 non-null   float64\n",
      " 16  upper_band       1258 non-null   float64\n",
      " 17  lower_band       1258 non-null   float64\n",
      " 18  momentum_7       1258 non-null   float64\n",
      " 19  momentum_21      1258 non-null   float64\n",
      " 20  rsi_14           1258 non-null   float64\n",
      " 21  adx              1258 non-null   float64\n",
      " 22  ema_12           1258 non-null   float64\n",
      " 23  ema_26           1258 non-null   float64\n",
      " 24  macd             1258 non-null   float64\n",
      " 25  macd_signal      1258 non-null   float64\n",
      "dtypes: float64(26)\n",
      "memory usage: 265.4 KB\n"
     ]
    }
   ],
   "source": [
    "df.info()"
   ]
  },
  {
   "cell_type": "code",
   "execution_count": 189,
   "metadata": {},
   "outputs": [
    {
     "data": {
      "text/plain": [
       "0"
      ]
     },
     "execution_count": 189,
     "metadata": {},
     "output_type": "execute_result"
    }
   ],
   "source": [
    "df.isna().sum().sum()"
   ]
  },
  {
   "cell_type": "code",
   "execution_count": 190,
   "metadata": {},
   "outputs": [],
   "source": [
    "def count_outliers(series):\n",
    "    Q1 = series.quantile(0.25)\n",
    "    Q3 = series.quantile(0.75)\n",
    "    IQR = Q3 - Q1\n",
    "    lower_bound = Q1 - 1.5 * IQR\n",
    "    upper_bound = Q3 + 1.5 * IQR\n",
    "    outliers = series[(series < lower_bound) | (series > upper_bound)]\n",
    "    return len(outliers)"
   ]
  },
  {
   "cell_type": "code",
   "execution_count": 191,
   "metadata": {},
   "outputs": [
    {
     "name": "stdout",
     "output_type": "stream",
     "text": [
      "open: 5\n",
      "high: 6\n",
      "low: 4\n",
      "close: 7\n",
      "volume: 68\n",
      "sma_7: 6\n",
      "sma_21: 0\n",
      "sma_50: 0\n",
      "sma_200: 0\n",
      "ema_7: 6\n",
      "ema_21: 0\n",
      "ema_50: 0\n",
      "ema_200: 0\n",
      "returns: 53\n",
      "std_returns_21: 56\n",
      "std_returns_252: 0\n",
      "upper_band: 0\n",
      "lower_band: 0\n",
      "momentum_7: 17\n",
      "momentum_21: 4\n",
      "rsi_14: 0\n",
      "adx: 291\n",
      "ema_12: 4\n",
      "ema_26: 0\n",
      "macd: 1\n",
      "macd_signal: 1\n"
     ]
    }
   ],
   "source": [
    "cols = df.columns\n",
    "outliers = {}\n",
    "for col in cols:\n",
    "    outliers[col] = count_outliers(df[col])\n",
    "    print(f'{col}: {outliers[col]}')"
   ]
  },
  {
   "cell_type": "code",
   "execution_count": 192,
   "metadata": {},
   "outputs": [],
   "source": [
    "def winsorization(df, columns, limits=(0.01, 0.01)):\n",
    "    df = df.copy()\n",
    "    for col in columns:\n",
    "        df[col] = winsorize(df[col], limits=limits)\n",
    "    return df"
   ]
  },
  {
   "cell_type": "code",
   "execution_count": 193,
   "metadata": {},
   "outputs": [],
   "source": [
    "def clipping(df, columns, lower=1, upper=99):\n",
    "    df = df.copy()\n",
    "    for col in columns:\n",
    "        lower_bound, upper_bound = df[col].quantile([lower/100, upper/100])\n",
    "        df[col] = df[col].clip(lower_bound, upper_bound)\n",
    "    return df"
   ]
  },
  {
   "cell_type": "code",
   "execution_count": 194,
   "metadata": {},
   "outputs": [
    {
     "name": "stdout",
     "output_type": "stream",
     "text": [
      "             volume      returns          adx  std_returns_21  std_returns_252\n",
      "count  1.258000e+03  1258.000000  1258.000000     1258.000000      1258.000000\n",
      "mean   9.057384e+07     0.001000    47.645637        0.017981         0.019356\n",
      "std    5.325460e+07     0.019942   372.470440        0.008764         0.005059\n",
      "min    2.323470e+07    -0.137708 -4477.130246        0.006038         0.011902\n",
      "1%     3.238113e+07    -0.051599  -771.848933        0.008246         0.012056\n",
      "25%    5.546825e+07    -0.008459    19.741182        0.012497         0.014997\n",
      "50%    7.627980e+07     0.001209    37.220523        0.015893         0.018674\n",
      "75%    1.077425e+08     0.012000    65.668173        0.020647         0.022312\n",
      "99%    3.199615e+08     0.051787  1461.525567        0.062114         0.029719\n",
      "max    4.265100e+08     0.113158  2723.484088        0.067330         0.029897\n"
     ]
    }
   ],
   "source": [
    "print(df[['volume', 'returns', 'adx', 'std_returns_21', 'std_returns_252']].describe(percentiles=[0.01, 0.25, 0.5, 0.75, 0.99]))"
   ]
  },
  {
   "cell_type": "code",
   "execution_count": 195,
   "metadata": {},
   "outputs": [],
   "source": [
    "if (df['adx'] < 0).any():\n",
    "    df['adx'] = np.log1p(df['adx'] - df['adx'].min() + 1)\n",
    "\n",
    "df['volume'] = np.log1p(df['volume'])  \n",
    "df['std_returns_21'] = np.log1p(df['std_returns_21'])  \n",
    "df['std_returns_252'] = np.log1p(df['std_returns_252'])  "
   ]
  },
  {
   "cell_type": "code",
   "execution_count": 196,
   "metadata": {},
   "outputs": [
    {
     "name": "stderr",
     "output_type": "stream",
     "text": [
      "c:\\Users\\santi\\anaconda3\\Lib\\site-packages\\numpy\\lib\\function_base.py:4824: UserWarning: Warning: 'partition' will ignore the 'mask' of the MaskedArray.\n",
      "  arr.partition(\n",
      "c:\\Users\\santi\\anaconda3\\Lib\\site-packages\\numpy\\lib\\function_base.py:4824: UserWarning: Warning: 'partition' will ignore the 'mask' of the MaskedArray.\n",
      "  arr.partition(\n",
      "c:\\Users\\santi\\anaconda3\\Lib\\site-packages\\numpy\\lib\\function_base.py:4824: UserWarning: Warning: 'partition' will ignore the 'mask' of the MaskedArray.\n",
      "  arr.partition(\n",
      "c:\\Users\\santi\\anaconda3\\Lib\\site-packages\\numpy\\lib\\function_base.py:4824: UserWarning: Warning: 'partition' will ignore the 'mask' of the MaskedArray.\n",
      "  arr.partition(\n",
      "c:\\Users\\santi\\anaconda3\\Lib\\site-packages\\numpy\\lib\\function_base.py:4824: UserWarning: Warning: 'partition' will ignore the 'mask' of the MaskedArray.\n",
      "  arr.partition(\n"
     ]
    }
   ],
   "source": [
    "df = winsorization(df, ['returns', 'adx'])\n",
    "df = clipping(df, ['volume', 'returns', 'std_returns_21', 'std_returns_252', 'adx'])"
   ]
  },
  {
   "cell_type": "code",
   "execution_count": 197,
   "metadata": {},
   "outputs": [
    {
     "name": "stdout",
     "output_type": "stream",
     "text": [
      "            volume      returns          adx  std_returns_21  std_returns_252\n",
      "count  1258.000000  1258.000000  1258.000000     1258.000000      1258.000000\n",
      "mean     18.193719     0.000949     8.418748        0.017765         0.019159\n",
      "std       0.478694     0.018044     0.050412        0.008378         0.004956\n",
      "min      17.292987    -0.051599     8.217933        0.008212         0.011983\n",
      "1%       17.299978    -0.050896     8.225657        0.008213         0.011984\n",
      "25%      17.831321    -0.008459     8.411582        0.012419         0.014886\n",
      "50%      18.149919     0.001209     8.415460        0.015768         0.018502\n",
      "75%      18.495255     0.012000     8.421739        0.020436         0.022067\n",
      "99%      19.582844     0.051501     8.688241        0.060106         0.029285\n",
      "max      19.583710     0.051787     8.689571        0.060262         0.029286\n"
     ]
    }
   ],
   "source": [
    "print(df[['volume', 'returns', 'adx', 'std_returns_21', 'std_returns_252']].describe(percentiles=[0.01, 0.25, 0.5, 0.75, 0.99]))"
   ]
  },
  {
   "cell_type": "code",
   "execution_count": 198,
   "metadata": {},
   "outputs": [
    {
     "data": {
      "image/png": "[encoded data removed]",
      "text/plain": [
       "<Figure size 1400x700 with 2 Axes>"
      ]
     },
     "metadata": {},
     "output_type": "display_data"
    }
   ],
   "source": [
    "plt.figure(figsize=(14, 7))\n",
    "sns.heatmap(df.corr(), cmap='coolwarm', annot=False, fmt=\".2f\")\n",
    "plt.show()"
   ]
  },
  {
   "cell_type": "code",
   "execution_count": 199,
   "metadata": {},
   "outputs": [],
   "source": [
    "scaler = StandardScaler()\n",
    "df_scaled = scaler.fit_transform(df)"
   ]
  },
  {
   "cell_type": "code",
   "execution_count": 200,
   "metadata": {},
   "outputs": [
    {
     "data": {
      "text/html": [
       "<style>#sk-container-id-2 {color: black;background-color: white;}#sk-container-id-2 pre{padding: 0;}#sk-container-id-2 div.sk-toggleable {background-color: white;}#sk-container-id-2 label.sk-toggleable__label {cursor: pointer;display: block;width: 100%;margin-bottom: 0;padding: 0.3em;box-sizing: border-box;text-align: center;}#sk-container-id-2 label.sk-toggleable__label-arrow:before {content: \"▸\";float: left;margin-right: 0.25em;color: #696969;}#sk-container-id-2 label.sk-toggleable__label-arrow:hover:before {color: black;}#sk-container-id-2 div.sk-estimator:hover label.sk-toggleable__label-arrow:before {color: black;}#sk-container-id-2 div.sk-toggleable__content {max-height: 0;max-width: 0;overflow: hidden;text-align: left;background-color: #f0f8ff;}#sk-container-id-2 div.sk-toggleable__content pre {margin: 0.2em;color: black;border-radius: 0.25em;background-color: #f0f8ff;}#sk-container-id-2 input.sk-toggleable__control:checked~div.sk-toggleable__content {max-height: 200px;max-width: 100%;overflow: auto;}#sk-container-id-2 input.sk-toggleable__control:checked~label.sk-toggleable__label-arrow:before {content: \"▾\";}#sk-container-id-2 div.sk-estimator input.sk-toggleable__control:checked~label.sk-toggleable__label {background-color: #d4ebff;}#sk-container-id-2 div.sk-label input.sk-toggleable__control:checked~label.sk-toggleable__label {background-color: #d4ebff;}#sk-container-id-2 input.sk-hidden--visually {border: 0;clip: rect(1px 1px 1px 1px);clip: rect(1px, 1px, 1px, 1px);height: 1px;margin: -1px;overflow: hidden;padding: 0;position: absolute;width: 1px;}#sk-container-id-2 div.sk-estimator {font-family: monospace;background-color: #f0f8ff;border: 1px dotted black;border-radius: 0.25em;box-sizing: border-box;margin-bottom: 0.5em;}#sk-container-id-2 div.sk-estimator:hover {background-color: #d4ebff;}#sk-container-id-2 div.sk-parallel-item::after {content: \"\";width: 100%;border-bottom: 1px solid gray;flex-grow: 1;}#sk-container-id-2 div.sk-label:hover label.sk-toggleable__label {background-color: #d4ebff;}#sk-container-id-2 div.sk-serial::before {content: \"\";position: absolute;border-left: 1px solid gray;box-sizing: border-box;top: 0;bottom: 0;left: 50%;z-index: 0;}#sk-container-id-2 div.sk-serial {display: flex;flex-direction: column;align-items: center;background-color: white;padding-right: 0.2em;padding-left: 0.2em;position: relative;}#sk-container-id-2 div.sk-item {position: relative;z-index: 1;}#sk-container-id-2 div.sk-parallel {display: flex;align-items: stretch;justify-content: center;background-color: white;position: relative;}#sk-container-id-2 div.sk-item::before, #sk-container-id-2 div.sk-parallel-item::before {content: \"\";position: absolute;border-left: 1px solid gray;box-sizing: border-box;top: 0;bottom: 0;left: 50%;z-index: -1;}#sk-container-id-2 div.sk-parallel-item {display: flex;flex-direction: column;z-index: 1;position: relative;background-color: white;}#sk-container-id-2 div.sk-parallel-item:first-child::after {align-self: flex-end;width: 50%;}#sk-container-id-2 div.sk-parallel-item:last-child::after {align-self: flex-start;width: 50%;}#sk-container-id-2 div.sk-parallel-item:only-child::after {width: 0;}#sk-container-id-2 div.sk-dashed-wrapped {border: 1px dashed gray;margin: 0 0.4em 0.5em 0.4em;box-sizing: border-box;padding-bottom: 0.4em;background-color: white;}#sk-container-id-2 div.sk-label label {font-family: monospace;font-weight: bold;display: inline-block;line-height: 1.2em;}#sk-container-id-2 div.sk-label-container {text-align: center;}#sk-container-id-2 div.sk-container {/* jupyter's `normalize.less` sets `[hidden] { display: none; }` but bootstrap.min.css set `[hidden] { display: none !important; }` so we also need the `!important` here to be able to override the default hidden behavior on the sphinx rendered scikit-learn.org. See: https://github.com/scikit-learn/scikit-learn/issues/21755 */display: inline-block !important;position: relative;}#sk-container-id-2 div.sk-text-repr-fallback {display: none;}</style><div id=\"sk-container-id-2\" class=\"sk-top-container\"><div class=\"sk-text-repr-fallback\"><pre>PCA(n_components=0.95)</pre><b>In a Jupyter environment, please rerun this cell to show the HTML representation or trust the notebook. <br />On GitHub, the HTML representation is unable to render, please try loading this page with nbviewer.org.</b></div><div class=\"sk-container\" hidden><div class=\"sk-item\"><div class=\"sk-estimator sk-toggleable\"><input class=\"sk-toggleable__control sk-hidden--visually\" id=\"sk-estimator-id-2\" type=\"checkbox\" checked><label for=\"sk-estimator-id-2\" class=\"sk-toggleable__label sk-toggleable__label-arrow\">PCA</label><div class=\"sk-toggleable__content\"><pre>PCA(n_components=0.95)</pre></div></div></div></div></div>"
      ],
      "text/plain": [
       "PCA(n_components=0.95)"
      ]
     },
     "execution_count": 200,
     "metadata": {},
     "output_type": "execute_result"
    }
   ],
   "source": [
    "pca = PCA(n_components=0.95)\n",
    "pca.fit(df_scaled)"
   ]
  },
  {
   "cell_type": "code",
   "execution_count": 201,
   "metadata": {},
   "outputs": [
    {
     "name": "stdout",
     "output_type": "stream",
     "text": [
      "Explained Variance (95%): [0.6604079  0.14905423 0.05440275 0.03728906 0.02952954 0.02484102]\n"
     ]
    },
    {
     "data": {
      "image/png": "[encoded data removed]",
      "text/plain": [
       "<Figure size 640x480 with 1 Axes>"
      ]
     },
     "metadata": {},
     "output_type": "display_data"
    }
   ],
   "source": [
    "print('Explained Variance (95%):', pca.explained_variance_ratio_)\n",
    "plt.plot(range(1, len(pca.explained_variance_ratio_)+1), pca.explained_variance_ratio_.cumsum(), marker='o')\n",
    "plt.xlabel('Number of Components')\n",
    "plt.ylabel('Explained Variance')\n",
    "plt.show()"
   ]
  },
  {
   "cell_type": "code",
   "execution_count": 202,
   "metadata": {},
   "outputs": [],
   "source": [
    "X = df.drop('close', axis=1)\n",
    "y = df['close']"
   ]
  },
  {
   "cell_type": "code",
   "execution_count": 204,
   "metadata": {},
   "outputs": [
    {
     "data": {
      "text/html": [
       "<style>#sk-container-id-3 {color: black;background-color: white;}#sk-container-id-3 pre{padding: 0;}#sk-container-id-3 div.sk-toggleable {background-color: white;}#sk-container-id-3 label.sk-toggleable__label {cursor: pointer;display: block;width: 100%;margin-bottom: 0;padding: 0.3em;box-sizing: border-box;text-align: center;}#sk-container-id-3 label.sk-toggleable__label-arrow:before {content: \"▸\";float: left;margin-right: 0.25em;color: #696969;}#sk-container-id-3 label.sk-toggleable__label-arrow:hover:before {color: black;}#sk-container-id-3 div.sk-estimator:hover label.sk-toggleable__label-arrow:before {color: black;}#sk-container-id-3 div.sk-toggleable__content {max-height: 0;max-width: 0;overflow: hidden;text-align: left;background-color: #f0f8ff;}#sk-container-id-3 div.sk-toggleable__content pre {margin: 0.2em;color: black;border-radius: 0.25em;background-color: #f0f8ff;}#sk-container-id-3 input.sk-toggleable__control:checked~div.sk-toggleable__content {max-height: 200px;max-width: 100%;overflow: auto;}#sk-container-id-3 input.sk-toggleable__control:checked~label.sk-toggleable__label-arrow:before {content: \"▾\";}#sk-container-id-3 div.sk-estimator input.sk-toggleable__control:checked~label.sk-toggleable__label {background-color: #d4ebff;}#sk-container-id-3 div.sk-label input.sk-toggleable__control:checked~label.sk-toggleable__label {background-color: #d4ebff;}#sk-container-id-3 input.sk-hidden--visually {border: 0;clip: rect(1px 1px 1px 1px);clip: rect(1px, 1px, 1px, 1px);height: 1px;margin: -1px;overflow: hidden;padding: 0;position: absolute;width: 1px;}#sk-container-id-3 div.sk-estimator {font-family: monospace;background-color: #f0f8ff;border: 1px dotted black;border-radius: 0.25em;box-sizing: border-box;margin-bottom: 0.5em;}#sk-container-id-3 div.sk-estimator:hover {background-color: #d4ebff;}#sk-container-id-3 div.sk-parallel-item::after {content: \"\";width: 100%;border-bottom: 1px solid gray;flex-grow: 1;}#sk-container-id-3 div.sk-label:hover label.sk-toggleable__label {background-color: #d4ebff;}#sk-container-id-3 div.sk-serial::before {content: \"\";position: absolute;border-left: 1px solid gray;box-sizing: border-box;top: 0;bottom: 0;left: 50%;z-index: 0;}#sk-container-id-3 div.sk-serial {display: flex;flex-direction: column;align-items: center;background-color: white;padding-right: 0.2em;padding-left: 0.2em;position: relative;}#sk-container-id-3 div.sk-item {position: relative;z-index: 1;}#sk-container-id-3 div.sk-parallel {display: flex;align-items: stretch;justify-content: center;background-color: white;position: relative;}#sk-container-id-3 div.sk-item::before, #sk-container-id-3 div.sk-parallel-item::before {content: \"\";position: absolute;border-left: 1px solid gray;box-sizing: border-box;top: 0;bottom: 0;left: 50%;z-index: -1;}#sk-container-id-3 div.sk-parallel-item {display: flex;flex-direction: column;z-index: 1;position: relative;background-color: white;}#sk-container-id-3 div.sk-parallel-item:first-child::after {align-self: flex-end;width: 50%;}#sk-container-id-3 div.sk-parallel-item:last-child::after {align-self: flex-start;width: 50%;}#sk-container-id-3 div.sk-parallel-item:only-child::after {width: 0;}#sk-container-id-3 div.sk-dashed-wrapped {border: 1px dashed gray;margin: 0 0.4em 0.5em 0.4em;box-sizing: border-box;padding-bottom: 0.4em;background-color: white;}#sk-container-id-3 div.sk-label label {font-family: monospace;font-weight: bold;display: inline-block;line-height: 1.2em;}#sk-container-id-3 div.sk-label-container {text-align: center;}#sk-container-id-3 div.sk-container {/* jupyter's `normalize.less` sets `[hidden] { display: none; }` but bootstrap.min.css set `[hidden] { display: none !important; }` so we also need the `!important` here to be able to override the default hidden behavior on the sphinx rendered scikit-learn.org. See: https://github.com/scikit-learn/scikit-learn/issues/21755 */display: inline-block !important;position: relative;}#sk-container-id-3 div.sk-text-repr-fallback {display: none;}</style><div id=\"sk-container-id-3\" class=\"sk-top-container\"><div class=\"sk-text-repr-fallback\"><pre>RandomForestRegressor(random_state=42)</pre><b>In a Jupyter environment, please rerun this cell to show the HTML representation or trust the notebook. <br />On GitHub, the HTML representation is unable to render, please try loading this page with nbviewer.org.</b></div><div class=\"sk-container\" hidden><div class=\"sk-item\"><div class=\"sk-estimator sk-toggleable\"><input class=\"sk-toggleable__control sk-hidden--visually\" id=\"sk-estimator-id-3\" type=\"checkbox\" checked><label for=\"sk-estimator-id-3\" class=\"sk-toggleable__label sk-toggleable__label-arrow\">RandomForestRegressor</label><div class=\"sk-toggleable__content\"><pre>RandomForestRegressor(random_state=42)</pre></div></div></div></div></div>"
      ],
      "text/plain": [
       "RandomForestRegressor(random_state=42)"
      ]
     },
     "execution_count": 204,
     "metadata": {},
     "output_type": "execute_result"
    }
   ],
   "source": [
    "rf = RandomForestRegressor(n_estimators=100, random_state=42)\n",
    "rf.fit(X, y)"
   ]
  },
  {
   "cell_type": "code",
   "execution_count": 207,
   "metadata": {},
   "outputs": [],
   "source": [
    "importances = rf.feature_importances_\n",
    "sorted_indices = np.argsort(importances)[::-1]"
   ]
  },
  {
   "cell_type": "code",
   "execution_count": 214,
   "metadata": {},
   "outputs": [
    {
     "data": {
      "image/png": "[encoded data removed]",
      "text/plain": [
       "<Figure size 1400x700 with 1 Axes>"
      ]
     },
     "metadata": {},
     "output_type": "display_data"
    }
   ],
   "source": [
    "plt.figure(figsize=(14, 7))\n",
    "plt.bar(range(len(importances)), importances[sorted_indices], align='center')\n",
    "plt.xticks(range(len(importances)), X.columns[sorted_indices], rotation=90)\n",
    "plt.xlabel('Features')\n",
    "plt.ylabel('Importance')\n",
    "plt.title('Feature Importances')\n",
    "plt.show()"
   ]
  },
  {
   "cell_type": "code",
   "execution_count": 215,
   "metadata": {},
   "outputs": [
    {
     "name": "stdout",
     "output_type": "stream",
     "text": [
      "Feature Importances:\n",
      "high: 0.4847590295102007\n",
      "low: 0.3171194615735006\n",
      "ema_7: 0.04947327938523762\n",
      "ema_12: 0.03131760567863966\n",
      "sma_7: 0.024902095098624094\n",
      "ema_200: 0.015991083797811938\n",
      "lower_band: 0.013396580383359764\n",
      "ema_50: 0.011555598188430428\n",
      "ema_26: 0.011397263655641986\n",
      "ema_21: 0.009321964211827165\n",
      "sma_21: 0.008576287341656875\n",
      "open: 0.008472350766729858\n",
      "sma_200: 0.0060855103788758635\n",
      "sma_50: 0.003761324924223311\n",
      "upper_band: 0.003166347552265603\n",
      "returns: 0.00017540849795733536\n",
      "macd: 0.00015294032581584325\n",
      "macd_signal: 7.301399055855505e-05\n",
      "std_returns_252: 6.924532662991371e-05\n",
      "rsi_14: 4.899210278342069e-05\n",
      "momentum_21: 4.32075053099583e-05\n",
      "std_returns_21: 4.231080269502735e-05\n",
      "adx: 3.6029039219494226e-05\n",
      "volume: 3.246082712786139e-05\n",
      "momentum_7: 3.060913487711336e-05\n"
     ]
    }
   ],
   "source": [
    "print('Feature Importances:')\n",
    "for i in range(len(importances)):\n",
    "    print(f'{X.columns[sorted_indices[i]]}: {importances[sorted_indices[i]]}')"
   ]
  },
  {
   "cell_type": "code",
   "execution_count": null,
   "metadata": {},
   "outputs": [],
   "source": []
  }
 ],
 "metadata": {
  "kernelspec": {
   "display_name": "base",
   "language": "python",
   "name": "python3"
  },
  "language_info": {
   "codemirror_mode": {
    "name": "ipython",
    "version": 3
   },
   "file_extension": ".py",
   "mimetype": "text/x-python",
   "name": "python",
   "nbconvert_exporter": "python",
   "pygments_lexer": "ipython3",
   "version": "3.11.9"
  }
 },
 "nbformat": 4,
 "nbformat_minor": 2
}
