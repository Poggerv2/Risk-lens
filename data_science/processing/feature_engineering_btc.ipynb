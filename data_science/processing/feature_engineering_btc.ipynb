{
 "cells": [
  {
   "cell_type": "code",
   "execution_count": 127,
   "metadata": {},
   "outputs": [],
   "source": [
    "import pandas as pd\n",
    "import numpy as np\n",
    "import seaborn as sns\n",
    "import matplotlib.pyplot as plt\n",
    "from scipy.stats.mstats import winsorize\n",
    "from xgboost import XGBRegressor\n",
    "from sklearn.model_selection import train_test_split\n",
    "from sklearn.metrics import mean_squared_error, r2_score, mean_absolute_error\n",
    "from sklearn.preprocessing import StandardScaler, MinMaxScaler\n",
    "from sklearn.model_selection import cross_val_score, TimeSeriesSplit\n",
    "from scipy.stats import boxcox\n",
    "from sklearn.preprocessing import PowerTransformer\n",
    "import shap\n",
    "from sklearn.decomposition import PCA\n",
    "from sklearn.preprocessing import StandardScaler"
   ]
  },
  {
   "cell_type": "code",
   "execution_count": 128,
   "metadata": {},
   "outputs": [],
   "source": [
    "def evaluate_model(y_pred_train, y_pred_test, y_train, y_test):\n",
    "    mae_train = mean_absolute_error(y_train, y_pred_train)\n",
    "    mae_test = mean_absolute_error(y_test, y_pred_test)\n",
    "    rmse_train = np.sqrt(mean_squared_error(y_train, y_pred_train))\n",
    "    rmse_test = np.sqrt(mean_squared_error(y_test, y_pred_test))\n",
    "    r2_train = r2_score(y_train, y_pred_train)\n",
    "    r2_test = r2_score(y_test, y_pred_test)\n",
    "    \n",
    "    print(\"MAE train:\", mae_train)\n",
    "    print(\"MAE test:\", mae_test)\n",
    "    print(\"RMSE train:\", rmse_train)\n",
    "    print(\"RMSE test:\", rmse_test)\n",
    "    print(\"R2 train:\", r2_train)\n",
    "    print(\"R2 test:\", r2_test)"
   ]
  },
  {
   "cell_type": "code",
   "execution_count": 129,
   "metadata": {},
   "outputs": [],
   "source": [
    "df = pd.read_csv('../data/raw_data/btc.csv', index_col='date')\n",
    "df.index = pd.to_datetime(df.index)\n",
    "df = df.loc['2019-01-01':'2024-12-31']"
   ]
  },
  {
   "cell_type": "markdown",
   "metadata": {},
   "source": [
    "# Technical indicators"
   ]
  },
  {
   "cell_type": "code",
   "execution_count": 130,
   "metadata": {},
   "outputs": [],
   "source": [
    "cols = ['sma_7', 'sma_21', 'sma_50', 'sma_200']\n",
    "for col in cols:\n",
    "    df[col] = df['close'].rolling(window=int(col.split('_')[1]), min_periods=1).mean()"
   ]
  },
  {
   "cell_type": "code",
   "execution_count": 131,
   "metadata": {},
   "outputs": [],
   "source": [
    "cols = ['ema_7', 'ema_21', 'ema_50', 'ema_200']\n",
    "for col in cols:\n",
    "    df[col] = df['close'].ewm(span=int(col.split('_')[1]), adjust=False).mean()"
   ]
  },
  {
   "cell_type": "code",
   "execution_count": 132,
   "metadata": {},
   "outputs": [],
   "source": [
    "ema_12 = df['close'].ewm(span=12, adjust=False).mean()\n",
    "ema_26 = df['close'].ewm(span=26, adjust=False).mean()\n",
    "df['macd'] = ema_12 - ema_26\n",
    "df['signal'] = df['macd'].ewm(span=9, adjust=False).mean()"
   ]
  },
  {
   "cell_type": "code",
   "execution_count": 133,
   "metadata": {},
   "outputs": [],
   "source": [
    "high_low = df['high'] - df['low']\n",
    "high_close = np.abs(df['high'] - df['close'].shift(1))\n",
    "low_close = np.abs(df['low'] - df['close'].shift(1))"
   ]
  },
  {
   "cell_type": "code",
   "execution_count": 134,
   "metadata": {},
   "outputs": [],
   "source": [
    "true_range = pd.concat([high_low, high_close, low_close], axis=1).max(axis=1)\n",
    "df['atr'] = true_range.ewm(span=14, adjust=False).mean()\n",
    "up_move = df['high'] - df['high'].shift(1)\n",
    "down_move = df['low'].shift(1) - df['low']"
   ]
  },
  {
   "cell_type": "code",
   "execution_count": 135,
   "metadata": {},
   "outputs": [],
   "source": [
    "df['plus_dm'] = np.where((up_move > down_move) & (up_move > 0), up_move, 0)\n",
    "df['minus_dm'] = np.where((down_move > up_move) & (down_move > 0), down_move, 0)"
   ]
  },
  {
   "cell_type": "code",
   "execution_count": 136,
   "metadata": {},
   "outputs": [],
   "source": [
    "plus_dm_smooth = df['plus_dm'].ewm(span=14, adjust=False).mean()\n",
    "minus_dm_smooth = df['minus_dm'].ewm(span=14, adjust=False).mean()"
   ]
  },
  {
   "cell_type": "code",
   "execution_count": 137,
   "metadata": {},
   "outputs": [],
   "source": [
    "df['plus_di'] = 100 * (plus_dm_smooth / df['atr'])\n",
    "df['minus_di'] = 100 * (minus_dm_smooth / df['atr'])"
   ]
  },
  {
   "cell_type": "code",
   "execution_count": 138,
   "metadata": {},
   "outputs": [],
   "source": [
    "di_sum = df['plus_di'] + df['minus_di']\n",
    "df['dx'] = 100 * np.abs(df['plus_di'] - df['minus_di']) / np.where(di_sum == 0, np.nan, di_sum)\n",
    "df['adx'] = df['dx'].ewm(span=14, adjust=False).mean()"
   ]
  },
  {
   "cell_type": "code",
   "execution_count": 139,
   "metadata": {},
   "outputs": [],
   "source": [
    "drop_cols = ['plus_dm', 'minus_dm', 'plus_di', 'minus_di', 'dx']\n",
    "df = df.drop(drop_cols, axis=1)"
   ]
  },
  {
   "cell_type": "code",
   "execution_count": 140,
   "metadata": {},
   "outputs": [],
   "source": [
    "hl2 = (df['high'] + df['low']) / 2"
   ]
  },
  {
   "cell_type": "code",
   "execution_count": 141,
   "metadata": {},
   "outputs": [],
   "source": [
    "df['upper_band'] = hl2 + (3 * df['atr'])\n",
    "df['lower_band'] = hl2 - (3 * df['atr'])"
   ]
  },
  {
   "cell_type": "code",
   "execution_count": 142,
   "metadata": {},
   "outputs": [],
   "source": [
    "df['supertrend'] = np.nan\n",
    "in_uptrend = True"
   ]
  },
  {
   "cell_type": "code",
   "execution_count": 143,
   "metadata": {},
   "outputs": [],
   "source": [
    "for i in range(1, len(df)):\n",
    "    prev_supertrend = df['supertrend'].iloc[i - 1]\n",
    "\n",
    "\n",
    "    if df['close'].iloc[i] > df['upper_band'].iloc[i - 1]:\n",
    "        in_uptrend = True\n",
    "    elif df['close'].iloc[i] < df['lower_band'].iloc[i - 1]:\n",
    "        in_uptrend = False\n",
    "\n",
    "\n",
    "    if in_uptrend:\n",
    "        df.loc[df.index[i], 'supertrend'] = max(df['lower_band'].iloc[i], prev_supertrend if prev_supertrend is not np.nan else df['lower_band'].iloc[i])\n",
    "    else:\n",
    "        df.loc[df.index[i], 'supertrend'] = min(df['upper_band'].iloc[i], prev_supertrend if prev_supertrend is not np.nan else df['upper_band'].iloc[i])\n"
   ]
  },
  {
   "cell_type": "code",
   "execution_count": 144,
   "metadata": {},
   "outputs": [],
   "source": [
    "df.drop(columns=['upper_band', 'lower_band'], inplace=True)"
   ]
  },
  {
   "cell_type": "markdown",
   "metadata": {},
   "source": [
    "# Momentum Indicators"
   ]
  },
  {
   "cell_type": "code",
   "execution_count": 145,
   "metadata": {},
   "outputs": [],
   "source": [
    "delta = df['close'].diff(1)\n",
    "gain = (delta.where(delta > 0, 0)).rolling(window=14).mean()\n",
    "loss = (-delta.where(delta < 0, 0)).rolling(window=14).mean()\n",
    "rs = gain / (loss + 1e-10)\n",
    "df['rsi'] = 100 - (100 / (1 + rs))"
   ]
  },
  {
   "cell_type": "code",
   "execution_count": 146,
   "metadata": {},
   "outputs": [],
   "source": [
    "df['stoch_k'] = 100 * (df['close'] - df['low'].rolling(14).min()) / (df['high'].rolling(14).max() - df['low'].rolling(14).min() + 1e-10)\n",
    "df['stoch_d'] = df['stoch_k'].rolling(3).mean()"
   ]
  },
  {
   "cell_type": "code",
   "execution_count": 147,
   "metadata": {},
   "outputs": [],
   "source": [
    "df['williams_r'] = -100 * ((df['high'].rolling(14).max() - df['close']) / (df['high'].rolling(14).max() - df['low'].rolling(14).min() + 1e-10))"
   ]
  },
  {
   "cell_type": "code",
   "execution_count": 148,
   "metadata": {},
   "outputs": [],
   "source": [
    "tp = (df['high'] + df['low'] + df['close']) / 3\n",
    "mean_dev = lambda x: np.mean(np.abs(x - x.mean()))\n",
    "df['cci'] = (tp - tp.rolling(20).mean()) / (0.015 * tp.rolling(20).apply(mean_dev, raw=True))"
   ]
  },
  {
   "cell_type": "code",
   "execution_count": 149,
   "metadata": {},
   "outputs": [],
   "source": [
    "sma = df['close'].rolling(14).mean()\n",
    "std = df['close'].rolling(14).std()\n",
    "df['boll_upper'] = sma + (2 * std)\n",
    "df['boll_lower'] = sma - (2 * std)"
   ]
  },
  {
   "cell_type": "code",
   "execution_count": 150,
   "metadata": {},
   "outputs": [],
   "source": [
    "df['hist_vol'] = df['close'].pct_change().rolling(14).std() * np.sqrt(252)"
   ]
  },
  {
   "cell_type": "code",
   "execution_count": 151,
   "metadata": {},
   "outputs": [],
   "source": [
    "df['donchian_high'] = df['high'].rolling(20).max()\n",
    "df['donchian_low'] = df['low'].rolling(20).min()"
   ]
  },
  {
   "cell_type": "code",
   "execution_count": 152,
   "metadata": {},
   "outputs": [],
   "source": [
    "df['obv'] = (np.sign(df['close'].diff()) * df['volume']).fillna(0).cumsum()"
   ]
  },
  {
   "cell_type": "code",
   "execution_count": 153,
   "metadata": {},
   "outputs": [],
   "source": [
    "money_flow_multiplier = ((df['close'] - df['low']) - (df['high'] - df['close'])) / (df['high'] - df['low'] + 1e-10)\n",
    "money_flow_volume = money_flow_multiplier * df['volume']\n",
    "df['cmf'] = money_flow_volume.rolling(20).sum() / df['volume'].rolling(20).sum()"
   ]
  },
  {
   "cell_type": "code",
   "execution_count": 154,
   "metadata": {},
   "outputs": [],
   "source": [
    "df['vwap'] = (df['volume'] * (df['high'] + df['low'] + df['close']) / 3).cumsum() / df['volume'].cumsum()"
   ]
  },
  {
   "cell_type": "markdown",
   "metadata": {},
   "source": [
    "# Arithmetic and transformation"
   ]
  },
  {
   "cell_type": "code",
   "execution_count": 155,
   "metadata": {},
   "outputs": [],
   "source": [
    "df['log_close'] = np.log(df['close'])"
   ]
  },
  {
   "cell_type": "code",
   "execution_count": 156,
   "metadata": {},
   "outputs": [],
   "source": [
    "df['log_return'] = np.log(df['close'] / df['close'].shift(1))\n",
    "df['simple_return'] = df['close'].pct_change()\n",
    "df['log_momentum'] = np.log(df['close']) - np.log(df['close'].shift(5))\n",
    "df['price_zscore'] = (df['close'] - df['close'].rolling(window=14).mean()) / \\\n",
    "                         (df['close'].rolling(window=14).std() + 1e-10)"
   ]
  },
  {
   "cell_type": "code",
   "execution_count": 157,
   "metadata": {},
   "outputs": [],
   "source": [
    "df['log_volume'] = np.log(df['volume'] + 1e-10)\n",
    "df['volume_zscore'] = (df['volume'] - df['volume'].rolling(window=14).mean()) / \\\n",
    "                          (df['volume'].rolling(window=14).std() + 1e-10)\n",
    "df['vol_price_ratio'] = df['volume'] / (df['close'].diff().abs() + 1e-10)"
   ]
  },
  {
   "cell_type": "code",
   "execution_count": 158,
   "metadata": {},
   "outputs": [],
   "source": [
    "df['roc_volatility'] = df['hist_vol'].pct_change()\n",
    "df['hist_vol'] = df['log_return'].rolling(window=14).std() * np.sqrt(252)\n",
    "df['roc_volatility'] = df['hist_vol'].pct_change()\n",
    "df['roc_volume'] = df['volume'].pct_change()"
   ]
  },
  {
   "cell_type": "code",
   "execution_count": 159,
   "metadata": {},
   "outputs": [],
   "source": [
    "columns_to_lag = ['close', 'volume', 'rsi', 'macd', 'atr', 'adx']\n",
    "lags = [1, 2, 3]"
   ]
  },
  {
   "cell_type": "code",
   "execution_count": 160,
   "metadata": {},
   "outputs": [],
   "source": [
    "for col in columns_to_lag:\n",
    "    for lag in lags:\n",
    "        df[f'{col}_lag{lag}'] = df[col].shift(lag)"
   ]
  },
  {
   "cell_type": "code",
   "execution_count": 161,
   "metadata": {},
   "outputs": [],
   "source": [
    "df['log_return'] = np.log(df['close'] / df['close'].shift(1))"
   ]
  },
  {
   "cell_type": "code",
   "execution_count": 162,
   "metadata": {},
   "outputs": [],
   "source": [
    "windows = [5, 10, 20, 50]\n",
    "for window in windows:\n",
    "    df[f'log_return_ma_{window}'] = df['log_return'].rolling(window=window).mean()"
   ]
  },
  {
   "cell_type": "code",
   "execution_count": 163,
   "metadata": {},
   "outputs": [],
   "source": [
    "df = df.loc['2020-01-01':'2024-12-31']"
   ]
  },
  {
   "cell_type": "code",
   "execution_count": 164,
   "metadata": {},
   "outputs": [
    {
     "data": {
      "text/plain": [
       "0"
      ]
     },
     "execution_count": 164,
     "metadata": {},
     "output_type": "execute_result"
    }
   ],
   "source": [
    "df.isna().sum().sum()"
   ]
  },
  {
   "cell_type": "code",
   "execution_count": 165,
   "metadata": {},
   "outputs": [
    {
     "data": {
      "text/html": [
       "<div>\n",
       "<style scoped>\n",
       "    .dataframe tbody tr th:only-of-type {\n",
       "        vertical-align: middle;\n",
       "    }\n",
       "\n",
       "    .dataframe tbody tr th {\n",
       "        vertical-align: top;\n",
       "    }\n",
       "\n",
       "    .dataframe thead th {\n",
       "        text-align: right;\n",
       "    }\n",
       "</style>\n",
       "<table border=\"1\" class=\"dataframe\">\n",
       "  <thead>\n",
       "    <tr style=\"text-align: right;\">\n",
       "      <th></th>\n",
       "      <th>open</th>\n",
       "      <th>high</th>\n",
       "      <th>low</th>\n",
       "      <th>close</th>\n",
       "      <th>volume</th>\n",
       "      <th>sma_7</th>\n",
       "      <th>sma_21</th>\n",
       "      <th>sma_50</th>\n",
       "      <th>sma_200</th>\n",
       "      <th>ema_7</th>\n",
       "      <th>ema_21</th>\n",
       "      <th>ema_50</th>\n",
       "      <th>ema_200</th>\n",
       "      <th>macd</th>\n",
       "      <th>signal</th>\n",
       "      <th>atr</th>\n",
       "      <th>adx</th>\n",
       "      <th>supertrend</th>\n",
       "      <th>rsi</th>\n",
       "      <th>stoch_k</th>\n",
       "      <th>stoch_d</th>\n",
       "      <th>williams_r</th>\n",
       "      <th>cci</th>\n",
       "      <th>boll_upper</th>\n",
       "      <th>boll_lower</th>\n",
       "      <th>hist_vol</th>\n",
       "      <th>donchian_high</th>\n",
       "      <th>donchian_low</th>\n",
       "      <th>obv</th>\n",
       "      <th>cmf</th>\n",
       "      <th>vwap</th>\n",
       "      <th>log_close</th>\n",
       "      <th>log_return</th>\n",
       "      <th>simple_return</th>\n",
       "      <th>log_momentum</th>\n",
       "      <th>price_zscore</th>\n",
       "      <th>log_volume</th>\n",
       "      <th>volume_zscore</th>\n",
       "      <th>vol_price_ratio</th>\n",
       "      <th>roc_volatility</th>\n",
       "      <th>roc_volume</th>\n",
       "      <th>close_lag1</th>\n",
       "      <th>close_lag2</th>\n",
       "      <th>close_lag3</th>\n",
       "      <th>volume_lag1</th>\n",
       "      <th>volume_lag2</th>\n",
       "      <th>volume_lag3</th>\n",
       "      <th>rsi_lag1</th>\n",
       "      <th>rsi_lag2</th>\n",
       "      <th>rsi_lag3</th>\n",
       "      <th>macd_lag1</th>\n",
       "      <th>macd_lag2</th>\n",
       "      <th>macd_lag3</th>\n",
       "      <th>atr_lag1</th>\n",
       "      <th>atr_lag2</th>\n",
       "      <th>atr_lag3</th>\n",
       "      <th>adx_lag1</th>\n",
       "      <th>adx_lag2</th>\n",
       "      <th>adx_lag3</th>\n",
       "      <th>log_return_ma_5</th>\n",
       "      <th>log_return_ma_10</th>\n",
       "      <th>log_return_ma_20</th>\n",
       "      <th>log_return_ma_50</th>\n",
       "    </tr>\n",
       "  </thead>\n",
       "  <tbody>\n",
       "    <tr>\n",
       "      <th>count</th>\n",
       "      <td>1827.000000</td>\n",
       "      <td>1827.000000</td>\n",
       "      <td>1827.000000</td>\n",
       "      <td>1827.000000</td>\n",
       "      <td>1827.000000</td>\n",
       "      <td>1827.000000</td>\n",
       "      <td>1827.000000</td>\n",
       "      <td>1827.000000</td>\n",
       "      <td>1827.000000</td>\n",
       "      <td>1827.000000</td>\n",
       "      <td>1827.000000</td>\n",
       "      <td>1827.000000</td>\n",
       "      <td>1827.000000</td>\n",
       "      <td>1827.000000</td>\n",
       "      <td>1827.000000</td>\n",
       "      <td>1827.000000</td>\n",
       "      <td>1827.000000</td>\n",
       "      <td>1827.000000</td>\n",
       "      <td>1827.000000</td>\n",
       "      <td>1827.000000</td>\n",
       "      <td>1827.000000</td>\n",
       "      <td>1827.000000</td>\n",
       "      <td>1827.000000</td>\n",
       "      <td>1827.000000</td>\n",
       "      <td>1827.000000</td>\n",
       "      <td>1827.000000</td>\n",
       "      <td>1827.000000</td>\n",
       "      <td>1827.000000</td>\n",
       "      <td>1.827000e+03</td>\n",
       "      <td>1827.000000</td>\n",
       "      <td>1827.000000</td>\n",
       "      <td>1827.000000</td>\n",
       "      <td>1827.000000</td>\n",
       "      <td>1827.000000</td>\n",
       "      <td>1827.000000</td>\n",
       "      <td>1827.000000</td>\n",
       "      <td>1827.000000</td>\n",
       "      <td>1827.000000</td>\n",
       "      <td>1827.000000</td>\n",
       "      <td>1827.000000</td>\n",
       "      <td>1827.000000</td>\n",
       "      <td>1827.000000</td>\n",
       "      <td>1827.000000</td>\n",
       "      <td>1827.000000</td>\n",
       "      <td>1827.000000</td>\n",
       "      <td>1827.000000</td>\n",
       "      <td>1827.000000</td>\n",
       "      <td>1827.000000</td>\n",
       "      <td>1827.000000</td>\n",
       "      <td>1827.000000</td>\n",
       "      <td>1827.000000</td>\n",
       "      <td>1827.000000</td>\n",
       "      <td>1827.000000</td>\n",
       "      <td>1827.000000</td>\n",
       "      <td>1827.000000</td>\n",
       "      <td>1827.000000</td>\n",
       "      <td>1827.000000</td>\n",
       "      <td>1827.000000</td>\n",
       "      <td>1827.000000</td>\n",
       "      <td>1827.000000</td>\n",
       "      <td>1827.000000</td>\n",
       "      <td>1827.000000</td>\n",
       "      <td>1827.000000</td>\n",
       "    </tr>\n",
       "    <tr>\n",
       "      <th>mean</th>\n",
       "      <td>36256.876650</td>\n",
       "      <td>37112.128533</td>\n",
       "      <td>35359.703810</td>\n",
       "      <td>36304.237718</td>\n",
       "      <td>84424.512317</td>\n",
       "      <td>36162.080827</td>\n",
       "      <td>35815.381859</td>\n",
       "      <td>35093.586058</td>\n",
       "      <td>32488.348751</td>\n",
       "      <td>36160.724066</td>\n",
       "      <td>35815.733293</td>\n",
       "      <td>35155.027385</td>\n",
       "      <td>32599.946667</td>\n",
       "      <td>343.250980</td>\n",
       "      <td>342.353140</td>\n",
       "      <td>1739.975866</td>\n",
       "      <td>37.194613</td>\n",
       "      <td>38305.086512</td>\n",
       "      <td>53.810393</td>\n",
       "      <td>56.100303</td>\n",
       "      <td>56.127706</td>\n",
       "      <td>-43.899697</td>\n",
       "      <td>18.286471</td>\n",
       "      <td>39207.128978</td>\n",
       "      <td>32776.128415</td>\n",
       "      <td>0.488266</td>\n",
       "      <td>39806.598911</td>\n",
       "      <td>31602.620005</td>\n",
       "      <td>1.371883e+06</td>\n",
       "      <td>0.077284</td>\n",
       "      <td>19798.488592</td>\n",
       "      <td>10.301061</td>\n",
       "      <td>0.001404</td>\n",
       "      <td>0.001998</td>\n",
       "      <td>0.006999</td>\n",
       "      <td>0.190326</td>\n",
       "      <td>10.970377</td>\n",
       "      <td>-0.009934</td>\n",
       "      <td>1710.860207</td>\n",
       "      <td>0.007362</td>\n",
       "      <td>0.109595</td>\n",
       "      <td>36256.957603</td>\n",
       "      <td>36210.134368</td>\n",
       "      <td>36162.871117</td>\n",
       "      <td>84427.983812</td>\n",
       "      <td>84429.071107</td>\n",
       "      <td>84438.819931</td>\n",
       "      <td>53.831795</td>\n",
       "      <td>53.850735</td>\n",
       "      <td>53.865409</td>\n",
       "      <td>343.589557</td>\n",
       "      <td>343.838013</td>\n",
       "      <td>343.921310</td>\n",
       "      <td>1738.060654</td>\n",
       "      <td>1736.191099</td>\n",
       "      <td>1734.312292</td>\n",
       "      <td>37.190548</td>\n",
       "      <td>37.187102</td>\n",
       "      <td>37.184680</td>\n",
       "      <td>0.001400</td>\n",
       "      <td>0.001407</td>\n",
       "      <td>0.001431</td>\n",
       "      <td>0.001400</td>\n",
       "    </tr>\n",
       "    <tr>\n",
       "      <th>std</th>\n",
       "      <td>21084.475307</td>\n",
       "      <td>21559.099335</td>\n",
       "      <td>20600.051669</td>\n",
       "      <td>21116.123701</td>\n",
       "      <td>91573.040113</td>\n",
       "      <td>20973.230136</td>\n",
       "      <td>20596.292702</td>\n",
       "      <td>19733.131654</td>\n",
       "      <td>17292.369237</td>\n",
       "      <td>20944.866640</td>\n",
       "      <td>20508.163742</td>\n",
       "      <td>19641.944516</td>\n",
       "      <td>16727.448000</td>\n",
       "      <td>1590.002480</td>\n",
       "      <td>1514.296266</td>\n",
       "      <td>1194.861501</td>\n",
       "      <td>14.143431</td>\n",
       "      <td>21680.708102</td>\n",
       "      <td>17.755880</td>\n",
       "      <td>28.333075</td>\n",
       "      <td>26.454435</td>\n",
       "      <td>28.333075</td>\n",
       "      <td>115.061953</td>\n",
       "      <td>22594.114844</td>\n",
       "      <td>19189.724880</td>\n",
       "      <td>0.254562</td>\n",
       "      <td>22727.744091</td>\n",
       "      <td>18387.303362</td>\n",
       "      <td>2.160136e+06</td>\n",
       "      <td>0.132144</td>\n",
       "      <td>6472.840883</td>\n",
       "      <td>0.674113</td>\n",
       "      <td>0.034697</td>\n",
       "      <td>0.034038</td>\n",
       "      <td>0.075692</td>\n",
       "      <td>1.255144</td>\n",
       "      <td>0.817774</td>\n",
       "      <td>1.010700</td>\n",
       "      <td>25973.311025</td>\n",
       "      <td>0.142237</td>\n",
       "      <td>0.562021</td>\n",
       "      <td>21084.500848</td>\n",
       "      <td>21053.847810</td>\n",
       "      <td>21021.531404</td>\n",
       "      <td>91570.701944</td>\n",
       "      <td>91570.038830</td>\n",
       "      <td>91563.439341</td>\n",
       "      <td>17.745622</td>\n",
       "      <td>17.731884</td>\n",
       "      <td>17.722609</td>\n",
       "      <td>1589.851680</td>\n",
       "      <td>1589.754017</td>\n",
       "      <td>1589.729021</td>\n",
       "      <td>1194.457168</td>\n",
       "      <td>1194.108672</td>\n",
       "      <td>1193.726693</td>\n",
       "      <td>14.144990</td>\n",
       "      <td>14.146137</td>\n",
       "      <td>14.147161</td>\n",
       "      <td>0.015138</td>\n",
       "      <td>0.010877</td>\n",
       "      <td>0.007898</td>\n",
       "      <td>0.005311</td>\n",
       "    </tr>\n",
       "    <tr>\n",
       "      <th>min</th>\n",
       "      <td>4800.010000</td>\n",
       "      <td>5365.420000</td>\n",
       "      <td>3782.130000</td>\n",
       "      <td>4800.000000</td>\n",
       "      <td>7308.955420</td>\n",
       "      <td>5235.230000</td>\n",
       "      <td>5979.630952</td>\n",
       "      <td>6674.473000</td>\n",
       "      <td>7970.825550</td>\n",
       "      <td>5672.180259</td>\n",
       "      <td>6544.861232</td>\n",
       "      <td>7124.231127</td>\n",
       "      <td>7860.463590</td>\n",
       "      <td>-5073.278718</td>\n",
       "      <td>-4435.851793</td>\n",
       "      <td>152.111634</td>\n",
       "      <td>13.540053</td>\n",
       "      <td>7736.080642</td>\n",
       "      <td>6.289216</td>\n",
       "      <td>0.248844</td>\n",
       "      <td>2.541840</td>\n",
       "      <td>-99.751156</td>\n",
       "      <td>-511.950377</td>\n",
       "      <td>6938.214189</td>\n",
       "      <td>3416.799575</td>\n",
       "      <td>0.085700</td>\n",
       "      <td>6957.960000</td>\n",
       "      <td>3782.130000</td>\n",
       "      <td>-3.852503e+06</td>\n",
       "      <td>-0.314284</td>\n",
       "      <td>7745.875314</td>\n",
       "      <td>8.476371</td>\n",
       "      <td>-0.502607</td>\n",
       "      <td>-0.395048</td>\n",
       "      <td>-0.615935</td>\n",
       "      <td>-3.271189</td>\n",
       "      <td>8.896856</td>\n",
       "      <td>-2.466072</td>\n",
       "      <td>5.825280</td>\n",
       "      <td>-0.563649</td>\n",
       "      <td>-0.804273</td>\n",
       "      <td>4800.000000</td>\n",
       "      <td>4800.000000</td>\n",
       "      <td>4800.000000</td>\n",
       "      <td>7308.955420</td>\n",
       "      <td>7308.955420</td>\n",
       "      <td>7308.955420</td>\n",
       "      <td>6.289216</td>\n",
       "      <td>6.289216</td>\n",
       "      <td>6.289216</td>\n",
       "      <td>-5073.278718</td>\n",
       "      <td>-5073.278718</td>\n",
       "      <td>-5073.278718</td>\n",
       "      <td>152.111634</td>\n",
       "      <td>152.111634</td>\n",
       "      <td>152.111634</td>\n",
       "      <td>13.540053</td>\n",
       "      <td>13.540053</td>\n",
       "      <td>13.540053</td>\n",
       "      <td>-0.123187</td>\n",
       "      <td>-0.061915</td>\n",
       "      <td>-0.035057</td>\n",
       "      <td>-0.014205</td>\n",
       "    </tr>\n",
       "    <tr>\n",
       "      <th>25%</th>\n",
       "      <td>19580.470000</td>\n",
       "      <td>20144.220000</td>\n",
       "      <td>19158.210000</td>\n",
       "      <td>19610.295000</td>\n",
       "      <td>33626.828065</td>\n",
       "      <td>19744.062857</td>\n",
       "      <td>19675.870714</td>\n",
       "      <td>19598.717600</td>\n",
       "      <td>19717.751000</td>\n",
       "      <td>19764.636178</td>\n",
       "      <td>19691.822728</td>\n",
       "      <td>19927.855291</td>\n",
       "      <td>21552.613495</td>\n",
       "      <td>-461.972826</td>\n",
       "      <td>-422.397420</td>\n",
       "      <td>722.953812</td>\n",
       "      <td>26.469912</td>\n",
       "      <td>20599.023799</td>\n",
       "      <td>41.432064</td>\n",
       "      <td>31.112152</td>\n",
       "      <td>33.043232</td>\n",
       "      <td>-68.887848</td>\n",
       "      <td>-67.805689</td>\n",
       "      <td>21505.109878</td>\n",
       "      <td>18187.594941</td>\n",
       "      <td>0.329614</td>\n",
       "      <td>21603.725000</td>\n",
       "      <td>17622.000000</td>\n",
       "      <td>-6.427062e+05</td>\n",
       "      <td>-0.016748</td>\n",
       "      <td>15486.504959</td>\n",
       "      <td>9.883810</td>\n",
       "      <td>-0.013052</td>\n",
       "      <td>-0.012967</td>\n",
       "      <td>-0.029007</td>\n",
       "      <td>-0.803530</td>\n",
       "      <td>10.423079</td>\n",
       "      <td>-0.748948</td>\n",
       "      <td>45.408244</td>\n",
       "      <td>-0.023324</td>\n",
       "      <td>-0.239523</td>\n",
       "      <td>19580.955000</td>\n",
       "      <td>19563.005000</td>\n",
       "      <td>19552.735000</td>\n",
       "      <td>33626.828065</td>\n",
       "      <td>33626.828065</td>\n",
       "      <td>33626.828065</td>\n",
       "      <td>41.488546</td>\n",
       "      <td>41.566667</td>\n",
       "      <td>41.619820</td>\n",
       "      <td>-459.901826</td>\n",
       "      <td>-457.637380</td>\n",
       "      <td>-457.637380</td>\n",
       "      <td>720.881818</td>\n",
       "      <td>719.195147</td>\n",
       "      <td>717.857763</td>\n",
       "      <td>26.469912</td>\n",
       "      <td>26.469912</td>\n",
       "      <td>26.469912</td>\n",
       "      <td>-0.005801</td>\n",
       "      <td>-0.004158</td>\n",
       "      <td>-0.002681</td>\n",
       "      <td>-0.001965</td>\n",
       "    </tr>\n",
       "    <tr>\n",
       "      <th>50%</th>\n",
       "      <td>32176.450000</td>\n",
       "      <td>33340.000000</td>\n",
       "      <td>30837.370000</td>\n",
       "      <td>32254.200000</td>\n",
       "      <td>52601.052750</td>\n",
       "      <td>32305.900000</td>\n",
       "      <td>32841.221429</td>\n",
       "      <td>30956.414200</td>\n",
       "      <td>30166.559800</td>\n",
       "      <td>32572.532726</td>\n",
       "      <td>32710.514419</td>\n",
       "      <td>31334.764809</td>\n",
       "      <td>30720.346974</td>\n",
       "      <td>179.011984</td>\n",
       "      <td>179.219309</td>\n",
       "      <td>1476.965979</td>\n",
       "      <td>34.811825</td>\n",
       "      <td>31599.150229</td>\n",
       "      <td>52.883966</td>\n",
       "      <td>57.545666</td>\n",
       "      <td>58.159886</td>\n",
       "      <td>-42.454334</td>\n",
       "      <td>25.879857</td>\n",
       "      <td>35825.715698</td>\n",
       "      <td>29121.900139</td>\n",
       "      <td>0.448323</td>\n",
       "      <td>36600.000000</td>\n",
       "      <td>28585.700000</td>\n",
       "      <td>1.037988e+06</td>\n",
       "      <td>0.073199</td>\n",
       "      <td>23138.820102</td>\n",
       "      <td>10.381404</td>\n",
       "      <td>0.000781</td>\n",
       "      <td>0.000781</td>\n",
       "      <td>0.005880</td>\n",
       "      <td>0.216332</td>\n",
       "      <td>10.870491</td>\n",
       "      <td>-0.147112</td>\n",
       "      <td>133.667312</td>\n",
       "      <td>-0.000121</td>\n",
       "      <td>-0.009081</td>\n",
       "      <td>32178.330000</td>\n",
       "      <td>32144.510000</td>\n",
       "      <td>32078.000000</td>\n",
       "      <td>52601.052750</td>\n",
       "      <td>52601.052750</td>\n",
       "      <td>52601.052750</td>\n",
       "      <td>52.911903</td>\n",
       "      <td>52.928397</td>\n",
       "      <td>52.949656</td>\n",
       "      <td>179.011984</td>\n",
       "      <td>179.011984</td>\n",
       "      <td>179.011984</td>\n",
       "      <td>1476.950087</td>\n",
       "      <td>1476.770234</td>\n",
       "      <td>1475.238992</td>\n",
       "      <td>34.769962</td>\n",
       "      <td>34.737297</td>\n",
       "      <td>34.737297</td>\n",
       "      <td>0.001176</td>\n",
       "      <td>0.001222</td>\n",
       "      <td>0.001113</td>\n",
       "      <td>0.001259</td>\n",
       "    </tr>\n",
       "    <tr>\n",
       "      <th>75%</th>\n",
       "      <td>50645.195000</td>\n",
       "      <td>51918.165000</td>\n",
       "      <td>48914.600000</td>\n",
       "      <td>50722.795000</td>\n",
       "      <td>88034.883112</td>\n",
       "      <td>50597.318571</td>\n",
       "      <td>49833.028095</td>\n",
       "      <td>49402.788100</td>\n",
       "      <td>45907.560875</td>\n",
       "      <td>50554.853738</td>\n",
       "      <td>49802.599165</td>\n",
       "      <td>49300.022741</td>\n",
       "      <td>44660.488834</td>\n",
       "      <td>1090.779607</td>\n",
       "      <td>1081.268090</td>\n",
       "      <td>2573.214238</td>\n",
       "      <td>45.126290</td>\n",
       "      <td>59082.577138</td>\n",
       "      <td>66.270626</td>\n",
       "      <td>82.552215</td>\n",
       "      <td>80.524652</td>\n",
       "      <td>-17.447785</td>\n",
       "      <td>103.830471</td>\n",
       "      <td>58070.487070</td>\n",
       "      <td>44936.346381</td>\n",
       "      <td>0.579598</td>\n",
       "      <td>58352.800000</td>\n",
       "      <td>42843.050000</td>\n",
       "      <td>3.645635e+06</td>\n",
       "      <td>0.166734</td>\n",
       "      <td>24335.868707</td>\n",
       "      <td>10.834131</td>\n",
       "      <td>0.016548</td>\n",
       "      <td>0.016686</td>\n",
       "      <td>0.047794</td>\n",
       "      <td>1.204980</td>\n",
       "      <td>11.385488</td>\n",
       "      <td>0.554318</td>\n",
       "      <td>458.888600</td>\n",
       "      <td>0.023421</td>\n",
       "      <td>0.316905</td>\n",
       "      <td>50645.195000</td>\n",
       "      <td>50530.070000</td>\n",
       "      <td>50456.555000</td>\n",
       "      <td>88034.883112</td>\n",
       "      <td>88034.883112</td>\n",
       "      <td>88034.883112</td>\n",
       "      <td>66.270626</td>\n",
       "      <td>66.270626</td>\n",
       "      <td>66.270626</td>\n",
       "      <td>1090.779607</td>\n",
       "      <td>1090.779607</td>\n",
       "      <td>1090.779607</td>\n",
       "      <td>2570.971349</td>\n",
       "      <td>2569.779221</td>\n",
       "      <td>2568.970925</td>\n",
       "      <td>45.126290</td>\n",
       "      <td>45.126290</td>\n",
       "      <td>45.126290</td>\n",
       "      <td>0.009559</td>\n",
       "      <td>0.007183</td>\n",
       "      <td>0.005799</td>\n",
       "      <td>0.005238</td>\n",
       "    </tr>\n",
       "    <tr>\n",
       "      <th>max</th>\n",
       "      <td>106133.740000</td>\n",
       "      <td>108353.000000</td>\n",
       "      <td>105321.490000</td>\n",
       "      <td>106133.740000</td>\n",
       "      <td>760705.362783</td>\n",
       "      <td>102947.132857</td>\n",
       "      <td>99669.127143</td>\n",
       "      <td>96466.647600</td>\n",
       "      <td>71526.983700</td>\n",
       "      <td>103339.980452</td>\n",
       "      <td>99365.863041</td>\n",
       "      <td>93253.109479</td>\n",
       "      <td>76167.066252</td>\n",
       "      <td>7019.055192</td>\n",
       "      <td>6402.010447</td>\n",
       "      <td>6229.401929</td>\n",
       "      <td>81.493589</td>\n",
       "      <td>95071.314171</td>\n",
       "      <td>99.426709</td>\n",
       "      <td>99.911728</td>\n",
       "      <td>97.341293</td>\n",
       "      <td>-0.088272</td>\n",
       "      <td>374.081380</td>\n",
       "      <td>107428.964973</td>\n",
       "      <td>94979.205880</td>\n",
       "      <td>2.500339</td>\n",
       "      <td>108353.000000</td>\n",
       "      <td>92232.540000</td>\n",
       "      <td>5.150681e+06</td>\n",
       "      <td>0.413846</td>\n",
       "      <td>26720.029784</td>\n",
       "      <td>11.572455</td>\n",
       "      <td>0.178449</td>\n",
       "      <td>0.195361</td>\n",
       "      <td>0.228535</td>\n",
       "      <td>3.035445</td>\n",
       "      <td>13.542001</td>\n",
       "      <td>3.401734</td>\n",
       "      <td>991172.194912</td>\n",
       "      <td>3.078486</td>\n",
       "      <td>5.342227</td>\n",
       "      <td>106133.740000</td>\n",
       "      <td>106133.740000</td>\n",
       "      <td>106133.740000</td>\n",
       "      <td>760705.362783</td>\n",
       "      <td>760705.362783</td>\n",
       "      <td>760705.362783</td>\n",
       "      <td>99.426709</td>\n",
       "      <td>99.426709</td>\n",
       "      <td>99.426709</td>\n",
       "      <td>7019.055192</td>\n",
       "      <td>7019.055192</td>\n",
       "      <td>7019.055192</td>\n",
       "      <td>6229.401929</td>\n",
       "      <td>6229.401929</td>\n",
       "      <td>6229.401929</td>\n",
       "      <td>81.493589</td>\n",
       "      <td>81.493589</td>\n",
       "      <td>81.493589</td>\n",
       "      <td>0.045707</td>\n",
       "      <td>0.039335</td>\n",
       "      <td>0.026893</td>\n",
       "      <td>0.016480</td>\n",
       "    </tr>\n",
       "  </tbody>\n",
       "</table>\n",
       "</div>"
      ],
      "text/plain": [
       "                open           high            low          close  \\\n",
       "count    1827.000000    1827.000000    1827.000000    1827.000000   \n",
       "mean    36256.876650   37112.128533   35359.703810   36304.237718   \n",
       "std     21084.475307   21559.099335   20600.051669   21116.123701   \n",
       "min      4800.010000    5365.420000    3782.130000    4800.000000   \n",
       "25%     19580.470000   20144.220000   19158.210000   19610.295000   \n",
       "50%     32176.450000   33340.000000   30837.370000   32254.200000   \n",
       "75%     50645.195000   51918.165000   48914.600000   50722.795000   \n",
       "max    106133.740000  108353.000000  105321.490000  106133.740000   \n",
       "\n",
       "              volume          sma_7        sma_21        sma_50       sma_200  \\\n",
       "count    1827.000000    1827.000000   1827.000000   1827.000000   1827.000000   \n",
       "mean    84424.512317   36162.080827  35815.381859  35093.586058  32488.348751   \n",
       "std     91573.040113   20973.230136  20596.292702  19733.131654  17292.369237   \n",
       "min      7308.955420    5235.230000   5979.630952   6674.473000   7970.825550   \n",
       "25%     33626.828065   19744.062857  19675.870714  19598.717600  19717.751000   \n",
       "50%     52601.052750   32305.900000  32841.221429  30956.414200  30166.559800   \n",
       "75%     88034.883112   50597.318571  49833.028095  49402.788100  45907.560875   \n",
       "max    760705.362783  102947.132857  99669.127143  96466.647600  71526.983700   \n",
       "\n",
       "               ema_7        ema_21        ema_50       ema_200         macd  \\\n",
       "count    1827.000000   1827.000000   1827.000000   1827.000000  1827.000000   \n",
       "mean    36160.724066  35815.733293  35155.027385  32599.946667   343.250980   \n",
       "std     20944.866640  20508.163742  19641.944516  16727.448000  1590.002480   \n",
       "min      5672.180259   6544.861232   7124.231127   7860.463590 -5073.278718   \n",
       "25%     19764.636178  19691.822728  19927.855291  21552.613495  -461.972826   \n",
       "50%     32572.532726  32710.514419  31334.764809  30720.346974   179.011984   \n",
       "75%     50554.853738  49802.599165  49300.022741  44660.488834  1090.779607   \n",
       "max    103339.980452  99365.863041  93253.109479  76167.066252  7019.055192   \n",
       "\n",
       "            signal          atr          adx    supertrend          rsi  \\\n",
       "count  1827.000000  1827.000000  1827.000000   1827.000000  1827.000000   \n",
       "mean    342.353140  1739.975866    37.194613  38305.086512    53.810393   \n",
       "std    1514.296266  1194.861501    14.143431  21680.708102    17.755880   \n",
       "min   -4435.851793   152.111634    13.540053   7736.080642     6.289216   \n",
       "25%    -422.397420   722.953812    26.469912  20599.023799    41.432064   \n",
       "50%     179.219309  1476.965979    34.811825  31599.150229    52.883966   \n",
       "75%    1081.268090  2573.214238    45.126290  59082.577138    66.270626   \n",
       "max    6402.010447  6229.401929    81.493589  95071.314171    99.426709   \n",
       "\n",
       "           stoch_k      stoch_d   williams_r          cci     boll_upper  \\\n",
       "count  1827.000000  1827.000000  1827.000000  1827.000000    1827.000000   \n",
       "mean     56.100303    56.127706   -43.899697    18.286471   39207.128978   \n",
       "std      28.333075    26.454435    28.333075   115.061953   22594.114844   \n",
       "min       0.248844     2.541840   -99.751156  -511.950377    6938.214189   \n",
       "25%      31.112152    33.043232   -68.887848   -67.805689   21505.109878   \n",
       "50%      57.545666    58.159886   -42.454334    25.879857   35825.715698   \n",
       "75%      82.552215    80.524652   -17.447785   103.830471   58070.487070   \n",
       "max      99.911728    97.341293    -0.088272   374.081380  107428.964973   \n",
       "\n",
       "         boll_lower     hist_vol  donchian_high  donchian_low           obv  \\\n",
       "count   1827.000000  1827.000000    1827.000000   1827.000000  1.827000e+03   \n",
       "mean   32776.128415     0.488266   39806.598911  31602.620005  1.371883e+06   \n",
       "std    19189.724880     0.254562   22727.744091  18387.303362  2.160136e+06   \n",
       "min     3416.799575     0.085700    6957.960000   3782.130000 -3.852503e+06   \n",
       "25%    18187.594941     0.329614   21603.725000  17622.000000 -6.427062e+05   \n",
       "50%    29121.900139     0.448323   36600.000000  28585.700000  1.037988e+06   \n",
       "75%    44936.346381     0.579598   58352.800000  42843.050000  3.645635e+06   \n",
       "max    94979.205880     2.500339  108353.000000  92232.540000  5.150681e+06   \n",
       "\n",
       "               cmf          vwap    log_close   log_return  simple_return  \\\n",
       "count  1827.000000   1827.000000  1827.000000  1827.000000    1827.000000   \n",
       "mean      0.077284  19798.488592    10.301061     0.001404       0.001998   \n",
       "std       0.132144   6472.840883     0.674113     0.034697       0.034038   \n",
       "min      -0.314284   7745.875314     8.476371    -0.502607      -0.395048   \n",
       "25%      -0.016748  15486.504959     9.883810    -0.013052      -0.012967   \n",
       "50%       0.073199  23138.820102    10.381404     0.000781       0.000781   \n",
       "75%       0.166734  24335.868707    10.834131     0.016548       0.016686   \n",
       "max       0.413846  26720.029784    11.572455     0.178449       0.195361   \n",
       "\n",
       "       log_momentum  price_zscore   log_volume  volume_zscore  \\\n",
       "count   1827.000000   1827.000000  1827.000000    1827.000000   \n",
       "mean       0.006999      0.190326    10.970377      -0.009934   \n",
       "std        0.075692      1.255144     0.817774       1.010700   \n",
       "min       -0.615935     -3.271189     8.896856      -2.466072   \n",
       "25%       -0.029007     -0.803530    10.423079      -0.748948   \n",
       "50%        0.005880      0.216332    10.870491      -0.147112   \n",
       "75%        0.047794      1.204980    11.385488       0.554318   \n",
       "max        0.228535      3.035445    13.542001       3.401734   \n",
       "\n",
       "       vol_price_ratio  roc_volatility   roc_volume     close_lag1  \\\n",
       "count      1827.000000     1827.000000  1827.000000    1827.000000   \n",
       "mean       1710.860207        0.007362     0.109595   36256.957603   \n",
       "std       25973.311025        0.142237     0.562021   21084.500848   \n",
       "min           5.825280       -0.563649    -0.804273    4800.000000   \n",
       "25%          45.408244       -0.023324    -0.239523   19580.955000   \n",
       "50%         133.667312       -0.000121    -0.009081   32178.330000   \n",
       "75%         458.888600        0.023421     0.316905   50645.195000   \n",
       "max      991172.194912        3.078486     5.342227  106133.740000   \n",
       "\n",
       "          close_lag2     close_lag3    volume_lag1    volume_lag2  \\\n",
       "count    1827.000000    1827.000000    1827.000000    1827.000000   \n",
       "mean    36210.134368   36162.871117   84427.983812   84429.071107   \n",
       "std     21053.847810   21021.531404   91570.701944   91570.038830   \n",
       "min      4800.000000    4800.000000    7308.955420    7308.955420   \n",
       "25%     19563.005000   19552.735000   33626.828065   33626.828065   \n",
       "50%     32144.510000   32078.000000   52601.052750   52601.052750   \n",
       "75%     50530.070000   50456.555000   88034.883112   88034.883112   \n",
       "max    106133.740000  106133.740000  760705.362783  760705.362783   \n",
       "\n",
       "         volume_lag3     rsi_lag1     rsi_lag2     rsi_lag3    macd_lag1  \\\n",
       "count    1827.000000  1827.000000  1827.000000  1827.000000  1827.000000   \n",
       "mean    84438.819931    53.831795    53.850735    53.865409   343.589557   \n",
       "std     91563.439341    17.745622    17.731884    17.722609  1589.851680   \n",
       "min      7308.955420     6.289216     6.289216     6.289216 -5073.278718   \n",
       "25%     33626.828065    41.488546    41.566667    41.619820  -459.901826   \n",
       "50%     52601.052750    52.911903    52.928397    52.949656   179.011984   \n",
       "75%     88034.883112    66.270626    66.270626    66.270626  1090.779607   \n",
       "max    760705.362783    99.426709    99.426709    99.426709  7019.055192   \n",
       "\n",
       "         macd_lag2    macd_lag3     atr_lag1     atr_lag2     atr_lag3  \\\n",
       "count  1827.000000  1827.000000  1827.000000  1827.000000  1827.000000   \n",
       "mean    343.838013   343.921310  1738.060654  1736.191099  1734.312292   \n",
       "std    1589.754017  1589.729021  1194.457168  1194.108672  1193.726693   \n",
       "min   -5073.278718 -5073.278718   152.111634   152.111634   152.111634   \n",
       "25%    -457.637380  -457.637380   720.881818   719.195147   717.857763   \n",
       "50%     179.011984   179.011984  1476.950087  1476.770234  1475.238992   \n",
       "75%    1090.779607  1090.779607  2570.971349  2569.779221  2568.970925   \n",
       "max    7019.055192  7019.055192  6229.401929  6229.401929  6229.401929   \n",
       "\n",
       "          adx_lag1     adx_lag2     adx_lag3  log_return_ma_5  \\\n",
       "count  1827.000000  1827.000000  1827.000000      1827.000000   \n",
       "mean     37.190548    37.187102    37.184680         0.001400   \n",
       "std      14.144990    14.146137    14.147161         0.015138   \n",
       "min      13.540053    13.540053    13.540053        -0.123187   \n",
       "25%      26.469912    26.469912    26.469912        -0.005801   \n",
       "50%      34.769962    34.737297    34.737297         0.001176   \n",
       "75%      45.126290    45.126290    45.126290         0.009559   \n",
       "max      81.493589    81.493589    81.493589         0.045707   \n",
       "\n",
       "       log_return_ma_10  log_return_ma_20  log_return_ma_50  \n",
       "count       1827.000000       1827.000000       1827.000000  \n",
       "mean           0.001407          0.001431          0.001400  \n",
       "std            0.010877          0.007898          0.005311  \n",
       "min           -0.061915         -0.035057         -0.014205  \n",
       "25%           -0.004158         -0.002681         -0.001965  \n",
       "50%            0.001222          0.001113          0.001259  \n",
       "75%            0.007183          0.005799          0.005238  \n",
       "max            0.039335          0.026893          0.016480  "
      ]
     },
     "execution_count": 165,
     "metadata": {},
     "output_type": "execute_result"
    }
   ],
   "source": [
    "pd.set_option('display.max_columns', None)\n",
    "pd.set_option('display.width', None)\n",
    "df.describe()"
   ]
  },
  {
   "cell_type": "code",
   "execution_count": 166,
   "metadata": {},
   "outputs": [
    {
     "name": "stdout",
     "output_type": "stream",
     "text": [
      "vol_price_ratio     33.357408\n",
      "roc_volatility       7.793655\n",
      "hist_vol             3.419952\n",
      "volume_lag3          2.860530\n",
      "volume_lag2          2.860084\n",
      "volume_lag1          2.860044\n",
      "volume               2.859888\n",
      "roc_volume           2.424479\n",
      "adx_lag3             0.801052\n",
      "adx_lag2             0.800808\n",
      "adx_lag1             0.800364\n",
      "adx                  0.799912\n",
      "atr_lag3             0.740398\n",
      "atr_lag2             0.738415\n",
      "atr_lag1             0.736438\n",
      "atr                  0.734535\n",
      "boll_lower           0.712998\n",
      "donchian_low         0.709128\n",
      "volume_zscore        0.699975\n",
      "low                  0.685432\n",
      "close                0.669982\n",
      "open                 0.667311\n",
      "close_lag1           0.667306\n",
      "close_lag2           0.664854\n",
      "close_lag3           0.662028\n",
      "high                 0.656380\n",
      "sma_7                0.654874\n",
      "ema_7                0.650667\n",
      "macd                 0.630345\n",
      "macd_lag1            0.630020\n",
      "macd_lag2            0.629742\n",
      "macd_lag3            0.629629\n",
      "signal               0.620276\n",
      "sma_21               0.605527\n",
      "ema_21               0.590233\n",
      "boll_upper           0.582940\n",
      "donchian_high        0.552047\n",
      "log_close           -0.511081\n",
      "log_return_ma_10    -0.512258\n",
      "simple_return       -0.619136\n",
      "log_return_ma_5     -0.833556\n",
      "log_momentum        -0.833556\n",
      "vwap                -1.011521\n",
      "log_return          -1.658236\n",
      "dtype: float64\n"
     ]
    }
   ],
   "source": [
    "skew = df.skew()\n",
    "print(skew[abs(skew) > 0.5].sort_values(ascending=False))"
   ]
  },
  {
   "cell_type": "markdown",
   "metadata": {},
   "source": [
    "# Testing"
   ]
  },
  {
   "cell_type": "code",
   "execution_count": 167,
   "metadata": {},
   "outputs": [],
   "source": [
    "correlation_matrix = df.corr()\n",
    "low_correlation_features = correlation_matrix[abs(correlation_matrix['log_close']) < 0.01].index.tolist()\n",
    "if 'log_close' in low_correlation_features:\n",
    "\tlow_correlation_features.remove('log_close')"
   ]
  },
  {
   "cell_type": "code",
   "execution_count": 168,
   "metadata": {},
   "outputs": [
    {
     "name": "stdout",
     "output_type": "stream",
     "text": [
      "Features removed: ['adx', 'cci', 'price_zscore', 'adx_lag1', 'adx_lag2', 'adx_lag3']\n"
     ]
    }
   ],
   "source": [
    "df = df.drop(low_correlation_features, axis=1)\n",
    "print(f'Features removed: {low_correlation_features}')"
   ]
  },
  {
   "cell_type": "code",
   "execution_count": 169,
   "metadata": {},
   "outputs": [],
   "source": [
    "X = df.drop(columns=['close', 'log_close'])\n",
    "y = df['log_close']"
   ]
  },
  {
   "cell_type": "code",
   "execution_count": 170,
   "metadata": {},
   "outputs": [],
   "source": [
    "X_train, X_test, y_train, y_test = train_test_split(X, y, test_size=0.2, shuffle=False)\n",
    "model = XGBRegressor(n_estimators=100, learning_rate=0.1, random_state=42)"
   ]
  },
  {
   "cell_type": "code",
   "execution_count": 171,
   "metadata": {},
   "outputs": [
    {
     "name": "stderr",
     "output_type": "stream",
     "text": [
      "c:\\Users\\santi\\anaconda3\\Lib\\site-packages\\pandas\\core\\internals\\blocks.py:366: RuntimeWarning: invalid value encountered in log1p\n",
      "  result = func(self.values, **kwargs)\n"
     ]
    }
   ],
   "source": [
    "X_train = np.log1p(X_train)\n",
    "X_test = np.log1p(X_test)"
   ]
  },
  {
   "cell_type": "code",
   "execution_count": 172,
   "metadata": {},
   "outputs": [],
   "source": [
    "boxcox_vars = ['hist_vol', 'roc_volatility', 'vol_price_ratio']\n",
    "lambdas = {}\n",
    "\n",
    "for var in boxcox_vars:\n",
    "    X_train[var], lambdas[var] = boxcox(X_train[var] + 1)\n",
    "    X_test[var] = boxcox(X_test[var] + 1, lmbda=lambdas[var])"
   ]
  },
  {
   "cell_type": "code",
   "execution_count": 173,
   "metadata": {},
   "outputs": [],
   "source": [
    "pt = PowerTransformer(method='yeo-johnson')\n",
    "cols_neg_skew = ['log_return', 'simple_return', 'volume_zscore', 'obv', 'log_momentum']\n",
    "X_train[cols_neg_skew] = pt.fit_transform(X_train[cols_neg_skew])\n",
    "X_test[cols_neg_skew] = pt.transform(X_test[cols_neg_skew])"
   ]
  },
  {
   "cell_type": "code",
   "execution_count": 174,
   "metadata": {},
   "outputs": [
    {
     "name": "stdout",
     "output_type": "stream",
     "text": [
      "roc_volatility      0.732622\n",
      "volume_lag2         0.510329\n",
      "volume_lag3         0.510283\n",
      "volume_lag1         0.509560\n",
      "volume              0.509226\n",
      "high               -0.503256\n",
      "sma_21             -0.507488\n",
      "ema_21             -0.511997\n",
      "close_lag3         -0.514535\n",
      "sma_7              -0.514690\n",
      "ema_7              -0.515268\n",
      "close_lag2         -0.516351\n",
      "close_lag1         -0.518030\n",
      "open               -0.518059\n",
      "ema_50             -0.520636\n",
      "low                -0.543544\n",
      "boll_lower         -0.593835\n",
      "ema_200            -0.641192\n",
      "log_return_ma_10   -0.658311\n",
      "donchian_low       -0.666396\n",
      "vwap               -0.859384\n",
      "rsi                -0.867171\n",
      "rsi_lag1           -0.867477\n",
      "rsi_lag2           -0.868218\n",
      "rsi_lag3           -0.868679\n",
      "williams_r         -0.906834\n",
      "stoch_d            -0.991777\n",
      "log_return_ma_5    -1.072587\n",
      "macd_lag3          -1.168278\n",
      "macd_lag2          -1.169450\n",
      "macd_lag1          -1.170174\n",
      "macd               -1.170453\n",
      "signal             -1.295845\n",
      "stoch_k            -1.394389\n",
      "dtype: float64\n"
     ]
    }
   ],
   "source": [
    "new_skew = X_train.skew()\n",
    "print(new_skew[abs(new_skew) > 0.5].sort_values(ascending=False))"
   ]
  },
  {
   "cell_type": "code",
   "execution_count": 175,
   "metadata": {},
   "outputs": [
    {
     "name": "stdout",
     "output_type": "stream",
     "text": [
      "[-0.51969775]\n"
     ]
    }
   ],
   "source": [
    "skew_y = y_train.skew()\n",
    "print(skew_y[abs(skew_y) > 0.5])"
   ]
  },
  {
   "cell_type": "code",
   "execution_count": 176,
   "metadata": {},
   "outputs": [
    {
     "data": {
      "text/html": [
       "<style>#sk-container-id-5 {color: black;background-color: white;}#sk-container-id-5 pre{padding: 0;}#sk-container-id-5 div.sk-toggleable {background-color: white;}#sk-container-id-5 label.sk-toggleable__label {cursor: pointer;display: block;width: 100%;margin-bottom: 0;padding: 0.3em;box-sizing: border-box;text-align: center;}#sk-container-id-5 label.sk-toggleable__label-arrow:before {content: \"▸\";float: left;margin-right: 0.25em;color: #696969;}#sk-container-id-5 label.sk-toggleable__label-arrow:hover:before {color: black;}#sk-container-id-5 div.sk-estimator:hover label.sk-toggleable__label-arrow:before {color: black;}#sk-container-id-5 div.sk-toggleable__content {max-height: 0;max-width: 0;overflow: hidden;text-align: left;background-color: #f0f8ff;}#sk-container-id-5 div.sk-toggleable__content pre {margin: 0.2em;color: black;border-radius: 0.25em;background-color: #f0f8ff;}#sk-container-id-5 input.sk-toggleable__control:checked~div.sk-toggleable__content {max-height: 200px;max-width: 100%;overflow: auto;}#sk-container-id-5 input.sk-toggleable__control:checked~label.sk-toggleable__label-arrow:before {content: \"▾\";}#sk-container-id-5 div.sk-estimator input.sk-toggleable__control:checked~label.sk-toggleable__label {background-color: #d4ebff;}#sk-container-id-5 div.sk-label input.sk-toggleable__control:checked~label.sk-toggleable__label {background-color: #d4ebff;}#sk-container-id-5 input.sk-hidden--visually {border: 0;clip: rect(1px 1px 1px 1px);clip: rect(1px, 1px, 1px, 1px);height: 1px;margin: -1px;overflow: hidden;padding: 0;position: absolute;width: 1px;}#sk-container-id-5 div.sk-estimator {font-family: monospace;background-color: #f0f8ff;border: 1px dotted black;border-radius: 0.25em;box-sizing: border-box;margin-bottom: 0.5em;}#sk-container-id-5 div.sk-estimator:hover {background-color: #d4ebff;}#sk-container-id-5 div.sk-parallel-item::after {content: \"\";width: 100%;border-bottom: 1px solid gray;flex-grow: 1;}#sk-container-id-5 div.sk-label:hover label.sk-toggleable__label {background-color: #d4ebff;}#sk-container-id-5 div.sk-serial::before {content: \"\";position: absolute;border-left: 1px solid gray;box-sizing: border-box;top: 0;bottom: 0;left: 50%;z-index: 0;}#sk-container-id-5 div.sk-serial {display: flex;flex-direction: column;align-items: center;background-color: white;padding-right: 0.2em;padding-left: 0.2em;position: relative;}#sk-container-id-5 div.sk-item {position: relative;z-index: 1;}#sk-container-id-5 div.sk-parallel {display: flex;align-items: stretch;justify-content: center;background-color: white;position: relative;}#sk-container-id-5 div.sk-item::before, #sk-container-id-5 div.sk-parallel-item::before {content: \"\";position: absolute;border-left: 1px solid gray;box-sizing: border-box;top: 0;bottom: 0;left: 50%;z-index: -1;}#sk-container-id-5 div.sk-parallel-item {display: flex;flex-direction: column;z-index: 1;position: relative;background-color: white;}#sk-container-id-5 div.sk-parallel-item:first-child::after {align-self: flex-end;width: 50%;}#sk-container-id-5 div.sk-parallel-item:last-child::after {align-self: flex-start;width: 50%;}#sk-container-id-5 div.sk-parallel-item:only-child::after {width: 0;}#sk-container-id-5 div.sk-dashed-wrapped {border: 1px dashed gray;margin: 0 0.4em 0.5em 0.4em;box-sizing: border-box;padding-bottom: 0.4em;background-color: white;}#sk-container-id-5 div.sk-label label {font-family: monospace;font-weight: bold;display: inline-block;line-height: 1.2em;}#sk-container-id-5 div.sk-label-container {text-align: center;}#sk-container-id-5 div.sk-container {/* jupyter's `normalize.less` sets `[hidden] { display: none; }` but bootstrap.min.css set `[hidden] { display: none !important; }` so we also need the `!important` here to be able to override the default hidden behavior on the sphinx rendered scikit-learn.org. See: https://github.com/scikit-learn/scikit-learn/issues/21755 */display: inline-block !important;position: relative;}#sk-container-id-5 div.sk-text-repr-fallback {display: none;}</style><div id=\"sk-container-id-5\" class=\"sk-top-container\"><div class=\"sk-text-repr-fallback\"><pre>XGBRegressor(base_score=None, booster=None, callbacks=None,\n",
       "             colsample_bylevel=None, colsample_bynode=None,\n",
       "             colsample_bytree=None, device=None, early_stopping_rounds=None,\n",
       "             enable_categorical=False, eval_metric=None, feature_types=None,\n",
       "             gamma=None, grow_policy=None, importance_type=None,\n",
       "             interaction_constraints=None, learning_rate=0.1, max_bin=None,\n",
       "             max_cat_threshold=None, max_cat_to_onehot=None,\n",
       "             max_delta_step=None, max_depth=None, max_leaves=None,\n",
       "             min_child_weight=None, missing=nan, monotone_constraints=None,\n",
       "             multi_strategy=None, n_estimators=100, n_jobs=None,\n",
       "             num_parallel_tree=None, random_state=42, ...)</pre><b>In a Jupyter environment, please rerun this cell to show the HTML representation or trust the notebook. <br />On GitHub, the HTML representation is unable to render, please try loading this page with nbviewer.org.</b></div><div class=\"sk-container\" hidden><div class=\"sk-item\"><div class=\"sk-estimator sk-toggleable\"><input class=\"sk-toggleable__control sk-hidden--visually\" id=\"sk-estimator-id-5\" type=\"checkbox\" checked><label for=\"sk-estimator-id-5\" class=\"sk-toggleable__label sk-toggleable__label-arrow\">XGBRegressor</label><div class=\"sk-toggleable__content\"><pre>XGBRegressor(base_score=None, booster=None, callbacks=None,\n",
       "             colsample_bylevel=None, colsample_bynode=None,\n",
       "             colsample_bytree=None, device=None, early_stopping_rounds=None,\n",
       "             enable_categorical=False, eval_metric=None, feature_types=None,\n",
       "             gamma=None, grow_policy=None, importance_type=None,\n",
       "             interaction_constraints=None, learning_rate=0.1, max_bin=None,\n",
       "             max_cat_threshold=None, max_cat_to_onehot=None,\n",
       "             max_delta_step=None, max_depth=None, max_leaves=None,\n",
       "             min_child_weight=None, missing=nan, monotone_constraints=None,\n",
       "             multi_strategy=None, n_estimators=100, n_jobs=None,\n",
       "             num_parallel_tree=None, random_state=42, ...)</pre></div></div></div></div></div>"
      ],
      "text/plain": [
       "XGBRegressor(base_score=None, booster=None, callbacks=None,\n",
       "             colsample_bylevel=None, colsample_bynode=None,\n",
       "             colsample_bytree=None, device=None, early_stopping_rounds=None,\n",
       "             enable_categorical=False, eval_metric=None, feature_types=None,\n",
       "             gamma=None, grow_policy=None, importance_type=None,\n",
       "             interaction_constraints=None, learning_rate=0.1, max_bin=None,\n",
       "             max_cat_threshold=None, max_cat_to_onehot=None,\n",
       "             max_delta_step=None, max_depth=None, max_leaves=None,\n",
       "             min_child_weight=None, missing=nan, monotone_constraints=None,\n",
       "             multi_strategy=None, n_estimators=100, n_jobs=None,\n",
       "             num_parallel_tree=None, random_state=42, ...)"
      ]
     },
     "execution_count": 176,
     "metadata": {},
     "output_type": "execute_result"
    }
   ],
   "source": [
    "model.fit(X_train, y_train)"
   ]
  },
  {
   "cell_type": "code",
   "execution_count": 177,
   "metadata": {},
   "outputs": [],
   "source": [
    "y_pred_train = model.predict(X_train)\n",
    "y_pred_train = pd.Series(y_pred_train, index=y_train.index)\n",
    "y_pred_test = model.predict(X_test)\n",
    "y_pred_test = pd.Series(y_pred_test, index=y_test.index)"
   ]
  },
  {
   "cell_type": "code",
   "execution_count": 178,
   "metadata": {},
   "outputs": [
    {
     "name": "stdout",
     "output_type": "stream",
     "text": [
      "MAE train: 0.0021133739047038283\n",
      "MAE test: 0.07676696335265125\n",
      "RMSE train: 0.0027529541039859142\n",
      "RMSE test: 0.1530568726876263\n",
      "R2 train: 0.9999794866981692\n",
      "R2 test: 0.498051255091867\n"
     ]
    }
   ],
   "source": [
    "evaluate_model(y_pred_train, y_pred_test, y_train, y_test)"
   ]
  },
  {
   "cell_type": "code",
   "execution_count": 179,
   "metadata": {},
   "outputs": [],
   "source": [
    "def plot_predictions(y_test_real, y_pred_test):\n",
    "    plt.figure(figsize=(12, 6))\n",
    "    plt.plot(y_test_real, label=\"Real\", color=\"blue\")\n",
    "    plt.plot(y_pred_test, label=\"Predicted\", color=\"orange\")\n",
    "    plt.legend()\n",
    "    plt.show()"
   ]
  },
  {
   "cell_type": "code",
   "execution_count": 180,
   "metadata": {},
   "outputs": [
    {
     "data": {
      "image/png": "[encoded data removed]",
      "text/plain": [
       "<Figure size 1200x600 with 1 Axes>"
      ]
     },
     "metadata": {},
     "output_type": "display_data"
    }
   ],
   "source": [
    "plot_predictions(y_test, y_pred_test)"
   ]
  },
  {
   "cell_type": "code",
   "execution_count": 181,
   "metadata": {},
   "outputs": [
    {
     "data": {
      "image/png": "[encoded data removed]",
      "text/plain": [
       "<Figure size 800x950 with 2 Axes>"
      ]
     },
     "metadata": {},
     "output_type": "display_data"
    }
   ],
   "source": [
    "explainer = shap.Explainer(model)\n",
    "shap_values = explainer(X_train)\n",
    "shap.summary_plot(shap_values, X_train)"
   ]
  },
  {
   "cell_type": "code",
   "execution_count": null,
   "metadata": {},
   "outputs": [],
   "source": [
    "mean_abs_shap = np.abs(shap_values.values).mean(axis=0)\n",
    "threshold = 0.01"
   ]
  },
  {
   "cell_type": "code",
   "execution_count": 183,
   "metadata": {},
   "outputs": [],
   "source": [
    "selected_features = np.array(X_train.columns)[mean_abs_shap > threshold]\n",
    "X_train = X_train[selected_features]\n",
    "X_test = X_test[selected_features]"
   ]
  },
  {
   "cell_type": "code",
   "execution_count": 184,
   "metadata": {},
   "outputs": [],
   "source": [
    "X_train['range'] = X_train['high'] - X_train['low']\n",
    "X_test['range'] = X_test['high'] - X_test['low']\n",
    "X_train['midpoint'] = (X_train['high'] + X_train['low']) / 2\n",
    "X_test['midpoint'] = (X_test['high'] + X_test['low']) / 2"
   ]
  },
  {
   "cell_type": "code",
   "execution_count": 185,
   "metadata": {},
   "outputs": [
    {
     "data": {
      "text/html": [
       "<style>#sk-container-id-6 {color: black;background-color: white;}#sk-container-id-6 pre{padding: 0;}#sk-container-id-6 div.sk-toggleable {background-color: white;}#sk-container-id-6 label.sk-toggleable__label {cursor: pointer;display: block;width: 100%;margin-bottom: 0;padding: 0.3em;box-sizing: border-box;text-align: center;}#sk-container-id-6 label.sk-toggleable__label-arrow:before {content: \"▸\";float: left;margin-right: 0.25em;color: #696969;}#sk-container-id-6 label.sk-toggleable__label-arrow:hover:before {color: black;}#sk-container-id-6 div.sk-estimator:hover label.sk-toggleable__label-arrow:before {color: black;}#sk-container-id-6 div.sk-toggleable__content {max-height: 0;max-width: 0;overflow: hidden;text-align: left;background-color: #f0f8ff;}#sk-container-id-6 div.sk-toggleable__content pre {margin: 0.2em;color: black;border-radius: 0.25em;background-color: #f0f8ff;}#sk-container-id-6 input.sk-toggleable__control:checked~div.sk-toggleable__content {max-height: 200px;max-width: 100%;overflow: auto;}#sk-container-id-6 input.sk-toggleable__control:checked~label.sk-toggleable__label-arrow:before {content: \"▾\";}#sk-container-id-6 div.sk-estimator input.sk-toggleable__control:checked~label.sk-toggleable__label {background-color: #d4ebff;}#sk-container-id-6 div.sk-label input.sk-toggleable__control:checked~label.sk-toggleable__label {background-color: #d4ebff;}#sk-container-id-6 input.sk-hidden--visually {border: 0;clip: rect(1px 1px 1px 1px);clip: rect(1px, 1px, 1px, 1px);height: 1px;margin: -1px;overflow: hidden;padding: 0;position: absolute;width: 1px;}#sk-container-id-6 div.sk-estimator {font-family: monospace;background-color: #f0f8ff;border: 1px dotted black;border-radius: 0.25em;box-sizing: border-box;margin-bottom: 0.5em;}#sk-container-id-6 div.sk-estimator:hover {background-color: #d4ebff;}#sk-container-id-6 div.sk-parallel-item::after {content: \"\";width: 100%;border-bottom: 1px solid gray;flex-grow: 1;}#sk-container-id-6 div.sk-label:hover label.sk-toggleable__label {background-color: #d4ebff;}#sk-container-id-6 div.sk-serial::before {content: \"\";position: absolute;border-left: 1px solid gray;box-sizing: border-box;top: 0;bottom: 0;left: 50%;z-index: 0;}#sk-container-id-6 div.sk-serial {display: flex;flex-direction: column;align-items: center;background-color: white;padding-right: 0.2em;padding-left: 0.2em;position: relative;}#sk-container-id-6 div.sk-item {position: relative;z-index: 1;}#sk-container-id-6 div.sk-parallel {display: flex;align-items: stretch;justify-content: center;background-color: white;position: relative;}#sk-container-id-6 div.sk-item::before, #sk-container-id-6 div.sk-parallel-item::before {content: \"\";position: absolute;border-left: 1px solid gray;box-sizing: border-box;top: 0;bottom: 0;left: 50%;z-index: -1;}#sk-container-id-6 div.sk-parallel-item {display: flex;flex-direction: column;z-index: 1;position: relative;background-color: white;}#sk-container-id-6 div.sk-parallel-item:first-child::after {align-self: flex-end;width: 50%;}#sk-container-id-6 div.sk-parallel-item:last-child::after {align-self: flex-start;width: 50%;}#sk-container-id-6 div.sk-parallel-item:only-child::after {width: 0;}#sk-container-id-6 div.sk-dashed-wrapped {border: 1px dashed gray;margin: 0 0.4em 0.5em 0.4em;box-sizing: border-box;padding-bottom: 0.4em;background-color: white;}#sk-container-id-6 div.sk-label label {font-family: monospace;font-weight: bold;display: inline-block;line-height: 1.2em;}#sk-container-id-6 div.sk-label-container {text-align: center;}#sk-container-id-6 div.sk-container {/* jupyter's `normalize.less` sets `[hidden] { display: none; }` but bootstrap.min.css set `[hidden] { display: none !important; }` so we also need the `!important` here to be able to override the default hidden behavior on the sphinx rendered scikit-learn.org. See: https://github.com/scikit-learn/scikit-learn/issues/21755 */display: inline-block !important;position: relative;}#sk-container-id-6 div.sk-text-repr-fallback {display: none;}</style><div id=\"sk-container-id-6\" class=\"sk-top-container\"><div class=\"sk-text-repr-fallback\"><pre>XGBRegressor(base_score=None, booster=None, callbacks=None,\n",
       "             colsample_bylevel=None, colsample_bynode=None,\n",
       "             colsample_bytree=None, device=None, early_stopping_rounds=None,\n",
       "             enable_categorical=False, eval_metric=None, feature_types=None,\n",
       "             gamma=None, grow_policy=None, importance_type=None,\n",
       "             interaction_constraints=None, learning_rate=0.1, max_bin=None,\n",
       "             max_cat_threshold=None, max_cat_to_onehot=None,\n",
       "             max_delta_step=None, max_depth=None, max_leaves=None,\n",
       "             min_child_weight=None, missing=nan, monotone_constraints=None,\n",
       "             multi_strategy=None, n_estimators=100, n_jobs=None,\n",
       "             num_parallel_tree=None, random_state=42, ...)</pre><b>In a Jupyter environment, please rerun this cell to show the HTML representation or trust the notebook. <br />On GitHub, the HTML representation is unable to render, please try loading this page with nbviewer.org.</b></div><div class=\"sk-container\" hidden><div class=\"sk-item\"><div class=\"sk-estimator sk-toggleable\"><input class=\"sk-toggleable__control sk-hidden--visually\" id=\"sk-estimator-id-6\" type=\"checkbox\" checked><label for=\"sk-estimator-id-6\" class=\"sk-toggleable__label sk-toggleable__label-arrow\">XGBRegressor</label><div class=\"sk-toggleable__content\"><pre>XGBRegressor(base_score=None, booster=None, callbacks=None,\n",
       "             colsample_bylevel=None, colsample_bynode=None,\n",
       "             colsample_bytree=None, device=None, early_stopping_rounds=None,\n",
       "             enable_categorical=False, eval_metric=None, feature_types=None,\n",
       "             gamma=None, grow_policy=None, importance_type=None,\n",
       "             interaction_constraints=None, learning_rate=0.1, max_bin=None,\n",
       "             max_cat_threshold=None, max_cat_to_onehot=None,\n",
       "             max_delta_step=None, max_depth=None, max_leaves=None,\n",
       "             min_child_weight=None, missing=nan, monotone_constraints=None,\n",
       "             multi_strategy=None, n_estimators=100, n_jobs=None,\n",
       "             num_parallel_tree=None, random_state=42, ...)</pre></div></div></div></div></div>"
      ],
      "text/plain": [
       "XGBRegressor(base_score=None, booster=None, callbacks=None,\n",
       "             colsample_bylevel=None, colsample_bynode=None,\n",
       "             colsample_bytree=None, device=None, early_stopping_rounds=None,\n",
       "             enable_categorical=False, eval_metric=None, feature_types=None,\n",
       "             gamma=None, grow_policy=None, importance_type=None,\n",
       "             interaction_constraints=None, learning_rate=0.1, max_bin=None,\n",
       "             max_cat_threshold=None, max_cat_to_onehot=None,\n",
       "             max_delta_step=None, max_depth=None, max_leaves=None,\n",
       "             min_child_weight=None, missing=nan, monotone_constraints=None,\n",
       "             multi_strategy=None, n_estimators=100, n_jobs=None,\n",
       "             num_parallel_tree=None, random_state=42, ...)"
      ]
     },
     "execution_count": 185,
     "metadata": {},
     "output_type": "execute_result"
    }
   ],
   "source": [
    "model = XGBRegressor(n_estimators=100, learning_rate=0.1, random_state=42)\n",
    "model.fit(X_train, y_train)"
   ]
  },
  {
   "cell_type": "code",
   "execution_count": 186,
   "metadata": {},
   "outputs": [],
   "source": [
    "y_pred_train = model.predict(X_train)\n",
    "y_pred_train = pd.Series(y_pred_train, index=y_train.index)\n",
    "y_pred_test = model.predict(X_test)\n",
    "y_pred_test = pd.Series(y_pred_test, index=y_test.index)"
   ]
  },
  {
   "cell_type": "code",
   "execution_count": 187,
   "metadata": {},
   "outputs": [
    {
     "name": "stdout",
     "output_type": "stream",
     "text": [
      "MAE train: 0.00702533276599673\n",
      "MAE test: 0.07655565051395657\n",
      "RMSE train: 0.009032424185409444\n",
      "RMSE test: 0.14991475174356253\n",
      "R2 train: 0.9997791759971705\n",
      "R2 test: 0.5184488308500674\n"
     ]
    }
   ],
   "source": [
    "evaluate_model(y_pred_train, y_pred_test, y_train, y_test)"
   ]
  },
  {
   "cell_type": "code",
   "execution_count": 190,
   "metadata": {},
   "outputs": [
    {
     "data": {
      "image/png": "[encoded data removed]",
      "text/plain": [
       "<Figure size 800x390 with 2 Axes>"
      ]
     },
     "metadata": {},
     "output_type": "display_data"
    }
   ],
   "source": [
    "explainer = shap.Explainer(model)\n",
    "shap_values = explainer(X_train)\n",
    "shap.summary_plot(shap_values, X_train)"
   ]
  },
  {
   "cell_type": "code",
   "execution_count": 192,
   "metadata": {},
   "outputs": [],
   "source": [
    "mean_abs_shap_filtered = np.abs(shap_values.values).mean(axis=0)"
   ]
  },
  {
   "cell_type": "code",
   "execution_count": 193,
   "metadata": {},
   "outputs": [],
   "source": [
    "pca_features = np.array(X_train.columns)[mean_abs_shap_filtered <= threshold]"
   ]
  },
  {
   "cell_type": "code",
   "execution_count": 194,
   "metadata": {},
   "outputs": [
    {
     "name": "stdout",
     "output_type": "stream",
     "text": [
      "Original features: 6\n",
      "PCA features: 2\n"
     ]
    }
   ],
   "source": [
    "if len(pca_features) > 0:\n",
    "    scaler = StandardScaler()\n",
    "    X_train_pca_scaled = scaler.fit_transform(X_train[pca_features])\n",
    "    X_test_pca_scaled = scaler.transform(X_test[pca_features])\n",
    "\n",
    "    pca = PCA(n_components=0.95)\n",
    "    X_train_pca = pca.fit_transform(X_train_pca_scaled)\n",
    "    X_test_pca = pca.transform(X_test_pca_scaled)\n",
    "\n",
    "    pca_columns = [f'PCA_{i}' for i in range(X_train_pca.shape[1])]\n",
    "    X_train_pca_df = pd.DataFrame(X_train_pca, columns=pca_columns, index=X_train.index)\n",
    "    X_test_pca_df = pd.DataFrame(X_test_pca, columns=pca_columns, index=X_test.index)\n",
    "    X_train_final = pd.concat([X_train, X_train_pca_df], axis=1)\n",
    "    X_test_final = pd.concat([X_test, X_test_pca_df], axis=1)\n",
    "else:\n",
    "    X_train_final = X_train\n",
    "    X_test_final = X_test\n",
    "\n",
    "print(f'Original features: {X_train.shape[1]}')\n",
    "print(f'PCA features: {X_train_pca.shape[1] if len(pca_features) > 0 else 0}')"
   ]
  },
  {
   "cell_type": "code",
   "execution_count": 195,
   "metadata": {},
   "outputs": [],
   "source": [
    "model = XGBRegressor(n_estimators=100, learning_rate=0.1, random_state=42)"
   ]
  },
  {
   "cell_type": "code",
   "execution_count": 196,
   "metadata": {},
   "outputs": [
    {
     "data": {
      "text/html": [
       "<style>#sk-container-id-7 {color: black;background-color: white;}#sk-container-id-7 pre{padding: 0;}#sk-container-id-7 div.sk-toggleable {background-color: white;}#sk-container-id-7 label.sk-toggleable__label {cursor: pointer;display: block;width: 100%;margin-bottom: 0;padding: 0.3em;box-sizing: border-box;text-align: center;}#sk-container-id-7 label.sk-toggleable__label-arrow:before {content: \"▸\";float: left;margin-right: 0.25em;color: #696969;}#sk-container-id-7 label.sk-toggleable__label-arrow:hover:before {color: black;}#sk-container-id-7 div.sk-estimator:hover label.sk-toggleable__label-arrow:before {color: black;}#sk-container-id-7 div.sk-toggleable__content {max-height: 0;max-width: 0;overflow: hidden;text-align: left;background-color: #f0f8ff;}#sk-container-id-7 div.sk-toggleable__content pre {margin: 0.2em;color: black;border-radius: 0.25em;background-color: #f0f8ff;}#sk-container-id-7 input.sk-toggleable__control:checked~div.sk-toggleable__content {max-height: 200px;max-width: 100%;overflow: auto;}#sk-container-id-7 input.sk-toggleable__control:checked~label.sk-toggleable__label-arrow:before {content: \"▾\";}#sk-container-id-7 div.sk-estimator input.sk-toggleable__control:checked~label.sk-toggleable__label {background-color: #d4ebff;}#sk-container-id-7 div.sk-label input.sk-toggleable__control:checked~label.sk-toggleable__label {background-color: #d4ebff;}#sk-container-id-7 input.sk-hidden--visually {border: 0;clip: rect(1px 1px 1px 1px);clip: rect(1px, 1px, 1px, 1px);height: 1px;margin: -1px;overflow: hidden;padding: 0;position: absolute;width: 1px;}#sk-container-id-7 div.sk-estimator {font-family: monospace;background-color: #f0f8ff;border: 1px dotted black;border-radius: 0.25em;box-sizing: border-box;margin-bottom: 0.5em;}#sk-container-id-7 div.sk-estimator:hover {background-color: #d4ebff;}#sk-container-id-7 div.sk-parallel-item::after {content: \"\";width: 100%;border-bottom: 1px solid gray;flex-grow: 1;}#sk-container-id-7 div.sk-label:hover label.sk-toggleable__label {background-color: #d4ebff;}#sk-container-id-7 div.sk-serial::before {content: \"\";position: absolute;border-left: 1px solid gray;box-sizing: border-box;top: 0;bottom: 0;left: 50%;z-index: 0;}#sk-container-id-7 div.sk-serial {display: flex;flex-direction: column;align-items: center;background-color: white;padding-right: 0.2em;padding-left: 0.2em;position: relative;}#sk-container-id-7 div.sk-item {position: relative;z-index: 1;}#sk-container-id-7 div.sk-parallel {display: flex;align-items: stretch;justify-content: center;background-color: white;position: relative;}#sk-container-id-7 div.sk-item::before, #sk-container-id-7 div.sk-parallel-item::before {content: \"\";position: absolute;border-left: 1px solid gray;box-sizing: border-box;top: 0;bottom: 0;left: 50%;z-index: -1;}#sk-container-id-7 div.sk-parallel-item {display: flex;flex-direction: column;z-index: 1;position: relative;background-color: white;}#sk-container-id-7 div.sk-parallel-item:first-child::after {align-self: flex-end;width: 50%;}#sk-container-id-7 div.sk-parallel-item:last-child::after {align-self: flex-start;width: 50%;}#sk-container-id-7 div.sk-parallel-item:only-child::after {width: 0;}#sk-container-id-7 div.sk-dashed-wrapped {border: 1px dashed gray;margin: 0 0.4em 0.5em 0.4em;box-sizing: border-box;padding-bottom: 0.4em;background-color: white;}#sk-container-id-7 div.sk-label label {font-family: monospace;font-weight: bold;display: inline-block;line-height: 1.2em;}#sk-container-id-7 div.sk-label-container {text-align: center;}#sk-container-id-7 div.sk-container {/* jupyter's `normalize.less` sets `[hidden] { display: none; }` but bootstrap.min.css set `[hidden] { display: none !important; }` so we also need the `!important` here to be able to override the default hidden behavior on the sphinx rendered scikit-learn.org. See: https://github.com/scikit-learn/scikit-learn/issues/21755 */display: inline-block !important;position: relative;}#sk-container-id-7 div.sk-text-repr-fallback {display: none;}</style><div id=\"sk-container-id-7\" class=\"sk-top-container\"><div class=\"sk-text-repr-fallback\"><pre>XGBRegressor(base_score=None, booster=None, callbacks=None,\n",
       "             colsample_bylevel=None, colsample_bynode=None,\n",
       "             colsample_bytree=None, device=None, early_stopping_rounds=None,\n",
       "             enable_categorical=False, eval_metric=None, feature_types=None,\n",
       "             gamma=None, grow_policy=None, importance_type=None,\n",
       "             interaction_constraints=None, learning_rate=0.1, max_bin=None,\n",
       "             max_cat_threshold=None, max_cat_to_onehot=None,\n",
       "             max_delta_step=None, max_depth=None, max_leaves=None,\n",
       "             min_child_weight=None, missing=nan, monotone_constraints=None,\n",
       "             multi_strategy=None, n_estimators=100, n_jobs=None,\n",
       "             num_parallel_tree=None, random_state=42, ...)</pre><b>In a Jupyter environment, please rerun this cell to show the HTML representation or trust the notebook. <br />On GitHub, the HTML representation is unable to render, please try loading this page with nbviewer.org.</b></div><div class=\"sk-container\" hidden><div class=\"sk-item\"><div class=\"sk-estimator sk-toggleable\"><input class=\"sk-toggleable__control sk-hidden--visually\" id=\"sk-estimator-id-7\" type=\"checkbox\" checked><label for=\"sk-estimator-id-7\" class=\"sk-toggleable__label sk-toggleable__label-arrow\">XGBRegressor</label><div class=\"sk-toggleable__content\"><pre>XGBRegressor(base_score=None, booster=None, callbacks=None,\n",
       "             colsample_bylevel=None, colsample_bynode=None,\n",
       "             colsample_bytree=None, device=None, early_stopping_rounds=None,\n",
       "             enable_categorical=False, eval_metric=None, feature_types=None,\n",
       "             gamma=None, grow_policy=None, importance_type=None,\n",
       "             interaction_constraints=None, learning_rate=0.1, max_bin=None,\n",
       "             max_cat_threshold=None, max_cat_to_onehot=None,\n",
       "             max_delta_step=None, max_depth=None, max_leaves=None,\n",
       "             min_child_weight=None, missing=nan, monotone_constraints=None,\n",
       "             multi_strategy=None, n_estimators=100, n_jobs=None,\n",
       "             num_parallel_tree=None, random_state=42, ...)</pre></div></div></div></div></div>"
      ],
      "text/plain": [
       "XGBRegressor(base_score=None, booster=None, callbacks=None,\n",
       "             colsample_bylevel=None, colsample_bynode=None,\n",
       "             colsample_bytree=None, device=None, early_stopping_rounds=None,\n",
       "             enable_categorical=False, eval_metric=None, feature_types=None,\n",
       "             gamma=None, grow_policy=None, importance_type=None,\n",
       "             interaction_constraints=None, learning_rate=0.1, max_bin=None,\n",
       "             max_cat_threshold=None, max_cat_to_onehot=None,\n",
       "             max_delta_step=None, max_depth=None, max_leaves=None,\n",
       "             min_child_weight=None, missing=nan, monotone_constraints=None,\n",
       "             multi_strategy=None, n_estimators=100, n_jobs=None,\n",
       "             num_parallel_tree=None, random_state=42, ...)"
      ]
     },
     "execution_count": 196,
     "metadata": {},
     "output_type": "execute_result"
    }
   ],
   "source": [
    "model.fit(X_train_final, y_train)"
   ]
  },
  {
   "cell_type": "code",
   "execution_count": 197,
   "metadata": {},
   "outputs": [],
   "source": [
    "y_pred_train = model.predict(X_train_final)\n",
    "y_pred_train = pd.Series(y_pred_train, index=y_train.index)\n",
    "y_pred_test = model.predict(X_test_final)\n",
    "y_pred_test = pd.Series(y_pred_test, index=y_test.index)"
   ]
  },
  {
   "cell_type": "code",
   "execution_count": 198,
   "metadata": {},
   "outputs": [
    {
     "name": "stdout",
     "output_type": "stream",
     "text": [
      "MAE train: 0.006459036941205281\n",
      "MAE test: 0.07790964669551265\n",
      "RMSE train: 0.008236502826000488\n",
      "RMSE test: 0.15104097795131669\n",
      "R2 train: 0.9998163785842241\n",
      "R2 test: 0.5111864010556872\n"
     ]
    }
   ],
   "source": [
    "evaluate_model(y_pred_train, y_pred_test, y_train, y_test)"
   ]
  },
  {
   "cell_type": "code",
   "execution_count": null,
   "metadata": {},
   "outputs": [],
   "source": []
  }
 ],
 "metadata": {
  "kernelspec": {
   "display_name": "base",
   "language": "python",
   "name": "python3"
  },
  "language_info": {
   "codemirror_mode": {
    "name": "ipython",
    "version": 3
   },
   "file_extension": ".py",
   "mimetype": "text/x-python",
   "name": "python",
   "nbconvert_exporter": "python",
   "pygments_lexer": "ipython3",
   "version": "3.11.9"
  }
 },
 "nbformat": 4,
 "nbformat_minor": 2
}
