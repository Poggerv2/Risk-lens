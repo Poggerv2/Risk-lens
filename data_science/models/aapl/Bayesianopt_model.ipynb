{
 "cells": [
  {
   "cell_type": "code",
   "execution_count": 120,
   "metadata": {},
   "outputs": [],
   "source": [
    "import numpy as np\n",
    "import pandas as pd\n",
    "import random\n",
    "import tensorflow as tf\n",
    "import matplotlib.pyplot as plt\n",
    "from tensorflow.keras.models import Sequential\n",
    "from tensorflow.keras.layers import LSTM, Dense, Dropout, LeakyReLU\n",
    "from tensorflow.keras.regularizers import l2, l1_l2\n",
    "from tensorflow.keras.optimizers import Adam\n",
    "from sklearn.preprocessing import MinMaxScaler, StandardScaler\n",
    "from sklearn.decomposition import PCA\n",
    "from sklearn.model_selection import train_test_split\n",
    "from sklearn.metrics import mean_absolute_error, mean_squared_error, r2_score\n",
    "from scipy.stats import mstats\n",
    "from tensorflow.keras.callbacks import EarlyStopping\n",
    "from tensorflow.keras.callbacks import ReduceLROnPlateau\n",
    "from bayes_opt import BayesianOptimization"
   ]
  },
  {
   "cell_type": "code",
   "execution_count": 121,
   "metadata": {},
   "outputs": [],
   "source": [
    "SEED = 42\n",
    "np.random.seed(SEED)\n",
    "random.seed(SEED)\n",
    "tf.random.set_seed(SEED)"
   ]
  },
  {
   "cell_type": "code",
   "execution_count": 122,
   "metadata": {},
   "outputs": [],
   "source": [
    "df = pd.read_csv('../../data/pre_train/aapl.csv')\n",
    "df.columns = df.columns.str.lower()\n",
    "df['date'] = pd.to_datetime(df['date'])\n",
    "df = df.set_index('date')\n",
    "df = df.astype(float)"
   ]
  },
  {
   "cell_type": "code",
   "execution_count": 123,
   "metadata": {},
   "outputs": [],
   "source": [
    "y = df['log_close']\n",
    "X = df.drop('log_close', axis=1)"
   ]
  },
  {
   "cell_type": "code",
   "execution_count": 124,
   "metadata": {},
   "outputs": [],
   "source": [
    "time_steps = 67\n",
    "def create_sequences(X, y, time_steps=time_steps):\n",
    "    X_seq, y_seq = [], []\n",
    "    for i in range(len(X) - time_steps):\n",
    "        X_seq.append(X.iloc[i:i + time_steps].values)\n",
    "        y_seq.append(y.iloc[i + time_steps])\n",
    "    return np.array(X_seq), np.array(y_seq)"
   ]
  },
  {
   "cell_type": "code",
   "execution_count": 125,
   "metadata": {},
   "outputs": [],
   "source": [
    "def evaluate_model(y_pred_train, y_pred_test, y_train, y_test):\n",
    "    mae_train = mean_absolute_error(y_train, y_pred_train)\n",
    "    mae_test = mean_absolute_error(y_test, y_pred_test)\n",
    "    rmse_train = np.sqrt(mean_squared_error(y_train, y_pred_train))\n",
    "    rmse_test = np.sqrt(mean_squared_error(y_test, y_pred_test))\n",
    "    r2_train = r2_score(y_train, y_pred_train)\n",
    "    r2_test = r2_score(y_test, y_pred_test)\n",
    "    \n",
    "    print(f\"MAE train: {mae_train:.6f}\")\n",
    "    print(f\"MAE test: {mae_test:.6f}\")\n",
    "    print(f\"RMSE train: {rmse_train:.6f}\")\n",
    "    print(f\"RMSE test: {rmse_test:.6f}\")\n",
    "    print(f\"R² train: {r2_train:.6f}\")\n",
    "    print(f\"R² test: {r2_test:.6f}\")"
   ]
  },
  {
   "cell_type": "code",
   "execution_count": 126,
   "metadata": {},
   "outputs": [],
   "source": [
    "def plot_predictions(y_test_real, y_pred_test_real):\n",
    "    plt.figure(figsize=(12, 6))\n",
    "    plt.plot(y_test_real, label=\"Real\", color=\"blue\")\n",
    "    plt.plot(y_pred_test_real, label=\"Predicho\", color=\"orange\")\n",
    "    plt.title(\"Predictions vs Real values\")\n",
    "    plt.legend()\n",
    "    plt.show()"
   ]
  },
  {
   "cell_type": "code",
   "execution_count": 127,
   "metadata": {},
   "outputs": [],
   "source": [
    "X_train, X_test, y_train, y_test = train_test_split(X, y, test_size=0.2, shuffle=False)"
   ]
  },
  {
   "cell_type": "code",
   "execution_count": 128,
   "metadata": {},
   "outputs": [],
   "source": [
    "scaler_X = StandardScaler()\n",
    "X_train_scaled = scaler_X.fit_transform(X_train)\n",
    "X_test_scaled = scaler_X.transform(X_test)"
   ]
  },
  {
   "cell_type": "code",
   "execution_count": 129,
   "metadata": {},
   "outputs": [],
   "source": [
    "X_train_seq, y_train_seq = create_sequences(pd.DataFrame(X_train_scaled), y_train)\n",
    "X_test_seq, y_test_seq = create_sequences(pd.DataFrame(X_test_scaled), y_test)"
   ]
  },
  {
   "cell_type": "code",
   "execution_count": 130,
   "metadata": {},
   "outputs": [],
   "source": [
    "apply_pca = True\n",
    "n_components = 10\n",
    "\n",
    "if apply_pca:\n",
    "    pca = PCA(n_components=n_components)\n",
    "    X_train_seq_flat = X_train_seq.reshape(-1, X_train_seq.shape[-1])\n",
    "    X_test_seq_flat = X_test_seq.reshape(-1, X_test_seq.shape[-1])\n",
    "\n",
    "    X_train_pca = pca.fit_transform(X_train_seq_flat)\n",
    "    X_test_pca = pca.transform(X_test_seq_flat)\n",
    "\n",
    "    X_train_seq = X_train_pca.reshape(-1, time_steps, n_components)\n",
    "    X_test_seq = X_test_pca.reshape(-1, time_steps, n_components)"
   ]
  },
  {
   "cell_type": "code",
   "execution_count": 131,
   "metadata": {},
   "outputs": [],
   "source": [
    "scaler_y = MinMaxScaler()\n",
    "y_train_seq_scaled = scaler_y.fit_transform(y_train_seq.reshape(-1, 1)).flatten()\n",
    "y_test_seq_scaled = scaler_y.transform(y_test_seq.reshape(-1, 1)).flatten()"
   ]
  },
  {
   "cell_type": "code",
   "execution_count": 138,
   "metadata": {},
   "outputs": [],
   "source": [
    "def train_evaluate_model(lstm_units, dense_units1, dense_units2, dropout, l2_lambda, activation_idx, learning_rate):\n",
    "    # Convertir valores a enteros y activación\n",
    "    lstm_units = int(round(lstm_units))\n",
    "    dense_units1 = int(round(dense_units1))\n",
    "    dense_units2 = int(round(dense_units2))\n",
    "    activation_funcs = ['linear', 'relu', 'tanh']\n",
    "    activation = activation_funcs[int(round(activation_idx))]\n",
    "\n",
    "    # Construir modelo\n",
    "    model = Sequential([\n",
    "        LSTM(lstm_units, return_sequences=False, input_shape=(X_train_seq.shape[1], X_train_seq.shape[2]),\n",
    "             kernel_regularizer=l1_l2(l2=l2_lambda)),\n",
    "        Dropout(dropout),\n",
    "        Dense(dense_units1, activation='relu', kernel_regularizer=l1_l2(l2=l2_lambda)),\n",
    "        Dense(dense_units2, activation='relu'),\n",
    "        Dense(1, activation=activation)\n",
    "    ])\n",
    "    model.compile(optimizer=Adam(learning_rate=learning_rate), loss='mse', metrics=['mae'])\n",
    "    model.fit(X_train_seq, y_train_seq_scaled, epochs=30, batch_size=64, shuffle=False, verbose=0,\n",
    "              validation_data=(X_test_seq, y_test_seq_scaled),\n",
    "              callbacks=[tf.keras.callbacks.EarlyStopping(monitor='val_loss', patience=5, restore_best_weights=True)])\n",
    "    y_pred_test = model.predict(X_test_seq)\n",
    "    mae_test = mean_absolute_error(y_test_seq_scaled, y_pred_test)\n",
    "    return -mae_test\n",
    "\n"
   ]
  },
  {
   "cell_type": "code",
   "execution_count": 139,
   "metadata": {},
   "outputs": [],
   "source": [
    "pbounds = {\n",
    "    'lstm_units': (40, 80),\n",
    "    'dense_units1': (64, 128),\n",
    "    'dense_units2': (32, 64),\n",
    "    'dropout': (0.1, 0.2),\n",
    "    'l2_lambda': (0.01, 0.02),\n",
    "    'learning_rate': (0.001, 0.003),\n",
    "    'activation_idx': (0, 2)\n",
    "}"
   ]
  },
  {
   "cell_type": "code",
   "execution_count": 140,
   "metadata": {},
   "outputs": [
    {
     "name": "stdout",
     "output_type": "stream",
     "text": [
      "|   iter    |  target   | activa... | dense_... | dense_... |  dropout  | l2_lambda | learni... | lstm_u... |\n",
      "-------------------------------------------------------------------------------------------------------------\n"
     ]
    },
    {
     "name": "stderr",
     "output_type": "stream",
     "text": [
      "c:\\Users\\santi\\anaconda3\\Lib\\site-packages\\keras\\src\\layers\\rnn\\rnn.py:204: UserWarning: Do not pass an `input_shape`/`input_dim` argument to a layer. When using Sequential models, prefer using an `Input(shape)` object as the first layer in the model instead.\n",
      "  super().__init__(**kwargs)\n"
     ]
    },
    {
     "name": "stdout",
     "output_type": "stream",
     "text": [
      "\u001b[1m6/6\u001b[0m \u001b[32m━━━━━━━━━━━━━━━━━━━━\u001b[0m\u001b[37m\u001b[0m \u001b[1m1s\u001b[0m 62ms/step\n",
      "| \u001b[39m1        \u001b[39m | \u001b[39m-0.05939 \u001b[39m | \u001b[39m0.7491   \u001b[39m | \u001b[39m124.8    \u001b[39m | \u001b[39m55.42    \u001b[39m | \u001b[39m0.1599   \u001b[39m | \u001b[39m0.01156  \u001b[39m | \u001b[39m0.001312 \u001b[39m | \u001b[39m42.32    \u001b[39m |\n"
     ]
    },
    {
     "name": "stderr",
     "output_type": "stream",
     "text": [
      "c:\\Users\\santi\\anaconda3\\Lib\\site-packages\\keras\\src\\layers\\rnn\\rnn.py:204: UserWarning: Do not pass an `input_shape`/`input_dim` argument to a layer. When using Sequential models, prefer using an `Input(shape)` object as the first layer in the model instead.\n",
      "  super().__init__(**kwargs)\n"
     ]
    },
    {
     "name": "stdout",
     "output_type": "stream",
     "text": [
      "\u001b[1m6/6\u001b[0m \u001b[32m━━━━━━━━━━━━━━━━━━━━\u001b[0m\u001b[37m\u001b[0m \u001b[1m1s\u001b[0m 75ms/step\n",
      "| \u001b[39m2        \u001b[39m | \u001b[39m-0.1337  \u001b[39m | \u001b[39m1.732    \u001b[39m | \u001b[39m102.5    \u001b[39m | \u001b[39m54.66    \u001b[39m | \u001b[39m0.1021   \u001b[39m | \u001b[39m0.0197   \u001b[39m | \u001b[39m0.002665 \u001b[39m | \u001b[39m48.49    \u001b[39m |\n"
     ]
    },
    {
     "name": "stderr",
     "output_type": "stream",
     "text": [
      "c:\\Users\\santi\\anaconda3\\Lib\\site-packages\\keras\\src\\layers\\rnn\\rnn.py:204: UserWarning: Do not pass an `input_shape`/`input_dim` argument to a layer. When using Sequential models, prefer using an `Input(shape)` object as the first layer in the model instead.\n",
      "  super().__init__(**kwargs)\n"
     ]
    },
    {
     "name": "stdout",
     "output_type": "stream",
     "text": [
      "\u001b[1m6/6\u001b[0m \u001b[32m━━━━━━━━━━━━━━━━━━━━\u001b[0m\u001b[37m\u001b[0m \u001b[1m1s\u001b[0m 71ms/step\n",
      "| \u001b[39m3        \u001b[39m | \u001b[39m-0.08081 \u001b[39m | \u001b[39m0.3636   \u001b[39m | \u001b[39m75.74    \u001b[39m | \u001b[39m41.74    \u001b[39m | \u001b[39m0.1525   \u001b[39m | \u001b[39m0.01432  \u001b[39m | \u001b[39m0.001582 \u001b[39m | \u001b[39m64.47    \u001b[39m |\n"
     ]
    },
    {
     "name": "stderr",
     "output_type": "stream",
     "text": [
      "c:\\Users\\santi\\anaconda3\\Lib\\site-packages\\keras\\src\\layers\\rnn\\rnn.py:204: UserWarning: Do not pass an `input_shape`/`input_dim` argument to a layer. When using Sequential models, prefer using an `Input(shape)` object as the first layer in the model instead.\n",
      "  super().__init__(**kwargs)\n"
     ]
    },
    {
     "name": "stdout",
     "output_type": "stream",
     "text": [
      "\u001b[1m6/6\u001b[0m \u001b[32m━━━━━━━━━━━━━━━━━━━━\u001b[0m\u001b[37m\u001b[0m \u001b[1m1s\u001b[0m 76ms/step\n",
      "| \u001b[39m4        \u001b[39m | \u001b[39m-0.06181 \u001b[39m | \u001b[39m0.279    \u001b[39m | \u001b[39m82.7     \u001b[39m | \u001b[39m43.72    \u001b[39m | \u001b[39m0.1456   \u001b[39m | \u001b[39m0.01785  \u001b[39m | \u001b[39m0.001399 \u001b[39m | \u001b[39m60.57    \u001b[39m |\n"
     ]
    },
    {
     "name": "stderr",
     "output_type": "stream",
     "text": [
      "c:\\Users\\santi\\anaconda3\\Lib\\site-packages\\keras\\src\\layers\\rnn\\rnn.py:204: UserWarning: Do not pass an `input_shape`/`input_dim` argument to a layer. When using Sequential models, prefer using an `Input(shape)` object as the first layer in the model instead.\n",
      "  super().__init__(**kwargs)\n"
     ]
    },
    {
     "name": "stdout",
     "output_type": "stream",
     "text": [
      "\u001b[1m6/6\u001b[0m \u001b[32m━━━━━━━━━━━━━━━━━━━━\u001b[0m\u001b[37m\u001b[0m \u001b[1m1s\u001b[0m 67ms/step\n",
      "| \u001b[35m5        \u001b[39m | \u001b[35m-0.04096 \u001b[39m | \u001b[35m1.185    \u001b[39m | \u001b[35m66.97    \u001b[39m | \u001b[35m51.44    \u001b[39m | \u001b[35m0.1171   \u001b[39m | \u001b[35m0.01065  \u001b[39m | \u001b[35m0.002898 \u001b[39m | \u001b[35m78.63    \u001b[39m |\n"
     ]
    },
    {
     "name": "stderr",
     "output_type": "stream",
     "text": [
      "c:\\Users\\santi\\anaconda3\\Lib\\site-packages\\keras\\src\\layers\\rnn\\rnn.py:204: UserWarning: Do not pass an `input_shape`/`input_dim` argument to a layer. When using Sequential models, prefer using an `Input(shape)` object as the first layer in the model instead.\n",
      "  super().__init__(**kwargs)\n"
     ]
    },
    {
     "name": "stdout",
     "output_type": "stream",
     "text": [
      "\u001b[1m6/6\u001b[0m \u001b[32m━━━━━━━━━━━━━━━━━━━━\u001b[0m\u001b[37m\u001b[0m \u001b[1m1s\u001b[0m 71ms/step\n",
      "| \u001b[39m6        \u001b[39m | \u001b[39m-0.04656 \u001b[39m | \u001b[39m0.7358   \u001b[39m | \u001b[39m65.06    \u001b[39m | \u001b[39m58.86    \u001b[39m | \u001b[39m0.178    \u001b[39m | \u001b[39m0.01063  \u001b[39m | \u001b[39m0.00173  \u001b[39m | \u001b[39m78.21    \u001b[39m |\n"
     ]
    },
    {
     "name": "stderr",
     "output_type": "stream",
     "text": [
      "c:\\Users\\santi\\anaconda3\\Lib\\site-packages\\keras\\src\\layers\\rnn\\rnn.py:204: UserWarning: Do not pass an `input_shape`/`input_dim` argument to a layer. When using Sequential models, prefer using an `Input(shape)` object as the first layer in the model instead.\n",
      "  super().__init__(**kwargs)\n"
     ]
    },
    {
     "name": "stdout",
     "output_type": "stream",
     "text": [
      "\u001b[1m6/6\u001b[0m \u001b[32m━━━━━━━━━━━━━━━━━━━━\u001b[0m\u001b[37m\u001b[0m \u001b[1m1s\u001b[0m 103ms/step\n",
      "| \u001b[35m7        \u001b[39m | \u001b[35m-0.02505 \u001b[39m | \u001b[35m0.9978   \u001b[39m | \u001b[35m65.71    \u001b[39m | \u001b[35m52.03    \u001b[39m | \u001b[35m0.1558   \u001b[39m | \u001b[35m0.01379  \u001b[39m | \u001b[35m0.001924 \u001b[39m | \u001b[35m79.6     \u001b[39m |\n"
     ]
    },
    {
     "name": "stderr",
     "output_type": "stream",
     "text": [
      "c:\\Users\\santi\\anaconda3\\Lib\\site-packages\\keras\\src\\layers\\rnn\\rnn.py:204: UserWarning: Do not pass an `input_shape`/`input_dim` argument to a layer. When using Sequential models, prefer using an `Input(shape)` object as the first layer in the model instead.\n",
      "  super().__init__(**kwargs)\n"
     ]
    },
    {
     "name": "stdout",
     "output_type": "stream",
     "text": [
      "\u001b[1m6/6\u001b[0m \u001b[32m━━━━━━━━━━━━━━━━━━━━\u001b[0m\u001b[37m\u001b[0m \u001b[1m1s\u001b[0m 66ms/step\n",
      "| \u001b[39m8        \u001b[39m | \u001b[39m-0.05623 \u001b[39m | \u001b[39m1.491    \u001b[39m | \u001b[39m64.73    \u001b[39m | \u001b[39m40.91    \u001b[39m | \u001b[39m0.1156   \u001b[39m | \u001b[39m0.0189   \u001b[39m | \u001b[39m0.001097 \u001b[39m | \u001b[39m78.5     \u001b[39m |\n"
     ]
    },
    {
     "name": "stderr",
     "output_type": "stream",
     "text": [
      "c:\\Users\\santi\\anaconda3\\Lib\\site-packages\\keras\\src\\layers\\rnn\\rnn.py:204: UserWarning: Do not pass an `input_shape`/`input_dim` argument to a layer. When using Sequential models, prefer using an `Input(shape)` object as the first layer in the model instead.\n",
      "  super().__init__(**kwargs)\n"
     ]
    },
    {
     "name": "stdout",
     "output_type": "stream",
     "text": [
      "\u001b[1m6/6\u001b[0m \u001b[32m━━━━━━━━━━━━━━━━━━━━\u001b[0m\u001b[37m\u001b[0m \u001b[1m1s\u001b[0m 189ms/step\n",
      "| \u001b[39m9        \u001b[39m | \u001b[39m-0.03091 \u001b[39m | \u001b[39m0.9203   \u001b[39m | \u001b[39m64.58    \u001b[39m | \u001b[39m52.44    \u001b[39m | \u001b[39m0.1911   \u001b[39m | \u001b[39m0.01972  \u001b[39m | \u001b[39m0.002118 \u001b[39m | \u001b[39m70.77    \u001b[39m |\n"
     ]
    },
    {
     "name": "stderr",
     "output_type": "stream",
     "text": [
      "c:\\Users\\santi\\anaconda3\\Lib\\site-packages\\keras\\src\\layers\\rnn\\rnn.py:204: UserWarning: Do not pass an `input_shape`/`input_dim` argument to a layer. When using Sequential models, prefer using an `Input(shape)` object as the first layer in the model instead.\n",
      "  super().__init__(**kwargs)\n"
     ]
    },
    {
     "name": "stdout",
     "output_type": "stream",
     "text": [
      "\u001b[1m6/6\u001b[0m \u001b[32m━━━━━━━━━━━━━━━━━━━━\u001b[0m\u001b[37m\u001b[0m \u001b[1m1s\u001b[0m 64ms/step\n",
      "| \u001b[39m10       \u001b[39m | \u001b[39m-0.05598 \u001b[39m | \u001b[39m0.1743   \u001b[39m | \u001b[39m64.96    \u001b[39m | \u001b[39m58.88    \u001b[39m | \u001b[39m0.1015   \u001b[39m | \u001b[39m0.01464  \u001b[39m | \u001b[39m0.002708 \u001b[39m | \u001b[39m68.65    \u001b[39m |\n"
     ]
    },
    {
     "name": "stderr",
     "output_type": "stream",
     "text": [
      "c:\\Users\\santi\\anaconda3\\Lib\\site-packages\\keras\\src\\layers\\rnn\\rnn.py:204: UserWarning: Do not pass an `input_shape`/`input_dim` argument to a layer. When using Sequential models, prefer using an `Input(shape)` object as the first layer in the model instead.\n",
      "  super().__init__(**kwargs)\n"
     ]
    },
    {
     "name": "stdout",
     "output_type": "stream",
     "text": [
      "\u001b[1m6/6\u001b[0m \u001b[32m━━━━━━━━━━━━━━━━━━━━\u001b[0m\u001b[37m\u001b[0m \u001b[1m1s\u001b[0m 62ms/step\n",
      "| \u001b[39m11       \u001b[39m | \u001b[39m-0.1358  \u001b[39m | \u001b[39m1.936    \u001b[39m | \u001b[39m65.55    \u001b[39m | \u001b[39m48.38    \u001b[39m | \u001b[39m0.1948   \u001b[39m | \u001b[39m0.01074  \u001b[39m | \u001b[39m0.001347 \u001b[39m | \u001b[39m66.4     \u001b[39m |\n"
     ]
    },
    {
     "name": "stderr",
     "output_type": "stream",
     "text": [
      "c:\\Users\\santi\\anaconda3\\Lib\\site-packages\\keras\\src\\layers\\rnn\\rnn.py:204: UserWarning: Do not pass an `input_shape`/`input_dim` argument to a layer. When using Sequential models, prefer using an `Input(shape)` object as the first layer in the model instead.\n",
      "  super().__init__(**kwargs)\n"
     ]
    },
    {
     "name": "stdout",
     "output_type": "stream",
     "text": [
      "\u001b[1m6/6\u001b[0m \u001b[32m━━━━━━━━━━━━━━━━━━━━\u001b[0m\u001b[37m\u001b[0m \u001b[1m1s\u001b[0m 63ms/step\n",
      "| \u001b[39m12       \u001b[39m | \u001b[39m-0.06896 \u001b[39m | \u001b[39m1.394    \u001b[39m | \u001b[39m65.19    \u001b[39m | \u001b[39m53.39    \u001b[39m | \u001b[39m0.1664   \u001b[39m | \u001b[39m0.01939  \u001b[39m | \u001b[39m0.001461 \u001b[39m | \u001b[39m73.94    \u001b[39m |\n"
     ]
    },
    {
     "name": "stderr",
     "output_type": "stream",
     "text": [
      "c:\\Users\\santi\\anaconda3\\Lib\\site-packages\\keras\\src\\layers\\rnn\\rnn.py:204: UserWarning: Do not pass an `input_shape`/`input_dim` argument to a layer. When using Sequential models, prefer using an `Input(shape)` object as the first layer in the model instead.\n",
      "  super().__init__(**kwargs)\n"
     ]
    },
    {
     "name": "stdout",
     "output_type": "stream",
     "text": [
      "\u001b[1m6/6\u001b[0m \u001b[32m━━━━━━━━━━━━━━━━━━━━\u001b[0m\u001b[37m\u001b[0m \u001b[1m1s\u001b[0m 68ms/step\n",
      "| \u001b[39m13       \u001b[39m | \u001b[39m-0.03658 \u001b[39m | \u001b[39m1.165    \u001b[39m | \u001b[39m66.06    \u001b[39m | \u001b[39m54.95    \u001b[39m | \u001b[39m0.1863   \u001b[39m | \u001b[39m0.01861  \u001b[39m | \u001b[39m0.002594 \u001b[39m | \u001b[39m79.56    \u001b[39m |\n"
     ]
    },
    {
     "name": "stderr",
     "output_type": "stream",
     "text": [
      "c:\\Users\\santi\\anaconda3\\Lib\\site-packages\\keras\\src\\layers\\rnn\\rnn.py:204: UserWarning: Do not pass an `input_shape`/`input_dim` argument to a layer. When using Sequential models, prefer using an `Input(shape)` object as the first layer in the model instead.\n",
      "  super().__init__(**kwargs)\n"
     ]
    },
    {
     "name": "stdout",
     "output_type": "stream",
     "text": [
      "\u001b[1m6/6\u001b[0m \u001b[32m━━━━━━━━━━━━━━━━━━━━\u001b[0m\u001b[37m\u001b[0m \u001b[1m1s\u001b[0m 66ms/step\n",
      "| \u001b[39m14       \u001b[39m | \u001b[39m-0.1456  \u001b[39m | \u001b[39m1.609    \u001b[39m | \u001b[39m64.68    \u001b[39m | \u001b[39m49.1     \u001b[39m | \u001b[39m0.1456   \u001b[39m | \u001b[39m0.01514  \u001b[39m | \u001b[39m0.001132 \u001b[39m | \u001b[39m78.56    \u001b[39m |\n"
     ]
    },
    {
     "name": "stderr",
     "output_type": "stream",
     "text": [
      "c:\\Users\\santi\\anaconda3\\Lib\\site-packages\\keras\\src\\layers\\rnn\\rnn.py:204: UserWarning: Do not pass an `input_shape`/`input_dim` argument to a layer. When using Sequential models, prefer using an `Input(shape)` object as the first layer in the model instead.\n",
      "  super().__init__(**kwargs)\n"
     ]
    },
    {
     "name": "stdout",
     "output_type": "stream",
     "text": [
      "\u001b[1m6/6\u001b[0m \u001b[32m━━━━━━━━━━━━━━━━━━━━\u001b[0m\u001b[37m\u001b[0m \u001b[1m1s\u001b[0m 66ms/step\n",
      "| \u001b[39m15       \u001b[39m | \u001b[39m-0.1227  \u001b[39m | \u001b[39m1.758    \u001b[39m | \u001b[39m66.25    \u001b[39m | \u001b[39m53.64    \u001b[39m | \u001b[39m0.1936   \u001b[39m | \u001b[39m0.01858  \u001b[39m | \u001b[39m0.001946 \u001b[39m | \u001b[39m77.81    \u001b[39m |\n"
     ]
    },
    {
     "name": "stderr",
     "output_type": "stream",
     "text": [
      "c:\\Users\\santi\\anaconda3\\Lib\\site-packages\\keras\\src\\layers\\rnn\\rnn.py:204: UserWarning: Do not pass an `input_shape`/`input_dim` argument to a layer. When using Sequential models, prefer using an `Input(shape)` object as the first layer in the model instead.\n",
      "  super().__init__(**kwargs)\n"
     ]
    },
    {
     "name": "stdout",
     "output_type": "stream",
     "text": [
      "\u001b[1m6/6\u001b[0m \u001b[32m━━━━━━━━━━━━━━━━━━━━\u001b[0m\u001b[37m\u001b[0m \u001b[1m1s\u001b[0m 65ms/step\n",
      "| \u001b[39m16       \u001b[39m | \u001b[39m-0.04627 \u001b[39m | \u001b[39m1.29     \u001b[39m | \u001b[39m65.13    \u001b[39m | \u001b[39m53.18    \u001b[39m | \u001b[39m0.1328   \u001b[39m | \u001b[39m0.0184   \u001b[39m | \u001b[39m0.00291  \u001b[39m | \u001b[39m70.59    \u001b[39m |\n"
     ]
    },
    {
     "name": "stderr",
     "output_type": "stream",
     "text": [
      "c:\\Users\\santi\\anaconda3\\Lib\\site-packages\\keras\\src\\layers\\rnn\\rnn.py:204: UserWarning: Do not pass an `input_shape`/`input_dim` argument to a layer. When using Sequential models, prefer using an `Input(shape)` object as the first layer in the model instead.\n",
      "  super().__init__(**kwargs)\n"
     ]
    },
    {
     "name": "stdout",
     "output_type": "stream",
     "text": [
      "\u001b[1m6/6\u001b[0m \u001b[32m━━━━━━━━━━━━━━━━━━━━\u001b[0m\u001b[37m\u001b[0m \u001b[1m1s\u001b[0m 81ms/step\n",
      "| \u001b[39m17       \u001b[39m | \u001b[39m-0.04452 \u001b[39m | \u001b[39m1.304    \u001b[39m | \u001b[39m64.8     \u001b[39m | \u001b[39m54.52    \u001b[39m | \u001b[39m0.1188   \u001b[39m | \u001b[39m0.01782  \u001b[39m | \u001b[39m0.001643 \u001b[39m | \u001b[39m79.24    \u001b[39m |\n"
     ]
    },
    {
     "name": "stderr",
     "output_type": "stream",
     "text": [
      "c:\\Users\\santi\\anaconda3\\Lib\\site-packages\\keras\\src\\layers\\rnn\\rnn.py:204: UserWarning: Do not pass an `input_shape`/`input_dim` argument to a layer. When using Sequential models, prefer using an `Input(shape)` object as the first layer in the model instead.\n",
      "  super().__init__(**kwargs)\n"
     ]
    },
    {
     "name": "stdout",
     "output_type": "stream",
     "text": [
      "\u001b[1m6/6\u001b[0m \u001b[32m━━━━━━━━━━━━━━━━━━━━\u001b[0m\u001b[37m\u001b[0m \u001b[1m1s\u001b[0m 62ms/step\n",
      "| \u001b[39m18       \u001b[39m | \u001b[39m-0.1158  \u001b[39m | \u001b[39m0.2045   \u001b[39m | \u001b[39m65.74    \u001b[39m | \u001b[39m51.87    \u001b[39m | \u001b[39m0.1857   \u001b[39m | \u001b[39m0.01999  \u001b[39m | \u001b[39m0.001026 \u001b[39m | \u001b[39m70.31    \u001b[39m |\n"
     ]
    },
    {
     "name": "stderr",
     "output_type": "stream",
     "text": [
      "c:\\Users\\santi\\anaconda3\\Lib\\site-packages\\keras\\src\\layers\\rnn\\rnn.py:204: UserWarning: Do not pass an `input_shape`/`input_dim` argument to a layer. When using Sequential models, prefer using an `Input(shape)` object as the first layer in the model instead.\n",
      "  super().__init__(**kwargs)\n"
     ]
    },
    {
     "name": "stdout",
     "output_type": "stream",
     "text": [
      "\u001b[1m6/6\u001b[0m \u001b[32m━━━━━━━━━━━━━━━━━━━━\u001b[0m\u001b[37m\u001b[0m \u001b[1m1s\u001b[0m 65ms/step\n",
      "| \u001b[39m19       \u001b[39m | \u001b[39m-0.04961 \u001b[39m | \u001b[39m0.6396   \u001b[39m | \u001b[39m65.45    \u001b[39m | \u001b[39m52.08    \u001b[39m | \u001b[39m0.1235   \u001b[39m | \u001b[39m0.01284  \u001b[39m | \u001b[39m0.002196 \u001b[39m | \u001b[39m78.61    \u001b[39m |\n"
     ]
    },
    {
     "name": "stderr",
     "output_type": "stream",
     "text": [
      "c:\\Users\\santi\\anaconda3\\Lib\\site-packages\\keras\\src\\layers\\rnn\\rnn.py:204: UserWarning: Do not pass an `input_shape`/`input_dim` argument to a layer. When using Sequential models, prefer using an `Input(shape)` object as the first layer in the model instead.\n",
      "  super().__init__(**kwargs)\n"
     ]
    },
    {
     "name": "stdout",
     "output_type": "stream",
     "text": [
      "\u001b[1m6/6\u001b[0m \u001b[32m━━━━━━━━━━━━━━━━━━━━\u001b[0m\u001b[37m\u001b[0m \u001b[1m1s\u001b[0m 64ms/step\n",
      "| \u001b[39m20       \u001b[39m | \u001b[39m-0.07718 \u001b[39m | \u001b[39m0.9244   \u001b[39m | \u001b[39m65.66    \u001b[39m | \u001b[39m53.71    \u001b[39m | \u001b[39m0.1219   \u001b[39m | \u001b[39m0.01085  \u001b[39m | \u001b[39m0.001696 \u001b[39m | \u001b[39m80.0     \u001b[39m |\n",
      "=============================================================================================================\n"
     ]
    }
   ],
   "source": [
    "optimizer = BayesianOptimization(f=train_evaluate_model, pbounds=pbounds, random_state=SEED)\n",
    "optimizer.maximize(init_points=5, n_iter=15)"
   ]
  },
  {
   "cell_type": "code",
   "execution_count": 141,
   "metadata": {},
   "outputs": [
    {
     "data": {
      "text/plain": [
       "{'target': -0.025052532462526835,\n",
       " 'params': {'activation_idx': 0.9978192507516364,\n",
       "  'dense_units1': 65.7098364407815,\n",
       "  'dense_units2': 52.03472762176129,\n",
       "  'dropout': 0.15583297919511763,\n",
       "  'l2_lambda': 0.013793931603201757,\n",
       "  'learning_rate': 0.0019236034889642214,\n",
       "  'lstm_units': 79.60379916222227}}"
      ]
     },
     "execution_count": 141,
     "metadata": {},
     "output_type": "execute_result"
    }
   ],
   "source": [
    "best_params = optimizer.max\n",
    "best_params"
   ]
  },
  {
   "cell_type": "code",
   "execution_count": null,
   "metadata": {},
   "outputs": [],
   "source": [
    "best_batch_size = int(round(102.45163022192021))\n",
    "best_dropout = 0.15583297919511763  # Nuevo valor ajustado\n",
    "best_lstm_units = int(round(79.60379916222227))\n",
    "best_dense_units1 = int(round(65.7098364407815))\n",
    "best_dense_units2 = int(round(52.03472762176129))\n",
    "best_l2_lambda = 0.013793931603201757\n",
    "activations = ['linear', 'relu', 'tanh', 'sigmoid']\n",
    "learning_rate = 0.0019236034889642214\n",
    "best_activation = activations[int(round(0.9978192507516364 * (len(activations) - 1)))]  # Escalar índice"
   ]
  },
  {
   "cell_type": "code",
   "execution_count": 143,
   "metadata": {},
   "outputs": [
    {
     "name": "stderr",
     "output_type": "stream",
     "text": [
      "c:\\Users\\santi\\anaconda3\\Lib\\site-packages\\keras\\src\\layers\\rnn\\rnn.py:204: UserWarning: Do not pass an `input_shape`/`input_dim` argument to a layer. When using Sequential models, prefer using an `Input(shape)` object as the first layer in the model instead.\n",
      "  super().__init__(**kwargs)\n"
     ]
    }
   ],
   "source": [
    "model = Sequential([\n",
    "    LSTM(best_lstm_units, return_sequences=False, input_shape=(X_train_seq.shape[1], X_train_seq.shape[2]), \n",
    "         kernel_regularizer=l2(best_l2_lambda)),\n",
    "    Dropout(best_dropout),\n",
    "    Dense(best_dense_units1, activation='relu', kernel_regularizer=l2(best_l2_lambda)),\n",
    "    Dense(best_dense_units2, activation='relu'),\n",
    "    Dense(1, activation=best_activation)  # Activación optimizada\n",
    "])"
   ]
  },
  {
   "cell_type": "code",
   "execution_count": 144,
   "metadata": {},
   "outputs": [
    {
     "name": "stdout",
     "output_type": "stream",
     "text": [
      "Epoch 1/50\n",
      "\u001b[1m10/10\u001b[0m \u001b[32m━━━━━━━━━━━━━━━━━━━━\u001b[0m\u001b[37m\u001b[0m \u001b[1m5s\u001b[0m 104ms/step - loss: 1.2489 - mae: 0.2046 - val_loss: 1.0328 - val_mae: 0.2778\n",
      "Epoch 2/50\n",
      "\u001b[1m10/10\u001b[0m \u001b[32m━━━━━━━━━━━━━━━━━━━━\u001b[0m\u001b[37m\u001b[0m \u001b[1m0s\u001b[0m 46ms/step - loss: 0.8958 - mae: 0.1083 - val_loss: 0.7084 - val_mae: 0.1481\n",
      "Epoch 3/50\n",
      "\u001b[1m10/10\u001b[0m \u001b[32m━━━━━━━━━━━━━━━━━━━━\u001b[0m\u001b[37m\u001b[0m \u001b[1m0s\u001b[0m 47ms/step - loss: 0.6443 - mae: 0.0971 - val_loss: 0.5139 - val_mae: 0.1685\n",
      "Epoch 4/50\n",
      "\u001b[1m10/10\u001b[0m \u001b[32m━━━━━━━━━━━━━━━━━━━━\u001b[0m\u001b[37m\u001b[0m \u001b[1m1s\u001b[0m 54ms/step - loss: 0.4533 - mae: 0.0801 - val_loss: 0.3655 - val_mae: 0.1633\n",
      "Epoch 5/50\n",
      "\u001b[1m10/10\u001b[0m \u001b[32m━━━━━━━━━━━━━━━━━━━━\u001b[0m\u001b[37m\u001b[0m \u001b[1m0s\u001b[0m 46ms/step - loss: 0.3140 - mae: 0.0729 - val_loss: 0.2637 - val_mae: 0.1700\n",
      "Epoch 6/50\n",
      "\u001b[1m10/10\u001b[0m \u001b[32m━━━━━━━━━━━━━━━━━━━━\u001b[0m\u001b[37m\u001b[0m \u001b[1m0s\u001b[0m 47ms/step - loss: 0.2188 - mae: 0.0732 - val_loss: 0.1897 - val_mae: 0.1640\n",
      "Epoch 7/50\n",
      "\u001b[1m10/10\u001b[0m \u001b[32m━━━━━━━━━━━━━━━━━━━━\u001b[0m\u001b[37m\u001b[0m \u001b[1m1s\u001b[0m 57ms/step - loss: 0.1548 - mae: 0.0885 - val_loss: 0.1353 - val_mae: 0.1554\n",
      "Epoch 8/50\n",
      "\u001b[1m10/10\u001b[0m \u001b[32m━━━━━━━━━━━━━━━━━━━━\u001b[0m\u001b[37m\u001b[0m \u001b[1m1s\u001b[0m 48ms/step - loss: 0.1108 - mae: 0.0761 - val_loss: 0.0999 - val_mae: 0.1514\n",
      "Epoch 9/50\n",
      "\u001b[1m10/10\u001b[0m \u001b[32m━━━━━━━━━━━━━━━━━━━━\u001b[0m\u001b[37m\u001b[0m \u001b[1m0s\u001b[0m 46ms/step - loss: 0.0772 - mae: 0.0702 - val_loss: 0.0778 - val_mae: 0.1531\n",
      "Epoch 10/50\n",
      "\u001b[1m10/10\u001b[0m \u001b[32m━━━━━━━━━━━━━━━━━━━━\u001b[0m\u001b[37m\u001b[0m \u001b[1m1s\u001b[0m 49ms/step - loss: 0.0528 - mae: 0.0647 - val_loss: 0.0620 - val_mae: 0.1518\n",
      "Epoch 11/50\n",
      "\u001b[1m10/10\u001b[0m \u001b[32m━━━━━━━━━━━━━━━━━━━━\u001b[0m\u001b[37m\u001b[0m \u001b[1m0s\u001b[0m 46ms/step - loss: 0.0369 - mae: 0.0606 - val_loss: 0.0521 - val_mae: 0.1559\n",
      "Epoch 12/50\n",
      "\u001b[1m10/10\u001b[0m \u001b[32m━━━━━━━━━━━━━━━━━━━━\u001b[0m\u001b[37m\u001b[0m \u001b[1m0s\u001b[0m 46ms/step - loss: 0.0252 - mae: 0.0472 - val_loss: 0.0409 - val_mae: 0.1392\n",
      "Epoch 13/50\n",
      "\u001b[1m10/10\u001b[0m \u001b[32m━━━━━━━━━━━━━━━━━━━━\u001b[0m\u001b[37m\u001b[0m \u001b[1m0s\u001b[0m 46ms/step - loss: 0.0182 - mae: 0.0445 - val_loss: 0.0367 - val_mae: 0.1417\n",
      "Epoch 14/50\n",
      "\u001b[1m10/10\u001b[0m \u001b[32m━━━━━━━━━━━━━━━━━━━━\u001b[0m\u001b[37m\u001b[0m \u001b[1m0s\u001b[0m 47ms/step - loss: 0.0144 - mae: 0.0480 - val_loss: 0.0344 - val_mae: 0.1432\n",
      "Epoch 15/50\n",
      "\u001b[1m10/10\u001b[0m \u001b[32m━━━━━━━━━━━━━━━━━━━━\u001b[0m\u001b[37m\u001b[0m \u001b[1m1s\u001b[0m 50ms/step - loss: 0.0130 - mae: 0.0515 - val_loss: 0.0278 - val_mae: 0.1292\n",
      "Epoch 16/50\n",
      "\u001b[1m10/10\u001b[0m \u001b[32m━━━━━━━━━━━━━━━━━━━━\u001b[0m\u001b[37m\u001b[0m \u001b[1m0s\u001b[0m 46ms/step - loss: 0.0229 - mae: 0.0827 - val_loss: 0.0287 - val_mae: 0.1336\n",
      "Epoch 17/50\n",
      "\u001b[1m10/10\u001b[0m \u001b[32m━━━━━━━━━━━━━━━━━━━━\u001b[0m\u001b[37m\u001b[0m \u001b[1m1s\u001b[0m 49ms/step - loss: 0.0148 - mae: 0.0760 - val_loss: 0.0266 - val_mae: 0.1261\n",
      "Epoch 18/50\n",
      "\u001b[1m10/10\u001b[0m \u001b[32m━━━━━━━━━━━━━━━━━━━━\u001b[0m\u001b[37m\u001b[0m \u001b[1m1s\u001b[0m 61ms/step - loss: 0.0110 - mae: 0.0598 - val_loss: 0.0319 - val_mae: 0.1499\n",
      "Epoch 19/50\n",
      "\u001b[1m10/10\u001b[0m \u001b[32m━━━━━━━━━━━━━━━━━━━━\u001b[0m\u001b[37m\u001b[0m \u001b[1m1s\u001b[0m 50ms/step - loss: 0.0071 - mae: 0.0416 - val_loss: 0.0281 - val_mae: 0.1408\n",
      "Epoch 20/50\n",
      "\u001b[1m10/10\u001b[0m \u001b[32m━━━━━━━━━━━━━━━━━━━━\u001b[0m\u001b[37m\u001b[0m \u001b[1m1s\u001b[0m 60ms/step - loss: 0.0073 - mae: 0.0427 - val_loss: 0.0243 - val_mae: 0.1239\n",
      "Epoch 21/50\n",
      "\u001b[1m10/10\u001b[0m \u001b[32m━━━━━━━━━━━━━━━━━━━━\u001b[0m\u001b[37m\u001b[0m \u001b[1m1s\u001b[0m 51ms/step - loss: 0.0083 - mae: 0.0512 - val_loss: 0.0224 - val_mae: 0.1210\n",
      "Epoch 22/50\n",
      "\u001b[1m10/10\u001b[0m \u001b[32m━━━━━━━━━━━━━━━━━━━━\u001b[0m\u001b[37m\u001b[0m \u001b[1m1s\u001b[0m 49ms/step - loss: 0.0178 - mae: 0.0936 - val_loss: 0.0286 - val_mae: 0.1443\n",
      "Epoch 23/50\n",
      "\u001b[1m10/10\u001b[0m \u001b[32m━━━━━━━━━━━━━━━━━━━━\u001b[0m\u001b[37m\u001b[0m \u001b[1m1s\u001b[0m 50ms/step - loss: 0.0105 - mae: 0.0675 - val_loss: 0.0241 - val_mae: 0.1237\n",
      "Epoch 24/50\n",
      "\u001b[1m10/10\u001b[0m \u001b[32m━━━━━━━━━━━━━━━━━━━━\u001b[0m\u001b[37m\u001b[0m \u001b[1m1s\u001b[0m 54ms/step - loss: 0.0086 - mae: 0.0586 - val_loss: 0.0307 - val_mae: 0.1509\n",
      "Epoch 25/50\n",
      "\u001b[1m10/10\u001b[0m \u001b[32m━━━━━━━━━━━━━━━━━━━━\u001b[0m\u001b[37m\u001b[0m \u001b[1m1s\u001b[0m 48ms/step - loss: 0.0051 - mae: 0.0328 - val_loss: 0.0225 - val_mae: 0.1202\n",
      "Epoch 26/50\n",
      "\u001b[1m10/10\u001b[0m \u001b[32m━━━━━━━━━━━━━━━━━━━━\u001b[0m\u001b[37m\u001b[0m \u001b[1m1s\u001b[0m 56ms/step - loss: 0.0058 - mae: 0.0408 - val_loss: 0.0250 - val_mae: 0.1307\n",
      "Epoch 27/50\n",
      "\u001b[1m10/10\u001b[0m \u001b[32m━━━━━━━━━━━━━━━━━━━━\u001b[0m\u001b[37m\u001b[0m \u001b[1m1s\u001b[0m 49ms/step - loss: 0.0085 - mae: 0.0494 - val_loss: 0.0212 - val_mae: 0.1183\n",
      "Epoch 28/50\n",
      "\u001b[1m10/10\u001b[0m \u001b[32m━━━━━━━━━━━━━━━━━━━━\u001b[0m\u001b[37m\u001b[0m \u001b[1m1s\u001b[0m 51ms/step - loss: 0.0212 - mae: 0.0892 - val_loss: 0.0267 - val_mae: 0.1358\n",
      "Epoch 29/50\n",
      "\u001b[1m10/10\u001b[0m \u001b[32m━━━━━━━━━━━━━━━━━━━━\u001b[0m\u001b[37m\u001b[0m \u001b[1m1s\u001b[0m 48ms/step - loss: 0.0140 - mae: 0.0804 - val_loss: 0.0276 - val_mae: 0.1356\n",
      "Epoch 30/50\n",
      "\u001b[1m10/10\u001b[0m \u001b[32m━━━━━━━━━━━━━━━━━━━━\u001b[0m\u001b[37m\u001b[0m \u001b[1m1s\u001b[0m 50ms/step - loss: 0.0188 - mae: 0.0996 - val_loss: 0.0244 - val_mae: 0.1241\n",
      "Epoch 31/50\n",
      "\u001b[1m10/10\u001b[0m \u001b[32m━━━━━━━━━━━━━━━━━━━━\u001b[0m\u001b[37m\u001b[0m \u001b[1m1s\u001b[0m 51ms/step - loss: 0.0169 - mae: 0.0971 - val_loss: 0.0216 - val_mae: 0.1154\n",
      "Epoch 32/50\n",
      "\u001b[1m10/10\u001b[0m \u001b[32m━━━━━━━━━━━━━━━━━━━━\u001b[0m\u001b[37m\u001b[0m \u001b[1m1s\u001b[0m 49ms/step - loss: 0.0139 - mae: 0.0829 - val_loss: 0.0268 - val_mae: 0.1351\n",
      "Epoch 33/50\n",
      "\u001b[1m10/10\u001b[0m \u001b[32m━━━━━━━━━━━━━━━━━━━━\u001b[0m\u001b[37m\u001b[0m \u001b[1m1s\u001b[0m 55ms/step - loss: 0.0082 - mae: 0.0554 - val_loss: 0.0240 - val_mae: 0.1254\n",
      "Epoch 34/50\n",
      "\u001b[1m10/10\u001b[0m \u001b[32m━━━━━━━━━━━━━━━━━━━━\u001b[0m\u001b[37m\u001b[0m \u001b[1m1s\u001b[0m 57ms/step - loss: 0.0083 - mae: 0.0565 - val_loss: 0.0234 - val_mae: 0.1246\n",
      "Epoch 35/50\n",
      "\u001b[1m10/10\u001b[0m \u001b[32m━━━━━━━━━━━━━━━━━━━━\u001b[0m\u001b[37m\u001b[0m \u001b[1m1s\u001b[0m 51ms/step - loss: 0.0057 - mae: 0.0410 - val_loss: 0.0224 - val_mae: 0.1215\n",
      "Epoch 36/50\n",
      "\u001b[1m10/10\u001b[0m \u001b[32m━━━━━━━━━━━━━━━━━━━━\u001b[0m\u001b[37m\u001b[0m \u001b[1m0s\u001b[0m 47ms/step - loss: 0.0059 - mae: 0.0445 - val_loss: 0.0207 - val_mae: 0.1150\n",
      "Epoch 37/50\n",
      "\u001b[1m10/10\u001b[0m \u001b[32m━━━━━━━━━━━━━━━━━━━━\u001b[0m\u001b[37m\u001b[0m \u001b[1m1s\u001b[0m 48ms/step - loss: 0.0056 - mae: 0.0394 - val_loss: 0.0234 - val_mae: 0.1247\n",
      "Epoch 38/50\n",
      "\u001b[1m10/10\u001b[0m \u001b[32m━━━━━━━━━━━━━━━━━━━━\u001b[0m\u001b[37m\u001b[0m \u001b[1m1s\u001b[0m 49ms/step - loss: 0.0138 - mae: 0.0641 - val_loss: 0.0220 - val_mae: 0.1216\n",
      "Epoch 39/50\n",
      "\u001b[1m10/10\u001b[0m \u001b[32m━━━━━━━━━━━━━━━━━━━━\u001b[0m\u001b[37m\u001b[0m \u001b[1m0s\u001b[0m 47ms/step - loss: 0.0222 - mae: 0.0925 - val_loss: 0.0216 - val_mae: 0.1090\n",
      "Epoch 40/50\n",
      "\u001b[1m10/10\u001b[0m \u001b[32m━━━━━━━━━━━━━━━━━━━━\u001b[0m\u001b[37m\u001b[0m \u001b[1m1s\u001b[0m 57ms/step - loss: 0.0166 - mae: 0.0882 - val_loss: 0.0291 - val_mae: 0.1414\n",
      "Epoch 41/50\n",
      "\u001b[1m10/10\u001b[0m \u001b[32m━━━━━━━━━━━━━━━━━━━━\u001b[0m\u001b[37m\u001b[0m \u001b[1m1s\u001b[0m 48ms/step - loss: 0.0124 - mae: 0.0694 - val_loss: 0.0259 - val_mae: 0.1311\n",
      "Epoch 42/50\n",
      "\u001b[1m10/10\u001b[0m \u001b[32m━━━━━━━━━━━━━━━━━━━━\u001b[0m\u001b[37m\u001b[0m \u001b[1m1s\u001b[0m 51ms/step - loss: 0.0085 - mae: 0.0523 - val_loss: 0.0252 - val_mae: 0.1328\n",
      "Epoch 43/50\n",
      "\u001b[1m10/10\u001b[0m \u001b[32m━━━━━━━━━━━━━━━━━━━━\u001b[0m\u001b[37m\u001b[0m \u001b[1m1s\u001b[0m 55ms/step - loss: 0.0066 - mae: 0.0421 - val_loss: 0.0222 - val_mae: 0.1213\n",
      "Epoch 44/50\n",
      "\u001b[1m10/10\u001b[0m \u001b[32m━━━━━━━━━━━━━━━━━━━━\u001b[0m\u001b[37m\u001b[0m \u001b[1m1s\u001b[0m 58ms/step - loss: 0.0053 - mae: 0.0362 - val_loss: 0.0228 - val_mae: 0.1239\n",
      "Epoch 45/50\n",
      "\u001b[1m10/10\u001b[0m \u001b[32m━━━━━━━━━━━━━━━━━━━━\u001b[0m\u001b[37m\u001b[0m \u001b[1m1s\u001b[0m 51ms/step - loss: 0.0043 - mae: 0.0325 - val_loss: 0.0248 - val_mae: 0.1305\n",
      "Epoch 46/50\n",
      "\u001b[1m10/10\u001b[0m \u001b[32m━━━━━━━━━━━━━━━━━━━━\u001b[0m\u001b[37m\u001b[0m \u001b[1m1s\u001b[0m 52ms/step - loss: 0.0038 - mae: 0.0317 - val_loss: 0.0246 - val_mae: 0.1295\n"
     ]
    }
   ],
   "source": [
    "model.compile(optimizer=Adam(learning_rate=learning_rate), loss='mse', metrics=['mae'])\n",
    "\n",
    "\n",
    "history = model.fit(\n",
    "    X_train_seq, y_train_seq_scaled,\n",
    "    epochs=50, batch_size=best_batch_size, shuffle=False,\n",
    "    validation_data=(X_test_seq, y_test_seq_scaled),\n",
    "    callbacks=[EarlyStopping(monitor='val_loss', patience=10, restore_best_weights=True)]\n",
    ")"
   ]
  },
  {
   "cell_type": "code",
   "execution_count": 145,
   "metadata": {},
   "outputs": [
    {
     "name": "stdout",
     "output_type": "stream",
     "text": [
      "\u001b[1m30/30\u001b[0m \u001b[32m━━━━━━━━━━━━━━━━━━━━\u001b[0m\u001b[37m\u001b[0m \u001b[1m1s\u001b[0m 19ms/step\n",
      "\u001b[1m6/6\u001b[0m \u001b[32m━━━━━━━━━━━━━━━━━━━━\u001b[0m\u001b[37m\u001b[0m \u001b[1m0s\u001b[0m 9ms/step \n"
     ]
    }
   ],
   "source": [
    "y_pred_train_scaled = model.predict(X_train_seq)\n",
    "y_pred_test_scaled = model.predict(X_test_seq)"
   ]
  },
  {
   "cell_type": "code",
   "execution_count": 146,
   "metadata": {},
   "outputs": [],
   "source": [
    "y_pred_train = scaler_y.inverse_transform(y_pred_train_scaled)\n",
    "y_pred_test = scaler_y.inverse_transform(y_pred_test_scaled)\n",
    "y_train_true = scaler_y.inverse_transform(y_train_seq_scaled.reshape(-1, 1))\n",
    "y_test_true = scaler_y.inverse_transform(y_test_seq_scaled.reshape(-1, 1))"
   ]
  },
  {
   "cell_type": "code",
   "execution_count": 147,
   "metadata": {},
   "outputs": [
    {
     "name": "stdout",
     "output_type": "stream",
     "text": [
      "MAE train: 0.030299\n",
      "MAE test: 0.128290\n",
      "RMSE train: 0.043503\n",
      "RMSE test: 0.146037\n",
      "R² train: 0.963224\n",
      "R² test: -0.711161\n"
     ]
    }
   ],
   "source": [
    "evaluate_model(y_pred_train, y_pred_test, y_train_true, y_test_true)"
   ]
  },
  {
   "cell_type": "code",
   "execution_count": 148,
   "metadata": {},
   "outputs": [],
   "source": [
    "def plot_predictions(y_test_real, y_pred_test_real):\n",
    "    plt.figure(figsize=(12, 6))\n",
    "    plt.plot(y_test_real, label=\"Real\", color=\"blue\")\n",
    "    plt.plot(y_pred_test_real, label=\"Predicho\", color=\"orange\")\n",
    "    plt.title(\"Predictions vs Real values\")\n",
    "    plt.legend()\n",
    "    plt.show()"
   ]
  },
  {
   "cell_type": "code",
   "execution_count": 149,
   "metadata": {},
   "outputs": [
    {
     "data": {
      "image/png": "[encoded data removed]",
      "text/plain": [
       "<Figure size 1200x600 with 1 Axes>"
      ]
     },
     "metadata": {},
     "output_type": "display_data"
    }
   ],
   "source": [
    "plot_predictions(y_test_true, y_pred_test)"
   ]
  },
  {
   "cell_type": "code",
   "execution_count": null,
   "metadata": {},
   "outputs": [],
   "source": []
  }
 ],
 "metadata": {
  "kernelspec": {
   "display_name": "base",
   "language": "python",
   "name": "python3"
  },
  "language_info": {
   "codemirror_mode": {
    "name": "ipython",
    "version": 3
   },
   "file_extension": ".py",
   "mimetype": "text/x-python",
   "name": "python",
   "nbconvert_exporter": "python",
   "pygments_lexer": "ipython3",
   "version": "3.11.9"
  }
 },
 "nbformat": 4,
 "nbformat_minor": 2
}
