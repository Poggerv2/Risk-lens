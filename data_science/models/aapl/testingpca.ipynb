{
 "cells": [
  {
   "cell_type": "code",
   "execution_count": 1,
   "metadata": {},
   "outputs": [],
   "source": [
    "import numpy as np\n",
    "import pandas as pd\n",
    "import os\n",
    "import random\n",
    "import tensorflow as tf\n",
    "import matplotlib.pyplot as plt\n",
    "from tensorflow.keras.models import Sequential\n",
    "from tensorflow.keras.layers import LSTM, Dense, Dropout\n",
    "from tensorflow.keras.regularizers import l2\n",
    "from tensorflow.keras.optimizers import Adam, AdamW, Nadam\n",
    "from sklearn.preprocessing import MinMaxScaler, StandardScaler\n",
    "from sklearn.decomposition import PCA\n",
    "from sklearn.model_selection import train_test_split\n",
    "from sklearn.metrics import mean_absolute_error, mean_squared_error, r2_score\n",
    "from tensorflow.keras.callbacks import EarlyStopping\n",
    "from tensorflow.keras.layers import BatchNormalization\n",
    "from tensorflow.keras.mixed_precision import set_global_policy"
   ]
  },
  {
   "cell_type": "code",
   "execution_count": 2,
   "metadata": {},
   "outputs": [
    {
     "name": "stdout",
     "output_type": "stream",
     "text": [
      "Tf version: 2.16.1\n",
      "GPUs: []\n",
      "CUDA version: None\n",
      "cuDNN version: None\n"
     ]
    }
   ],
   "source": [
    "print(\"Tf version:\", tf.__version__)\n",
    "print(\"GPUs:\", tf.config.list_physical_devices('GPU'))\n",
    "print(\"CUDA version:\", os.environ.get(\"CUDA_VERSION\"))\n",
    "print(\"cuDNN version:\", os.environ.get(\"CUDNN_VERSION\"))"
   ]
  },
  {
   "cell_type": "code",
   "execution_count": 3,
   "metadata": {},
   "outputs": [],
   "source": [
    "SEED = 42\n",
    "np.random.seed(SEED)\n",
    "random.seed(SEED)\n",
    "tf.random.set_seed(SEED)"
   ]
  },
  {
   "cell_type": "code",
   "execution_count": 4,
   "metadata": {},
   "outputs": [],
   "source": [
    "df = pd.read_csv('../../data/pre_train/aapl.csv')\n",
    "df.columns = df.columns.str.lower()\n",
    "df['date'] = pd.to_datetime(df['date'])\n",
    "df = df.set_index('date')\n",
    "df = df.astype(float)"
   ]
  },
  {
   "cell_type": "code",
   "execution_count": 5,
   "metadata": {},
   "outputs": [],
   "source": [
    "y = df['log_close']\n",
    "X = df.drop('log_close', axis=1)"
   ]
  },
  {
   "cell_type": "code",
   "execution_count": 6,
   "metadata": {},
   "outputs": [],
   "source": [
    "time_steps = 67\n",
    "def create_sequences(X, y, time_steps=time_steps):\n",
    "    X_seq, y_seq = [], []\n",
    "    for i in range(len(X) - time_steps):\n",
    "        X_seq.append(X.iloc[i:i + time_steps].values)\n",
    "        y_seq.append(y.iloc[i + time_steps])\n",
    "    return np.array(X_seq), np.array(y_seq)"
   ]
  },
  {
   "cell_type": "code",
   "execution_count": 7,
   "metadata": {},
   "outputs": [],
   "source": [
    "def evaluate_model(y_pred_train, y_pred_test, y_train, y_test):\n",
    "    mae_train = mean_absolute_error(y_train, y_pred_train)\n",
    "    mae_test = mean_absolute_error(y_test, y_pred_test)\n",
    "    rmse_train = np.sqrt(mean_squared_error(y_train, y_pred_train))\n",
    "    rmse_test = np.sqrt(mean_squared_error(y_test, y_pred_test))\n",
    "    r2_train = r2_score(y_train, y_pred_train)\n",
    "    r2_test = r2_score(y_test, y_pred_test)\n",
    "    \n",
    "    print(\"MAE train:\", mae_train)\n",
    "    print(\"MAE test:\", mae_test)\n",
    "    print(\"RMSE train:\", rmse_train)\n",
    "    print(\"RMSE test:\", rmse_test)\n",
    "    print(\"R2 train:\", r2_train)\n",
    "    print(\"R2 test:\", r2_test)"
   ]
  },
  {
   "cell_type": "code",
   "execution_count": 8,
   "metadata": {},
   "outputs": [],
   "source": [
    "X_train, X_test, y_train, y_test = train_test_split(X, y, test_size=0.2, shuffle=False)"
   ]
  },
  {
   "cell_type": "code",
   "execution_count": 9,
   "metadata": {},
   "outputs": [],
   "source": [
    "scaler_X = StandardScaler()\n",
    "X_train_scaled = scaler_X.fit_transform(X_train)\n",
    "X_test_scaled = scaler_X.transform(X_test)"
   ]
  },
  {
   "cell_type": "code",
   "execution_count": 10,
   "metadata": {},
   "outputs": [],
   "source": [
    "X_train_seq, y_train_seq = create_sequences(pd.DataFrame(X_train_scaled), y_train)\n",
    "X_test_seq, y_test_seq = create_sequences(pd.DataFrame(X_test_scaled), y_test)"
   ]
  },
  {
   "cell_type": "code",
   "execution_count": 11,
   "metadata": {},
   "outputs": [],
   "source": [
    "apply_pca = True\n",
    "n_components = 10\n",
    "\n",
    "if apply_pca:\n",
    "    pca = PCA(n_components=n_components)\n",
    "    X_train_seq_flat = X_train_seq.reshape(-1, X_train_seq.shape[-1])\n",
    "    X_test_seq_flat = X_test_seq.reshape(-1, X_test_seq.shape[-1])\n",
    "    \n",
    "    X_train_pca = pca.fit_transform(X_train_seq_flat)\n",
    "    X_test_pca = pca.transform(X_test_seq_flat)\n",
    "\n",
    "    X_train_seq = X_train_pca.reshape(-1, time_steps, n_components)\n",
    "    X_test_seq = X_test_pca.reshape(-1, time_steps, n_components)"
   ]
  },
  {
   "cell_type": "code",
   "execution_count": 12,
   "metadata": {},
   "outputs": [],
   "source": [
    "scaler_y = MinMaxScaler()\n",
    "y_train_seq_scaled = scaler_y.fit_transform(y_train_seq.reshape(-1, 1)).flatten()\n",
    "y_test_seq_scaled = scaler_y.transform(y_test_seq.reshape(-1, 1)).flatten()"
   ]
  },
  {
   "cell_type": "code",
   "execution_count": 13,
   "metadata": {},
   "outputs": [
    {
     "name": "stderr",
     "output_type": "stream",
     "text": [
      "c:\\Users\\santi\\anaconda3\\Lib\\site-packages\\keras\\src\\layers\\rnn\\rnn.py:204: UserWarning: Do not pass an `input_shape`/`input_dim` argument to a layer. When using Sequential models, prefer using an `Input(shape)` object as the first layer in the model instead.\n",
      "  super().__init__(**kwargs)\n"
     ]
    }
   ],
   "source": [
    "model = Sequential([\n",
    "    LSTM(128, return_sequences=False, input_shape=(X_train_seq.shape[1], X_train_seq.shape[2]), kernel_regularizer=l2(0.0005)),\n",
    "    Dropout(0.2),\n",
    "    Dense(64, activation='relu', kernel_regularizer=l2(0.001)),\n",
    "    Dense(32, activation='relu'),\n",
    "    Dense(1, activation='linear')\n",
    "])"
   ]
  },
  {
   "cell_type": "code",
   "execution_count": 14,
   "metadata": {},
   "outputs": [],
   "source": [
    "model.compile(optimizer=Adam(learning_rate=0.01), loss='mse', metrics=['mae'])"
   ]
  },
  {
   "cell_type": "code",
   "execution_count": 15,
   "metadata": {},
   "outputs": [
    {
     "name": "stdout",
     "output_type": "stream",
     "text": [
      "Epoch 1/75\n",
      "\u001b[1m7/7\u001b[0m \u001b[32m━━━━━━━━━━━━━━━━━━━━\u001b[0m\u001b[37m\u001b[0m \u001b[1m7s\u001b[0m 239ms/step - loss: 0.5579 - mae: 0.5365 - val_loss: 0.5957 - val_mae: 0.6824\n",
      "Epoch 2/75\n",
      "\u001b[1m7/7\u001b[0m \u001b[32m━━━━━━━━━━━━━━━━━━━━\u001b[0m\u001b[37m\u001b[0m \u001b[1m1s\u001b[0m 127ms/step - loss: 0.2511 - mae: 0.3501 - val_loss: 0.1288 - val_mae: 0.1517\n",
      "Epoch 3/75\n",
      "\u001b[1m7/7\u001b[0m \u001b[32m━━━━━━━━━━━━━━━━━━━━\u001b[0m\u001b[37m\u001b[0m \u001b[1m1s\u001b[0m 145ms/step - loss: 0.4341 - mae: 0.4830 - val_loss: 0.2007 - val_mae: 0.2738\n",
      "Epoch 4/75\n",
      "\u001b[1m7/7\u001b[0m \u001b[32m━━━━━━━━━━━━━━━━━━━━\u001b[0m\u001b[37m\u001b[0m \u001b[1m1s\u001b[0m 126ms/step - loss: 0.2633 - mae: 0.3762 - val_loss: 0.1115 - val_mae: 0.1303\n",
      "Epoch 5/75\n",
      "\u001b[1m7/7\u001b[0m \u001b[32m━━━━━━━━━━━━━━━━━━━━\u001b[0m\u001b[37m\u001b[0m \u001b[1m1s\u001b[0m 129ms/step - loss: 0.1679 - mae: 0.2368 - val_loss: 0.1052 - val_mae: 0.1222\n",
      "Epoch 6/75\n",
      "\u001b[1m7/7\u001b[0m \u001b[32m━━━━━━━━━━━━━━━━━━━━\u001b[0m\u001b[37m\u001b[0m \u001b[1m1s\u001b[0m 128ms/step - loss: 0.1620 - mae: 0.2045 - val_loss: 0.1442 - val_mae: 0.2121\n",
      "Epoch 7/75\n",
      "\u001b[1m7/7\u001b[0m \u001b[32m━━━━━━━━━━━━━━━━━━━━\u001b[0m\u001b[37m\u001b[0m \u001b[1m1s\u001b[0m 140ms/step - loss: 0.1402 - mae: 0.1906 - val_loss: 0.1031 - val_mae: 0.1330\n",
      "Epoch 8/75\n",
      "\u001b[1m7/7\u001b[0m \u001b[32m━━━━━━━━━━━━━━━━━━━━\u001b[0m\u001b[37m\u001b[0m \u001b[1m1s\u001b[0m 125ms/step - loss: 0.1186 - mae: 0.1603 - val_loss: 0.0907 - val_mae: 0.0826\n",
      "Epoch 9/75\n",
      "\u001b[1m7/7\u001b[0m \u001b[32m━━━━━━━━━━━━━━━━━━━━\u001b[0m\u001b[37m\u001b[0m \u001b[1m1s\u001b[0m 130ms/step - loss: 0.1047 - mae: 0.1348 - val_loss: 0.0960 - val_mae: 0.1322\n",
      "Epoch 10/75\n",
      "\u001b[1m7/7\u001b[0m \u001b[32m━━━━━━━━━━━━━━━━━━━━\u001b[0m\u001b[37m\u001b[0m \u001b[1m1s\u001b[0m 130ms/step - loss: 0.0905 - mae: 0.1062 - val_loss: 0.0735 - val_mae: 0.0231\n",
      "Epoch 11/75\n",
      "\u001b[1m7/7\u001b[0m \u001b[32m━━━━━━━━━━━━━━━━━━━━\u001b[0m\u001b[37m\u001b[0m \u001b[1m1s\u001b[0m 125ms/step - loss: 0.0805 - mae: 0.0719 - val_loss: 0.0698 - val_mae: 0.0290\n",
      "Epoch 12/75\n",
      "\u001b[1m7/7\u001b[0m \u001b[32m━━━━━━━━━━━━━━━━━━━━\u001b[0m\u001b[37m\u001b[0m \u001b[1m1s\u001b[0m 129ms/step - loss: 0.0823 - mae: 0.0983 - val_loss: 0.0936 - val_mae: 0.1564\n",
      "Epoch 13/75\n",
      "\u001b[1m7/7\u001b[0m \u001b[32m━━━━━━━━━━━━━━━━━━━━\u001b[0m\u001b[37m\u001b[0m \u001b[1m1s\u001b[0m 128ms/step - loss: 0.0696 - mae: 0.0575 - val_loss: 0.0621 - val_mae: 0.0212\n",
      "Epoch 14/75\n",
      "\u001b[1m7/7\u001b[0m \u001b[32m━━━━━━━━━━━━━━━━━━━━\u001b[0m\u001b[37m\u001b[0m \u001b[1m1s\u001b[0m 131ms/step - loss: 0.0655 - mae: 0.0548 - val_loss: 0.0754 - val_mae: 0.1173\n",
      "Epoch 15/75\n",
      "\u001b[1m7/7\u001b[0m \u001b[32m━━━━━━━━━━━━━━━━━━━━\u001b[0m\u001b[37m\u001b[0m \u001b[1m1s\u001b[0m 138ms/step - loss: 0.0598 - mae: 0.0404 - val_loss: 0.0555 - val_mae: 0.0211\n",
      "Epoch 16/75\n",
      "\u001b[1m7/7\u001b[0m \u001b[32m━━━━━━━━━━━━━━━━━━━━\u001b[0m\u001b[37m\u001b[0m \u001b[1m1s\u001b[0m 125ms/step - loss: 0.0566 - mae: 0.0404 - val_loss: 0.0585 - val_mae: 0.0681\n",
      "Epoch 17/75\n",
      "\u001b[1m7/7\u001b[0m \u001b[32m━━━━━━━━━━━━━━━━━━━━\u001b[0m\u001b[37m\u001b[0m \u001b[1m1s\u001b[0m 128ms/step - loss: 0.0532 - mae: 0.0368 - val_loss: 0.0535 - val_mae: 0.0539\n",
      "Epoch 18/75\n",
      "\u001b[1m7/7\u001b[0m \u001b[32m━━━━━━━━━━━━━━━━━━━━\u001b[0m\u001b[37m\u001b[0m \u001b[1m1s\u001b[0m 127ms/step - loss: 0.0503 - mae: 0.0367 - val_loss: 0.0511 - val_mae: 0.0557\n",
      "Epoch 19/75\n",
      "\u001b[1m7/7\u001b[0m \u001b[32m━━━━━━━━━━━━━━━━━━━━\u001b[0m\u001b[37m\u001b[0m \u001b[1m1s\u001b[0m 146ms/step - loss: 0.0475 - mae: 0.0345 - val_loss: 0.0489 - val_mae: 0.0578\n",
      "Epoch 20/75\n",
      "\u001b[1m7/7\u001b[0m \u001b[32m━━━━━━━━━━━━━━━━━━━━\u001b[0m\u001b[37m\u001b[0m \u001b[1m2s\u001b[0m 219ms/step - loss: 0.0448 - mae: 0.0331 - val_loss: 0.0453 - val_mae: 0.0501\n",
      "Epoch 21/75\n",
      "\u001b[1m7/7\u001b[0m \u001b[32m━━━━━━━━━━━━━━━━━━━━\u001b[0m\u001b[37m\u001b[0m \u001b[1m1s\u001b[0m 137ms/step - loss: 0.0424 - mae: 0.0322 - val_loss: 0.0442 - val_mae: 0.0580\n",
      "Epoch 22/75\n",
      "\u001b[1m7/7\u001b[0m \u001b[32m━━━━━━━━━━━━━━━━━━━━\u001b[0m\u001b[37m\u001b[0m \u001b[1m1s\u001b[0m 140ms/step - loss: 0.0402 - mae: 0.0326 - val_loss: 0.0409 - val_mae: 0.0495\n",
      "Epoch 23/75\n",
      "\u001b[1m7/7\u001b[0m \u001b[32m━━━━━━━━━━━━━━━━━━━━\u001b[0m\u001b[37m\u001b[0m \u001b[1m1s\u001b[0m 153ms/step - loss: 0.0381 - mae: 0.0313 - val_loss: 0.0397 - val_mae: 0.0541\n",
      "Epoch 24/75\n",
      "\u001b[1m7/7\u001b[0m \u001b[32m━━━━━━━━━━━━━━━━━━━━\u001b[0m\u001b[37m\u001b[0m \u001b[1m1s\u001b[0m 143ms/step - loss: 0.0360 - mae: 0.0285 - val_loss: 0.0384 - val_mae: 0.0578\n",
      "Epoch 25/75\n",
      "\u001b[1m7/7\u001b[0m \u001b[32m━━━━━━━━━━━━━━━━━━━━\u001b[0m\u001b[37m\u001b[0m \u001b[1m1s\u001b[0m 145ms/step - loss: 0.0344 - mae: 0.0301 - val_loss: 0.0370 - val_mae: 0.0591\n",
      "Epoch 26/75\n",
      "\u001b[1m7/7\u001b[0m \u001b[32m━━━━━━━━━━━━━━━━━━━━\u001b[0m\u001b[37m\u001b[0m \u001b[1m1s\u001b[0m 156ms/step - loss: 0.0325 - mae: 0.0272 - val_loss: 0.0355 - val_mae: 0.0604\n",
      "Epoch 27/75\n",
      "\u001b[1m7/7\u001b[0m \u001b[32m━━━━━━━━━━━━━━━━━━━━\u001b[0m\u001b[37m\u001b[0m \u001b[1m1s\u001b[0m 195ms/step - loss: 0.0309 - mae: 0.0284 - val_loss: 0.0332 - val_mae: 0.0549\n",
      "Epoch 28/75\n",
      "\u001b[1m7/7\u001b[0m \u001b[32m━━━━━━━━━━━━━━━━━━━━\u001b[0m\u001b[37m\u001b[0m \u001b[1m1s\u001b[0m 168ms/step - loss: 0.0293 - mae: 0.0270 - val_loss: 0.0320 - val_mae: 0.0568\n",
      "Epoch 29/75\n",
      "\u001b[1m7/7\u001b[0m \u001b[32m━━━━━━━━━━━━━━━━━━━━\u001b[0m\u001b[37m\u001b[0m \u001b[1m1s\u001b[0m 162ms/step - loss: 0.0279 - mae: 0.0269 - val_loss: 0.0297 - val_mae: 0.0501\n",
      "Epoch 30/75\n",
      "\u001b[1m7/7\u001b[0m \u001b[32m━━━━━━━━━━━━━━━━━━━━\u001b[0m\u001b[37m\u001b[0m \u001b[1m1s\u001b[0m 161ms/step - loss: 0.0266 - mae: 0.0268 - val_loss: 0.0292 - val_mae: 0.0562\n",
      "Epoch 31/75\n",
      "\u001b[1m7/7\u001b[0m \u001b[32m━━━━━━━━━━━━━━━━━━━━\u001b[0m\u001b[37m\u001b[0m \u001b[1m1s\u001b[0m 157ms/step - loss: 0.0254 - mae: 0.0268 - val_loss: 0.0262 - val_mae: 0.0421\n",
      "Epoch 32/75\n",
      "\u001b[1m7/7\u001b[0m \u001b[32m━━━━━━━━━━━━━━━━━━━━\u001b[0m\u001b[37m\u001b[0m \u001b[1m1s\u001b[0m 148ms/step - loss: 0.0242 - mae: 0.0269 - val_loss: 0.0278 - val_mae: 0.0615\n",
      "Epoch 33/75\n",
      "\u001b[1m7/7\u001b[0m \u001b[32m━━━━━━━━━━━━━━━━━━━━\u001b[0m\u001b[37m\u001b[0m \u001b[1m1s\u001b[0m 148ms/step - loss: 0.0231 - mae: 0.0264 - val_loss: 0.0244 - val_mae: 0.0446\n",
      "Epoch 34/75\n",
      "\u001b[1m7/7\u001b[0m \u001b[32m━━━━━━━━━━━━━━━━━━━━\u001b[0m\u001b[37m\u001b[0m \u001b[1m1s\u001b[0m 143ms/step - loss: 0.0222 - mae: 0.0277 - val_loss: 0.0249 - val_mae: 0.0557\n",
      "Epoch 35/75\n",
      "\u001b[1m7/7\u001b[0m \u001b[32m━━━━━━━━━━━━━━━━━━━━\u001b[0m\u001b[37m\u001b[0m \u001b[1m1s\u001b[0m 147ms/step - loss: 0.0210 - mae: 0.0244 - val_loss: 0.0219 - val_mae: 0.0406\n",
      "Epoch 36/75\n",
      "\u001b[1m7/7\u001b[0m \u001b[32m━━━━━━━━━━━━━━━━━━━━\u001b[0m\u001b[37m\u001b[0m \u001b[1m1s\u001b[0m 156ms/step - loss: 0.0200 - mae: 0.0233 - val_loss: 0.0225 - val_mae: 0.0516\n",
      "Epoch 37/75\n",
      "\u001b[1m7/7\u001b[0m \u001b[32m━━━━━━━━━━━━━━━━━━━━\u001b[0m\u001b[37m\u001b[0m \u001b[1m1s\u001b[0m 210ms/step - loss: 0.0191 - mae: 0.0241 - val_loss: 0.0202 - val_mae: 0.0405\n",
      "Epoch 38/75\n",
      "\u001b[1m7/7\u001b[0m \u001b[32m━━━━━━━━━━━━━━━━━━━━\u001b[0m\u001b[37m\u001b[0m \u001b[1m1s\u001b[0m 206ms/step - loss: 0.0183 - mae: 0.0233 - val_loss: 0.0213 - val_mae: 0.0547\n",
      "Epoch 39/75\n",
      "\u001b[1m7/7\u001b[0m \u001b[32m━━━━━━━━━━━━━━━━━━━━\u001b[0m\u001b[37m\u001b[0m \u001b[1m1s\u001b[0m 174ms/step - loss: 0.0175 - mae: 0.0244 - val_loss: 0.0187 - val_mae: 0.0412\n",
      "Epoch 40/75\n",
      "\u001b[1m7/7\u001b[0m \u001b[32m━━━━━━━━━━━━━━━━━━━━\u001b[0m\u001b[37m\u001b[0m \u001b[1m1s\u001b[0m 204ms/step - loss: 0.0166 - mae: 0.0222 - val_loss: 0.0184 - val_mae: 0.0449\n",
      "Epoch 41/75\n",
      "\u001b[1m7/7\u001b[0m \u001b[32m━━━━━━━━━━━━━━━━━━━━\u001b[0m\u001b[37m\u001b[0m \u001b[1m1s\u001b[0m 157ms/step - loss: 0.0161 - mae: 0.0238 - val_loss: 0.0183 - val_mae: 0.0495\n",
      "Epoch 42/75\n",
      "\u001b[1m7/7\u001b[0m \u001b[32m━━━━━━━━━━━━━━━━━━━━\u001b[0m\u001b[37m\u001b[0m \u001b[1m1s\u001b[0m 168ms/step - loss: 0.0155 - mae: 0.0248 - val_loss: 0.0164 - val_mae: 0.0389\n",
      "Epoch 43/75\n",
      "\u001b[1m7/7\u001b[0m \u001b[32m━━━━━━━━━━━━━━━━━━━━\u001b[0m\u001b[37m\u001b[0m \u001b[1m1s\u001b[0m 191ms/step - loss: 0.0147 - mae: 0.0225 - val_loss: 0.0170 - val_mae: 0.0476\n",
      "Epoch 44/75\n",
      "\u001b[1m7/7\u001b[0m \u001b[32m━━━━━━━━━━━━━━━━━━━━\u001b[0m\u001b[37m\u001b[0m \u001b[1m1s\u001b[0m 176ms/step - loss: 0.0141 - mae: 0.0235 - val_loss: 0.0160 - val_mae: 0.0460\n",
      "Epoch 45/75\n",
      "\u001b[1m7/7\u001b[0m \u001b[32m━━━━━━━━━━━━━━━━━━━━\u001b[0m\u001b[37m\u001b[0m \u001b[1m1s\u001b[0m 174ms/step - loss: 0.0136 - mae: 0.0241 - val_loss: 0.0142 - val_mae: 0.0349\n",
      "Epoch 46/75\n",
      "\u001b[1m7/7\u001b[0m \u001b[32m━━━━━━━━━━━━━━━━━━━━\u001b[0m\u001b[37m\u001b[0m \u001b[1m1s\u001b[0m 208ms/step - loss: 0.0130 - mae: 0.0226 - val_loss: 0.0139 - val_mae: 0.0365\n",
      "Epoch 47/75\n",
      "\u001b[1m7/7\u001b[0m \u001b[32m━━━━━━━━━━━━━━━━━━━━\u001b[0m\u001b[37m\u001b[0m \u001b[1m2s\u001b[0m 219ms/step - loss: 0.0125 - mae: 0.0231 - val_loss: 0.0149 - val_mae: 0.0496\n",
      "Epoch 48/75\n",
      "\u001b[1m7/7\u001b[0m \u001b[32m━━━━━━━━━━━━━━━━━━━━\u001b[0m\u001b[37m\u001b[0m \u001b[1m1s\u001b[0m 207ms/step - loss: 0.0121 - mae: 0.0237 - val_loss: 0.0132 - val_mae: 0.0394\n",
      "Epoch 49/75\n",
      "\u001b[1m7/7\u001b[0m \u001b[32m━━━━━━━━━━━━━━━━━━━━\u001b[0m\u001b[37m\u001b[0m \u001b[1m2s\u001b[0m 245ms/step - loss: 0.0115 - mae: 0.0220 - val_loss: 0.0121 - val_mae: 0.0327\n",
      "Epoch 50/75\n",
      "\u001b[1m7/7\u001b[0m \u001b[32m━━━━━━━━━━━━━━━━━━━━\u001b[0m\u001b[37m\u001b[0m \u001b[1m2s\u001b[0m 212ms/step - loss: 0.0112 - mae: 0.0246 - val_loss: 0.0129 - val_mae: 0.0453\n",
      "Epoch 51/75\n",
      "\u001b[1m7/7\u001b[0m \u001b[32m━━━━━━━━━━━━━━━━━━━━\u001b[0m\u001b[37m\u001b[0m \u001b[1m2s\u001b[0m 216ms/step - loss: 0.0109 - mae: 0.0267 - val_loss: 0.0116 - val_mae: 0.0386\n",
      "Epoch 52/75\n",
      "\u001b[1m7/7\u001b[0m \u001b[32m━━━━━━━━━━━━━━━━━━━━\u001b[0m\u001b[37m\u001b[0m \u001b[1m2s\u001b[0m 222ms/step - loss: 0.0106 - mae: 0.0260 - val_loss: 0.0100 - val_mae: 0.0221\n",
      "Epoch 53/75\n",
      "\u001b[1m7/7\u001b[0m \u001b[32m━━━━━━━━━━━━━━━━━━━━\u001b[0m\u001b[37m\u001b[0m \u001b[1m1s\u001b[0m 178ms/step - loss: 0.0106 - mae: 0.0319 - val_loss: 0.0122 - val_mae: 0.0473\n",
      "Epoch 54/75\n",
      "\u001b[1m7/7\u001b[0m \u001b[32m━━━━━━━━━━━━━━━━━━━━\u001b[0m\u001b[37m\u001b[0m \u001b[1m1s\u001b[0m 182ms/step - loss: 0.0099 - mae: 0.0276 - val_loss: 0.0130 - val_mae: 0.0585\n",
      "Epoch 55/75\n",
      "\u001b[1m7/7\u001b[0m \u001b[32m━━━━━━━━━━━━━━━━━━━━\u001b[0m\u001b[37m\u001b[0m \u001b[1m1s\u001b[0m 163ms/step - loss: 0.0098 - mae: 0.0315 - val_loss: 0.0089 - val_mae: 0.0220\n",
      "Epoch 56/75\n",
      "\u001b[1m7/7\u001b[0m \u001b[32m━━━━━━━━━━━━━━━━━━━━\u001b[0m\u001b[37m\u001b[0m \u001b[1m1s\u001b[0m 185ms/step - loss: 0.0102 - mae: 0.0385 - val_loss: 0.0112 - val_mae: 0.0466\n",
      "Epoch 57/75\n",
      "\u001b[1m7/7\u001b[0m \u001b[32m━━━━━━━━━━━━━━━━━━━━\u001b[0m\u001b[37m\u001b[0m \u001b[1m1s\u001b[0m 161ms/step - loss: 0.0098 - mae: 0.0347 - val_loss: 0.0118 - val_mae: 0.0579\n",
      "Epoch 58/75\n",
      "\u001b[1m7/7\u001b[0m \u001b[32m━━━━━━━━━━━━━━━━━━━━\u001b[0m\u001b[37m\u001b[0m \u001b[1m1s\u001b[0m 147ms/step - loss: 0.0108 - mae: 0.0461 - val_loss: 0.0078 - val_mae: 0.0165\n",
      "Epoch 59/75\n",
      "\u001b[1m7/7\u001b[0m \u001b[32m━━━━━━━━━━━━━━━━━━━━\u001b[0m\u001b[37m\u001b[0m \u001b[1m1s\u001b[0m 172ms/step - loss: 0.0087 - mae: 0.0287 - val_loss: 0.0092 - val_mae: 0.0357\n",
      "Epoch 60/75\n",
      "\u001b[1m7/7\u001b[0m \u001b[32m━━━━━━━━━━━━━━━━━━━━\u001b[0m\u001b[37m\u001b[0m \u001b[1m1s\u001b[0m 168ms/step - loss: 0.0088 - mae: 0.0350 - val_loss: 0.0120 - val_mae: 0.0629\n",
      "Epoch 61/75\n",
      "\u001b[1m7/7\u001b[0m \u001b[32m━━━━━━━━━━━━━━━━━━━━\u001b[0m\u001b[37m\u001b[0m \u001b[1m1s\u001b[0m 138ms/step - loss: 0.0084 - mae: 0.0321 - val_loss: 0.0080 - val_mae: 0.0307\n",
      "Epoch 62/75\n",
      "\u001b[1m7/7\u001b[0m \u001b[32m━━━━━━━━━━━━━━━━━━━━\u001b[0m\u001b[37m\u001b[0m \u001b[1m1s\u001b[0m 162ms/step - loss: 0.0087 - mae: 0.0371 - val_loss: 0.0069 - val_mae: 0.0166\n",
      "Epoch 63/75\n",
      "\u001b[1m7/7\u001b[0m \u001b[32m━━━━━━━━━━━━━━━━━━━━\u001b[0m\u001b[37m\u001b[0m \u001b[1m1s\u001b[0m 147ms/step - loss: 0.0078 - mae: 0.0306 - val_loss: 0.0112 - val_mae: 0.0595\n",
      "Epoch 64/75\n",
      "\u001b[1m7/7\u001b[0m \u001b[32m━━━━━━━━━━━━━━━━━━━━\u001b[0m\u001b[37m\u001b[0m \u001b[1m1s\u001b[0m 164ms/step - loss: 0.0075 - mae: 0.0304 - val_loss: 0.0083 - val_mae: 0.0416\n",
      "Epoch 65/75\n",
      "\u001b[1m7/7\u001b[0m \u001b[32m━━━━━━━━━━━━━━━━━━━━\u001b[0m\u001b[37m\u001b[0m \u001b[1m1s\u001b[0m 155ms/step - loss: 0.0073 - mae: 0.0312 - val_loss: 0.0060 - val_mae: 0.0158\n",
      "Epoch 66/75\n",
      "\u001b[1m7/7\u001b[0m \u001b[32m━━━━━━━━━━━━━━━━━━━━\u001b[0m\u001b[37m\u001b[0m \u001b[1m1s\u001b[0m 138ms/step - loss: 0.0077 - mae: 0.0378 - val_loss: 0.0103 - val_mae: 0.0615\n",
      "Epoch 67/75\n",
      "\u001b[1m7/7\u001b[0m \u001b[32m━━━━━━━━━━━━━━━━━━━━\u001b[0m\u001b[37m\u001b[0m \u001b[1m1s\u001b[0m 164ms/step - loss: 0.0075 - mae: 0.0374 - val_loss: 0.0067 - val_mae: 0.0312\n",
      "Epoch 68/75\n",
      "\u001b[1m7/7\u001b[0m \u001b[32m━━━━━━━━━━━━━━━━━━━━\u001b[0m\u001b[37m\u001b[0m \u001b[1m1s\u001b[0m 138ms/step - loss: 0.0065 - mae: 0.0283 - val_loss: 0.0055 - val_mae: 0.0164\n",
      "Epoch 69/75\n",
      "\u001b[1m7/7\u001b[0m \u001b[32m━━━━━━━━━━━━━━━━━━━━\u001b[0m\u001b[37m\u001b[0m \u001b[1m1s\u001b[0m 165ms/step - loss: 0.0087 - mae: 0.0525 - val_loss: 0.0111 - val_mae: 0.0681\n",
      "Epoch 70/75\n",
      "\u001b[1m7/7\u001b[0m \u001b[32m━━━━━━━━━━━━━━━━━━━━\u001b[0m\u001b[37m\u001b[0m \u001b[1m1s\u001b[0m 159ms/step - loss: 0.0075 - mae: 0.0417 - val_loss: 0.0062 - val_mae: 0.0323\n",
      "Epoch 71/75\n",
      "\u001b[1m7/7\u001b[0m \u001b[32m━━━━━━━━━━━━━━━━━━━━\u001b[0m\u001b[37m\u001b[0m \u001b[1m1s\u001b[0m 156ms/step - loss: 0.0069 - mae: 0.0394 - val_loss: 0.0050 - val_mae: 0.0160\n",
      "Epoch 72/75\n",
      "\u001b[1m7/7\u001b[0m \u001b[32m━━━━━━━━━━━━━━━━━━━━\u001b[0m\u001b[37m\u001b[0m \u001b[1m1s\u001b[0m 150ms/step - loss: 0.0092 - mae: 0.0606 - val_loss: 0.0142 - val_mae: 0.0878\n",
      "Epoch 73/75\n",
      "\u001b[1m7/7\u001b[0m \u001b[32m━━━━━━━━━━━━━━━━━━━━\u001b[0m\u001b[37m\u001b[0m \u001b[1m1s\u001b[0m 138ms/step - loss: 0.0063 - mae: 0.0367 - val_loss: 0.0046 - val_mae: 0.0121\n",
      "Epoch 74/75\n",
      "\u001b[1m7/7\u001b[0m \u001b[32m━━━━━━━━━━━━━━━━━━━━\u001b[0m\u001b[37m\u001b[0m \u001b[1m2s\u001b[0m 210ms/step - loss: 0.0052 - mae: 0.0234 - val_loss: 0.0054 - val_mae: 0.0277\n",
      "Epoch 75/75\n",
      "\u001b[1m7/7\u001b[0m \u001b[32m━━━━━━━━━━━━━━━━━━━━\u001b[0m\u001b[37m\u001b[0m \u001b[1m2s\u001b[0m 185ms/step - loss: 0.0054 - mae: 0.0285 - val_loss: 0.0073 - val_mae: 0.0478\n"
     ]
    }
   ],
   "source": [
    "history = model.fit(X_train_seq, y_train_seq_scaled,\n",
    "                    epochs=75, batch_size=150, shuffle=False,\n",
    "                    validation_data=(X_test_seq, y_test_seq_scaled),\n",
    "                    callbacks=[EarlyStopping(monitor='val_loss', patience=10, restore_best_weights=True)])"
   ]
  },
  {
   "cell_type": "code",
   "execution_count": 16,
   "metadata": {},
   "outputs": [
    {
     "name": "stdout",
     "output_type": "stream",
     "text": [
      "\u001b[1m30/30\u001b[0m \u001b[32m━━━━━━━━━━━━━━━━━━━━\u001b[0m\u001b[37m\u001b[0m \u001b[1m2s\u001b[0m 36ms/step\n",
      "\u001b[1m6/6\u001b[0m \u001b[32m━━━━━━━━━━━━━━━━━━━━\u001b[0m\u001b[37m\u001b[0m \u001b[1m0s\u001b[0m 20ms/step\n"
     ]
    }
   ],
   "source": [
    "y_pred_train_scaled = model.predict(X_train_seq)\n",
    "y_pred_test_scaled = model.predict(X_test_seq)"
   ]
  },
  {
   "cell_type": "code",
   "execution_count": 17,
   "metadata": {},
   "outputs": [],
   "source": [
    "y_pred_train = scaler_y.inverse_transform(y_pred_train_scaled)\n",
    "y_pred_test = scaler_y.inverse_transform(y_pred_test_scaled)\n",
    "y_train_true = scaler_y.inverse_transform(y_train_seq_scaled.reshape(-1, 1))\n",
    "y_test_true = scaler_y.inverse_transform(y_test_seq_scaled.reshape(-1, 1))"
   ]
  },
  {
   "cell_type": "code",
   "execution_count": 18,
   "metadata": {},
   "outputs": [
    {
     "name": "stdout",
     "output_type": "stream",
     "text": [
      "MAE train: 0.01973925157471753\n",
      "MAE test: 0.013450476351636622\n",
      "RMSE train: 0.0251274070802657\n",
      "RMSE test: 0.017574087280561347\n",
      "R2 train: 0.9877307804100183\n",
      "R2 test: 0.9752194727062411\n"
     ]
    }
   ],
   "source": [
    "evaluate_model(y_pred_train, y_pred_test, y_train_true, y_test_true)"
   ]
  },
  {
   "cell_type": "code",
   "execution_count": 19,
   "metadata": {},
   "outputs": [],
   "source": [
    "def plot_predictions(y_test_real, y_pred_test_real):\n",
    "    plt.figure(figsize=(12, 6))\n",
    "    plt.plot(y_test_real, label=\"Real\", color=\"blue\")\n",
    "    plt.plot(y_pred_test_real, label=\"Predicho\", color=\"orange\")\n",
    "    plt.title(\"Predictions vs Real values\")\n",
    "    plt.legend()\n",
    "    plt.show()"
   ]
  },
  {
   "cell_type": "code",
   "execution_count": 20,
   "metadata": {},
   "outputs": [
    {
     "data": {
      "image/png": "[encoded data removed]",
      "text/plain": [
       "<Figure size 1200x600 with 1 Axes>"
      ]
     },
     "metadata": {},
     "output_type": "display_data"
    }
   ],
   "source": [
    "plot_predictions(y_test_true, y_pred_test)"
   ]
  },
  {
   "cell_type": "code",
   "execution_count": 21,
   "metadata": {},
   "outputs": [
    {
     "data": {
      "text/plain": [
       "5.368319451191618"
      ]
     },
     "execution_count": 21,
     "metadata": {},
     "output_type": "execute_result"
    }
   ],
   "source": [
    "y_test_true.mean()"
   ]
  },
  {
   "cell_type": "code",
   "execution_count": 22,
   "metadata": {},
   "outputs": [],
   "source": [
    "model.save(\"model_lstm_aapl_close.keras\")"
   ]
  },
  {
   "cell_type": "code",
   "execution_count": null,
   "metadata": {},
   "outputs": [],
   "source": []
  }
 ],
 "metadata": {
  "kernelspec": {
   "display_name": "base",
   "language": "python",
   "name": "python3"
  },
  "language_info": {
   "codemirror_mode": {
    "name": "ipython",
    "version": 3
   },
   "file_extension": ".py",
   "mimetype": "text/x-python",
   "name": "python",
   "nbconvert_exporter": "python",
   "pygments_lexer": "ipython3",
   "version": "3.11.9"
  }
 },
 "nbformat": 4,
 "nbformat_minor": 2
}
