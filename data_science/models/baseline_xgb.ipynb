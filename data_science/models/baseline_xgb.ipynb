{
 "cells": [
  {
   "cell_type": "code",
   "execution_count": 6,
   "metadata": {},
   "outputs": [],
   "source": [
    "import xgboost as xgb\n",
    "from sklearn.metrics import mean_absolute_error, mean_squared_error, r2_score\n",
    "import numpy as np\n",
    "import pandas as pd\n",
    "from xgboost import plot_importance\n",
    "from sklearn.model_selection import train_test_split, GridSearchCV, cross_val_score\n",
    "import matplotlib.pyplot as plt\n",
    "from sklearn.model_selection import cross_val_score"
   ]
  },
  {
   "cell_type": "code",
   "execution_count": 7,
   "metadata": {},
   "outputs": [],
   "source": [
    "df = pd.read_csv('../data/processed_data/btc.csv', index_col='date')\n",
    "df.index = pd.to_datetime(df.index)"
   ]
  },
  {
   "cell_type": "code",
   "execution_count": 8,
   "metadata": {},
   "outputs": [],
   "source": [
    "X = df.drop(columns=['log_returns'])\n",
    "y = df['log_returns']"
   ]
  },
  {
   "cell_type": "code",
   "execution_count": 9,
   "metadata": {},
   "outputs": [],
   "source": [
    "X_train, X_test, y_train, y_test = train_test_split(X, y, test_size=0.2, shuffle=False, random_state=1)"
   ]
  },
  {
   "cell_type": "code",
   "execution_count": 10,
   "metadata": {},
   "outputs": [
    {
     "data": {
      "text/html": [
       "<style>#sk-container-id-1 {color: black;background-color: white;}#sk-container-id-1 pre{padding: 0;}#sk-container-id-1 div.sk-toggleable {background-color: white;}#sk-container-id-1 label.sk-toggleable__label {cursor: pointer;display: block;width: 100%;margin-bottom: 0;padding: 0.3em;box-sizing: border-box;text-align: center;}#sk-container-id-1 label.sk-toggleable__label-arrow:before {content: \"▸\";float: left;margin-right: 0.25em;color: #696969;}#sk-container-id-1 label.sk-toggleable__label-arrow:hover:before {color: black;}#sk-container-id-1 div.sk-estimator:hover label.sk-toggleable__label-arrow:before {color: black;}#sk-container-id-1 div.sk-toggleable__content {max-height: 0;max-width: 0;overflow: hidden;text-align: left;background-color: #f0f8ff;}#sk-container-id-1 div.sk-toggleable__content pre {margin: 0.2em;color: black;border-radius: 0.25em;background-color: #f0f8ff;}#sk-container-id-1 input.sk-toggleable__control:checked~div.sk-toggleable__content {max-height: 200px;max-width: 100%;overflow: auto;}#sk-container-id-1 input.sk-toggleable__control:checked~label.sk-toggleable__label-arrow:before {content: \"▾\";}#sk-container-id-1 div.sk-estimator input.sk-toggleable__control:checked~label.sk-toggleable__label {background-color: #d4ebff;}#sk-container-id-1 div.sk-label input.sk-toggleable__control:checked~label.sk-toggleable__label {background-color: #d4ebff;}#sk-container-id-1 input.sk-hidden--visually {border: 0;clip: rect(1px 1px 1px 1px);clip: rect(1px, 1px, 1px, 1px);height: 1px;margin: -1px;overflow: hidden;padding: 0;position: absolute;width: 1px;}#sk-container-id-1 div.sk-estimator {font-family: monospace;background-color: #f0f8ff;border: 1px dotted black;border-radius: 0.25em;box-sizing: border-box;margin-bottom: 0.5em;}#sk-container-id-1 div.sk-estimator:hover {background-color: #d4ebff;}#sk-container-id-1 div.sk-parallel-item::after {content: \"\";width: 100%;border-bottom: 1px solid gray;flex-grow: 1;}#sk-container-id-1 div.sk-label:hover label.sk-toggleable__label {background-color: #d4ebff;}#sk-container-id-1 div.sk-serial::before {content: \"\";position: absolute;border-left: 1px solid gray;box-sizing: border-box;top: 0;bottom: 0;left: 50%;z-index: 0;}#sk-container-id-1 div.sk-serial {display: flex;flex-direction: column;align-items: center;background-color: white;padding-right: 0.2em;padding-left: 0.2em;position: relative;}#sk-container-id-1 div.sk-item {position: relative;z-index: 1;}#sk-container-id-1 div.sk-parallel {display: flex;align-items: stretch;justify-content: center;background-color: white;position: relative;}#sk-container-id-1 div.sk-item::before, #sk-container-id-1 div.sk-parallel-item::before {content: \"\";position: absolute;border-left: 1px solid gray;box-sizing: border-box;top: 0;bottom: 0;left: 50%;z-index: -1;}#sk-container-id-1 div.sk-parallel-item {display: flex;flex-direction: column;z-index: 1;position: relative;background-color: white;}#sk-container-id-1 div.sk-parallel-item:first-child::after {align-self: flex-end;width: 50%;}#sk-container-id-1 div.sk-parallel-item:last-child::after {align-self: flex-start;width: 50%;}#sk-container-id-1 div.sk-parallel-item:only-child::after {width: 0;}#sk-container-id-1 div.sk-dashed-wrapped {border: 1px dashed gray;margin: 0 0.4em 0.5em 0.4em;box-sizing: border-box;padding-bottom: 0.4em;background-color: white;}#sk-container-id-1 div.sk-label label {font-family: monospace;font-weight: bold;display: inline-block;line-height: 1.2em;}#sk-container-id-1 div.sk-label-container {text-align: center;}#sk-container-id-1 div.sk-container {/* jupyter's `normalize.less` sets `[hidden] { display: none; }` but bootstrap.min.css set `[hidden] { display: none !important; }` so we also need the `!important` here to be able to override the default hidden behavior on the sphinx rendered scikit-learn.org. See: https://github.com/scikit-learn/scikit-learn/issues/21755 */display: inline-block !important;position: relative;}#sk-container-id-1 div.sk-text-repr-fallback {display: none;}</style><div id=\"sk-container-id-1\" class=\"sk-top-container\"><div class=\"sk-text-repr-fallback\"><pre>XGBRegressor(base_score=None, booster=None, callbacks=None,\n",
       "             colsample_bylevel=None, colsample_bynode=None,\n",
       "             colsample_bytree=None, device=None, early_stopping_rounds=None,\n",
       "             enable_categorical=False, eval_metric=None, feature_types=None,\n",
       "             gamma=None, grow_policy=None, importance_type=None,\n",
       "             interaction_constraints=None, learning_rate=None, max_bin=None,\n",
       "             max_cat_threshold=None, max_cat_to_onehot=None,\n",
       "             max_delta_step=None, max_depth=None, max_leaves=None,\n",
       "             min_child_weight=None, missing=nan, monotone_constraints=None,\n",
       "             multi_strategy=None, n_estimators=None, n_jobs=None,\n",
       "             num_parallel_tree=None, random_state=42, ...)</pre><b>In a Jupyter environment, please rerun this cell to show the HTML representation or trust the notebook. <br />On GitHub, the HTML representation is unable to render, please try loading this page with nbviewer.org.</b></div><div class=\"sk-container\" hidden><div class=\"sk-item\"><div class=\"sk-estimator sk-toggleable\"><input class=\"sk-toggleable__control sk-hidden--visually\" id=\"sk-estimator-id-1\" type=\"checkbox\" checked><label for=\"sk-estimator-id-1\" class=\"sk-toggleable__label sk-toggleable__label-arrow\">XGBRegressor</label><div class=\"sk-toggleable__content\"><pre>XGBRegressor(base_score=None, booster=None, callbacks=None,\n",
       "             colsample_bylevel=None, colsample_bynode=None,\n",
       "             colsample_bytree=None, device=None, early_stopping_rounds=None,\n",
       "             enable_categorical=False, eval_metric=None, feature_types=None,\n",
       "             gamma=None, grow_policy=None, importance_type=None,\n",
       "             interaction_constraints=None, learning_rate=None, max_bin=None,\n",
       "             max_cat_threshold=None, max_cat_to_onehot=None,\n",
       "             max_delta_step=None, max_depth=None, max_leaves=None,\n",
       "             min_child_weight=None, missing=nan, monotone_constraints=None,\n",
       "             multi_strategy=None, n_estimators=None, n_jobs=None,\n",
       "             num_parallel_tree=None, random_state=42, ...)</pre></div></div></div></div></div>"
      ],
      "text/plain": [
       "XGBRegressor(base_score=None, booster=None, callbacks=None,\n",
       "             colsample_bylevel=None, colsample_bynode=None,\n",
       "             colsample_bytree=None, device=None, early_stopping_rounds=None,\n",
       "             enable_categorical=False, eval_metric=None, feature_types=None,\n",
       "             gamma=None, grow_policy=None, importance_type=None,\n",
       "             interaction_constraints=None, learning_rate=None, max_bin=None,\n",
       "             max_cat_threshold=None, max_cat_to_onehot=None,\n",
       "             max_delta_step=None, max_depth=None, max_leaves=None,\n",
       "             min_child_weight=None, missing=nan, monotone_constraints=None,\n",
       "             multi_strategy=None, n_estimators=None, n_jobs=None,\n",
       "             num_parallel_tree=None, random_state=42, ...)"
      ]
     },
     "execution_count": 10,
     "metadata": {},
     "output_type": "execute_result"
    }
   ],
   "source": [
    "model = xgb.XGBRegressor(objective=\"reg:squarederror\", random_state=42)\n",
    "model.fit(X_train, y_train)"
   ]
  },
  {
   "cell_type": "code",
   "execution_count": 11,
   "metadata": {},
   "outputs": [],
   "source": [
    "y_pred_test = model.predict(X_test)\n",
    "y_pred_train = model.predict(X_train)"
   ]
  },
  {
   "cell_type": "code",
   "execution_count": 12,
   "metadata": {},
   "outputs": [
    {
     "name": "stdout",
     "output_type": "stream",
     "text": [
      "Train: MAE: 0.00015647626145356226, RMSE: 0.0002346642041099819, R2: 0.9998837989470769\n",
      "Test: MAE: 0.0003568394157973274, RMSE: 0.0005712748487439398, R2: 0.9993076514933065\n"
     ]
    }
   ],
   "source": [
    "mae_train = mean_absolute_error(y_train, y_pred_train)\n",
    "mae_test = mean_absolute_error(y_test, y_pred_test)\n",
    "rmse_train = mean_squared_error(y_train, y_pred_train, squared=False)\n",
    "rmse_test = mean_squared_error(y_test, y_pred_test, squared=False)\n",
    "r2_train = r2_score(y_train, y_pred_train)\n",
    "r2_test = r2_score(y_test, y_pred_test)\n",
    "\n",
    "print(f'Train: MAE: {mae_train}, RMSE: {rmse_train}, R2: {r2_train}')\n",
    "print(f'Test: MAE: {mae_test}, RMSE: {rmse_test}, R2: {r2_test}')"
   ]
  },
  {
   "cell_type": "code",
   "execution_count": 13,
   "metadata": {},
   "outputs": [
    {
     "name": "stdout",
     "output_type": "stream",
     "text": [
      "returns                  0.771642\n",
      "square_returns           0.189647\n",
      "abs_returns              0.036486\n",
      "vol_ratio30              0.000317\n",
      "vol_sma14                0.000242\n",
      "vol_sma7                 0.000234\n",
      "rolling_volatility_14    0.000220\n",
      "returns_3                0.000213\n",
      "sma30                    0.000188\n",
      "vol_ratio7               0.000170\n",
      "vol_ratio14              0.000169\n",
      "rolling_volatility_7     0.000164\n",
      "returns_2                0.000161\n",
      "returns_1                0.000147\n",
      "vol_sma30                0.000000\n",
      "cumulative_returns       0.000000\n",
      "open                     0.000000\n",
      "ema30                    0.000000\n",
      "high                     0.000000\n",
      "ema14                    0.000000\n",
      "ema7                     0.000000\n",
      "sma14                    0.000000\n",
      "sma7                     0.000000\n",
      "volatility               0.000000\n",
      "volume                   0.000000\n",
      "close                    0.000000\n",
      "low                      0.000000\n",
      "rolling_volatility_30    0.000000\n",
      "dtype: float32\n"
     ]
    }
   ],
   "source": [
    "feature_importance = pd.Series(model.feature_importances_, index=X.columns)\n",
    "feature_importance = feature_importance.sort_values(ascending=False)\n",
    "print(feature_importance)"
   ]
  },
  {
   "cell_type": "code",
   "execution_count": 14,
   "metadata": {},
   "outputs": [
    {
     "name": "stdout",
     "output_type": "stream",
     "text": [
      "log_returns              1.000000\n",
      "returns                  0.999943\n",
      "square_returns           0.152603\n",
      "abs_returns              0.149540\n",
      "vol_ratio30              0.083801\n",
      "vol_ratio14              0.066551\n",
      "rolling_volatility_7     0.038774\n",
      "vol_ratio7               0.037608\n",
      "returns_2                0.031292\n",
      "close                    0.027316\n",
      "cumulative_returns       0.027316\n",
      "volume                   0.015529\n",
      "high                     0.008238\n",
      "low                      0.006698\n",
      "rolling_volatility_14   -0.000587\n",
      "vol_sma7                -0.003300\n",
      "ema7                    -0.005455\n",
      "vol_sma30               -0.008961\n",
      "returns_3               -0.009450\n",
      "sma7                    -0.010316\n",
      "ema14                   -0.010583\n",
      "sma14                   -0.012816\n",
      "vol_sma14               -0.013504\n",
      "ema30                   -0.013992\n",
      "volatility              -0.014031\n",
      "sma30                   -0.015310\n",
      "open                    -0.017978\n",
      "rolling_volatility_30   -0.018740\n",
      "returns_1               -0.026981\n",
      "Name: log_returns, dtype: float64\n"
     ]
    }
   ],
   "source": [
    "correlations = df.corr()['log_returns'].sort_values(ascending=False)\n",
    "print(correlations)"
   ]
  },
  {
   "cell_type": "code",
   "execution_count": 15,
   "metadata": {},
   "outputs": [],
   "source": [
    "columns_to_drop = correlations[(correlations < 0.02) | (correlations > 0.98)].index.tolist()\n",
    "columns_to_drop.remove('log_returns')\n",
    "columns_to_drop.remove('returns')"
   ]
  },
  {
   "cell_type": "code",
   "execution_count": 16,
   "metadata": {},
   "outputs": [
    {
     "name": "stdout",
     "output_type": "stream",
     "text": [
      "Columns dropped: ['volume', 'high', 'low', 'rolling_volatility_14', 'vol_sma7', 'ema7', 'vol_sma30', 'returns_3', 'sma7', 'ema14', 'sma14', 'vol_sma14', 'ema30', 'volatility', 'sma30', 'open', 'rolling_volatility_30', 'returns_1'].\n",
      "\n",
      "Columns left: Index(['close', 'returns', 'square_returns', 'abs_returns', 'returns_2',\n",
      "       'vol_ratio7', 'vol_ratio14', 'vol_ratio30', 'cumulative_returns',\n",
      "       'log_returns', 'rolling_volatility_7'],\n",
      "      dtype='object')\n"
     ]
    }
   ],
   "source": [
    "df = df.drop(columns=columns_to_drop)\n",
    "print(f'Columns dropped: {columns_to_drop}.\\n\\nColumns left: {df.columns}')"
   ]
  },
  {
   "cell_type": "code",
   "execution_count": 17,
   "metadata": {},
   "outputs": [],
   "source": [
    "X = df.drop(columns=['log_returns'])\n",
    "y = df['log_returns']"
   ]
  },
  {
   "cell_type": "code",
   "execution_count": 18,
   "metadata": {},
   "outputs": [],
   "source": [
    "X_train, X_test, y_train, y_test = train_test_split(X, y, test_size=0.2, shuffle=False, random_state=1)"
   ]
  },
  {
   "cell_type": "code",
   "execution_count": 19,
   "metadata": {},
   "outputs": [],
   "source": [
    "param_grid = {\n",
    "    'learning_rate': 0.03,\n",
    "    'n_estimators': 100,\n",
    "    'max_depth': 2,\n",
    "    'subsample': 0.5,\n",
    "    'colsample_bytree': 0.5,\n",
    "    'gamma': 0,\n",
    "    'reg_lambda': 1,\n",
    "    'reg_alpha': 0,\n",
    "    'min_child_weight': 1\n",
    "}"
   ]
  },
  {
   "cell_type": "code",
   "execution_count": 20,
   "metadata": {},
   "outputs": [
    {
     "data": {
      "text/html": [
       "<style>#sk-container-id-2 {color: black;background-color: white;}#sk-container-id-2 pre{padding: 0;}#sk-container-id-2 div.sk-toggleable {background-color: white;}#sk-container-id-2 label.sk-toggleable__label {cursor: pointer;display: block;width: 100%;margin-bottom: 0;padding: 0.3em;box-sizing: border-box;text-align: center;}#sk-container-id-2 label.sk-toggleable__label-arrow:before {content: \"▸\";float: left;margin-right: 0.25em;color: #696969;}#sk-container-id-2 label.sk-toggleable__label-arrow:hover:before {color: black;}#sk-container-id-2 div.sk-estimator:hover label.sk-toggleable__label-arrow:before {color: black;}#sk-container-id-2 div.sk-toggleable__content {max-height: 0;max-width: 0;overflow: hidden;text-align: left;background-color: #f0f8ff;}#sk-container-id-2 div.sk-toggleable__content pre {margin: 0.2em;color: black;border-radius: 0.25em;background-color: #f0f8ff;}#sk-container-id-2 input.sk-toggleable__control:checked~div.sk-toggleable__content {max-height: 200px;max-width: 100%;overflow: auto;}#sk-container-id-2 input.sk-toggleable__control:checked~label.sk-toggleable__label-arrow:before {content: \"▾\";}#sk-container-id-2 div.sk-estimator input.sk-toggleable__control:checked~label.sk-toggleable__label {background-color: #d4ebff;}#sk-container-id-2 div.sk-label input.sk-toggleable__control:checked~label.sk-toggleable__label {background-color: #d4ebff;}#sk-container-id-2 input.sk-hidden--visually {border: 0;clip: rect(1px 1px 1px 1px);clip: rect(1px, 1px, 1px, 1px);height: 1px;margin: -1px;overflow: hidden;padding: 0;position: absolute;width: 1px;}#sk-container-id-2 div.sk-estimator {font-family: monospace;background-color: #f0f8ff;border: 1px dotted black;border-radius: 0.25em;box-sizing: border-box;margin-bottom: 0.5em;}#sk-container-id-2 div.sk-estimator:hover {background-color: #d4ebff;}#sk-container-id-2 div.sk-parallel-item::after {content: \"\";width: 100%;border-bottom: 1px solid gray;flex-grow: 1;}#sk-container-id-2 div.sk-label:hover label.sk-toggleable__label {background-color: #d4ebff;}#sk-container-id-2 div.sk-serial::before {content: \"\";position: absolute;border-left: 1px solid gray;box-sizing: border-box;top: 0;bottom: 0;left: 50%;z-index: 0;}#sk-container-id-2 div.sk-serial {display: flex;flex-direction: column;align-items: center;background-color: white;padding-right: 0.2em;padding-left: 0.2em;position: relative;}#sk-container-id-2 div.sk-item {position: relative;z-index: 1;}#sk-container-id-2 div.sk-parallel {display: flex;align-items: stretch;justify-content: center;background-color: white;position: relative;}#sk-container-id-2 div.sk-item::before, #sk-container-id-2 div.sk-parallel-item::before {content: \"\";position: absolute;border-left: 1px solid gray;box-sizing: border-box;top: 0;bottom: 0;left: 50%;z-index: -1;}#sk-container-id-2 div.sk-parallel-item {display: flex;flex-direction: column;z-index: 1;position: relative;background-color: white;}#sk-container-id-2 div.sk-parallel-item:first-child::after {align-self: flex-end;width: 50%;}#sk-container-id-2 div.sk-parallel-item:last-child::after {align-self: flex-start;width: 50%;}#sk-container-id-2 div.sk-parallel-item:only-child::after {width: 0;}#sk-container-id-2 div.sk-dashed-wrapped {border: 1px dashed gray;margin: 0 0.4em 0.5em 0.4em;box-sizing: border-box;padding-bottom: 0.4em;background-color: white;}#sk-container-id-2 div.sk-label label {font-family: monospace;font-weight: bold;display: inline-block;line-height: 1.2em;}#sk-container-id-2 div.sk-label-container {text-align: center;}#sk-container-id-2 div.sk-container {/* jupyter's `normalize.less` sets `[hidden] { display: none; }` but bootstrap.min.css set `[hidden] { display: none !important; }` so we also need the `!important` here to be able to override the default hidden behavior on the sphinx rendered scikit-learn.org. See: https://github.com/scikit-learn/scikit-learn/issues/21755 */display: inline-block !important;position: relative;}#sk-container-id-2 div.sk-text-repr-fallback {display: none;}</style><div id=\"sk-container-id-2\" class=\"sk-top-container\"><div class=\"sk-text-repr-fallback\"><pre>XGBRegressor(base_score=None, booster=None, callbacks=None,\n",
       "             colsample_bylevel=None, colsample_bynode=None,\n",
       "             colsample_bytree=0.5, device=None, early_stopping_rounds=None,\n",
       "             enable_categorical=False, eval_metric=None, feature_types=None,\n",
       "             gamma=0, grow_policy=None, importance_type=None,\n",
       "             interaction_constraints=None, learning_rate=0.03, max_bin=None,\n",
       "             max_cat_threshold=None, max_cat_to_onehot=None,\n",
       "             max_delta_step=None, max_depth=2, max_leaves=None,\n",
       "             min_child_weight=1, missing=nan, monotone_constraints=None,\n",
       "             multi_strategy=None, n_estimators=100, n_jobs=None,\n",
       "             num_parallel_tree=None, random_state=42, ...)</pre><b>In a Jupyter environment, please rerun this cell to show the HTML representation or trust the notebook. <br />On GitHub, the HTML representation is unable to render, please try loading this page with nbviewer.org.</b></div><div class=\"sk-container\" hidden><div class=\"sk-item\"><div class=\"sk-estimator sk-toggleable\"><input class=\"sk-toggleable__control sk-hidden--visually\" id=\"sk-estimator-id-2\" type=\"checkbox\" checked><label for=\"sk-estimator-id-2\" class=\"sk-toggleable__label sk-toggleable__label-arrow\">XGBRegressor</label><div class=\"sk-toggleable__content\"><pre>XGBRegressor(base_score=None, booster=None, callbacks=None,\n",
       "             colsample_bylevel=None, colsample_bynode=None,\n",
       "             colsample_bytree=0.5, device=None, early_stopping_rounds=None,\n",
       "             enable_categorical=False, eval_metric=None, feature_types=None,\n",
       "             gamma=0, grow_policy=None, importance_type=None,\n",
       "             interaction_constraints=None, learning_rate=0.03, max_bin=None,\n",
       "             max_cat_threshold=None, max_cat_to_onehot=None,\n",
       "             max_delta_step=None, max_depth=2, max_leaves=None,\n",
       "             min_child_weight=1, missing=nan, monotone_constraints=None,\n",
       "             multi_strategy=None, n_estimators=100, n_jobs=None,\n",
       "             num_parallel_tree=None, random_state=42, ...)</pre></div></div></div></div></div>"
      ],
      "text/plain": [
       "XGBRegressor(base_score=None, booster=None, callbacks=None,\n",
       "             colsample_bylevel=None, colsample_bynode=None,\n",
       "             colsample_bytree=0.5, device=None, early_stopping_rounds=None,\n",
       "             enable_categorical=False, eval_metric=None, feature_types=None,\n",
       "             gamma=0, grow_policy=None, importance_type=None,\n",
       "             interaction_constraints=None, learning_rate=0.03, max_bin=None,\n",
       "             max_cat_threshold=None, max_cat_to_onehot=None,\n",
       "             max_delta_step=None, max_depth=2, max_leaves=None,\n",
       "             min_child_weight=1, missing=nan, monotone_constraints=None,\n",
       "             multi_strategy=None, n_estimators=100, n_jobs=None,\n",
       "             num_parallel_tree=None, random_state=42, ...)"
      ]
     },
     "execution_count": 20,
     "metadata": {},
     "output_type": "execute_result"
    }
   ],
   "source": [
    "model = xgb.XGBRegressor(objective=\"reg:squarederror\", random_state=42, **param_grid)\n",
    "model.fit(X_train, y_train)"
   ]
  },
  {
   "cell_type": "code",
   "execution_count": 21,
   "metadata": {},
   "outputs": [],
   "source": [
    "y_pred_test = model.predict(X_test)\n",
    "y_pred_train = model.predict(X_train)"
   ]
  },
  {
   "cell_type": "code",
   "execution_count": 22,
   "metadata": {},
   "outputs": [
    {
     "name": "stdout",
     "output_type": "stream",
     "text": [
      "Train: MAE: 0.003850587663810505, RMSE: 0.005434024347948789, R2: 0.9376897448864068\n",
      "Test: MAE: 0.004079103535427307, RMSE: 0.005580242854676855, R2: 0.9339396680136166\n"
     ]
    }
   ],
   "source": [
    "mae_train = mean_absolute_error(y_train, y_pred_train)\n",
    "mae_test = mean_absolute_error(y_test, y_pred_test)\n",
    "rmse_train = mean_squared_error(y_train, y_pred_train, squared=False)\n",
    "rmse_test = mean_squared_error(y_test, y_pred_test, squared=False)\n",
    "r2_train = r2_score(y_train, y_pred_train)\n",
    "r2_test = r2_score(y_test, y_pred_test)\n",
    "\n",
    "print(f'Train: MAE: {mae_train}, RMSE: {rmse_train}, R2: {r2_train}')\n",
    "print(f'Test: MAE: {mae_test}, RMSE: {rmse_test}, R2: {r2_test}')"
   ]
  },
  {
   "cell_type": "code",
   "execution_count": 23,
   "metadata": {},
   "outputs": [],
   "source": [
    "param_grid = {\n",
    "    'learning_rate': [0.01, 0.03],  \n",
    "    'n_estimators': [100, 200],  \n",
    "    'max_depth': [2, 3],  \n",
    "    'subsample': [0.5, 0.7],  \n",
    "    'colsample_bytree': [0.5, 0.7],  \n",
    "    'gamma': [0, 0.1],  \n",
    "    'reg_lambda': [0.1, 1],  \n",
    "    'reg_alpha': [0.1, 1],  \n",
    "    'min_child_weight': [1, 3]\n",
    "}"
   ]
  },
  {
   "cell_type": "code",
   "execution_count": 24,
   "metadata": {},
   "outputs": [],
   "source": [
    "model = xgb.XGBRegressor(objective=\"reg:squarederror\", random_state=1)"
   ]
  },
  {
   "cell_type": "code",
   "execution_count": 25,
   "metadata": {},
   "outputs": [],
   "source": [
    "grid_search = GridSearchCV(\n",
    "    estimator=model,\n",
    "    param_grid=param_grid,\n",
    "    scoring='r2',\n",
    "    cv=3,\n",
    "    verbose=1,\n",
    "    n_jobs=-1\n",
    ")"
   ]
  },
  {
   "cell_type": "code",
   "execution_count": 26,
   "metadata": {},
   "outputs": [
    {
     "name": "stdout",
     "output_type": "stream",
     "text": [
      "Fitting 3 folds for each of 512 candidates, totalling 1536 fits\n"
     ]
    },
    {
     "ename": "KeyboardInterrupt",
     "evalue": "",
     "output_type": "error",
     "traceback": [
      "\u001b[1;31m---------------------------------------------------------------------------\u001b[0m",
      "\u001b[1;31mKeyboardInterrupt\u001b[0m                         Traceback (most recent call last)",
      "Cell \u001b[1;32mIn[26], line 1\u001b[0m\n\u001b[1;32m----> 1\u001b[0m grid_search\u001b[38;5;241m.\u001b[39mfit(X_train, y_train)\n",
      "File \u001b[1;32mc:\\Users\\santi\\anaconda3\\Lib\\site-packages\\sklearn\\model_selection\\_search.py:874\u001b[0m, in \u001b[0;36mBaseSearchCV.fit\u001b[1;34m(self, X, y, groups, **fit_params)\u001b[0m\n\u001b[0;32m    868\u001b[0m     results \u001b[38;5;241m=\u001b[39m \u001b[38;5;28mself\u001b[39m\u001b[38;5;241m.\u001b[39m_format_results(\n\u001b[0;32m    869\u001b[0m         all_candidate_params, n_splits, all_out, all_more_results\n\u001b[0;32m    870\u001b[0m     )\n\u001b[0;32m    872\u001b[0m     \u001b[38;5;28;01mreturn\u001b[39;00m results\n\u001b[1;32m--> 874\u001b[0m \u001b[38;5;28mself\u001b[39m\u001b[38;5;241m.\u001b[39m_run_search(evaluate_candidates)\n\u001b[0;32m    876\u001b[0m \u001b[38;5;66;03m# multimetric is determined here because in the case of a callable\u001b[39;00m\n\u001b[0;32m    877\u001b[0m \u001b[38;5;66;03m# self.scoring the return type is only known after calling\u001b[39;00m\n\u001b[0;32m    878\u001b[0m first_test_score \u001b[38;5;241m=\u001b[39m all_out[\u001b[38;5;241m0\u001b[39m][\u001b[38;5;124m\"\u001b[39m\u001b[38;5;124mtest_scores\u001b[39m\u001b[38;5;124m\"\u001b[39m]\n",
      "File \u001b[1;32mc:\\Users\\santi\\anaconda3\\Lib\\site-packages\\sklearn\\model_selection\\_search.py:1388\u001b[0m, in \u001b[0;36mGridSearchCV._run_search\u001b[1;34m(self, evaluate_candidates)\u001b[0m\n\u001b[0;32m   1386\u001b[0m \u001b[38;5;28;01mdef\u001b[39;00m \u001b[38;5;21m_run_search\u001b[39m(\u001b[38;5;28mself\u001b[39m, evaluate_candidates):\n\u001b[0;32m   1387\u001b[0m \u001b[38;5;250m    \u001b[39m\u001b[38;5;124;03m\"\"\"Search all candidates in param_grid\"\"\"\u001b[39;00m\n\u001b[1;32m-> 1388\u001b[0m     evaluate_candidates(ParameterGrid(\u001b[38;5;28mself\u001b[39m\u001b[38;5;241m.\u001b[39mparam_grid))\n",
      "File \u001b[1;32mc:\\Users\\santi\\anaconda3\\Lib\\site-packages\\sklearn\\model_selection\\_search.py:821\u001b[0m, in \u001b[0;36mBaseSearchCV.fit.<locals>.evaluate_candidates\u001b[1;34m(candidate_params, cv, more_results)\u001b[0m\n\u001b[0;32m    813\u001b[0m \u001b[38;5;28;01mif\u001b[39;00m \u001b[38;5;28mself\u001b[39m\u001b[38;5;241m.\u001b[39mverbose \u001b[38;5;241m>\u001b[39m \u001b[38;5;241m0\u001b[39m:\n\u001b[0;32m    814\u001b[0m     \u001b[38;5;28mprint\u001b[39m(\n\u001b[0;32m    815\u001b[0m         \u001b[38;5;124m\"\u001b[39m\u001b[38;5;124mFitting \u001b[39m\u001b[38;5;132;01m{0}\u001b[39;00m\u001b[38;5;124m folds for each of \u001b[39m\u001b[38;5;132;01m{1}\u001b[39;00m\u001b[38;5;124m candidates,\u001b[39m\u001b[38;5;124m\"\u001b[39m\n\u001b[0;32m    816\u001b[0m         \u001b[38;5;124m\"\u001b[39m\u001b[38;5;124m totalling \u001b[39m\u001b[38;5;132;01m{2}\u001b[39;00m\u001b[38;5;124m fits\u001b[39m\u001b[38;5;124m\"\u001b[39m\u001b[38;5;241m.\u001b[39mformat(\n\u001b[0;32m    817\u001b[0m             n_splits, n_candidates, n_candidates \u001b[38;5;241m*\u001b[39m n_splits\n\u001b[0;32m    818\u001b[0m         )\n\u001b[0;32m    819\u001b[0m     )\n\u001b[1;32m--> 821\u001b[0m out \u001b[38;5;241m=\u001b[39m parallel(\n\u001b[0;32m    822\u001b[0m     delayed(_fit_and_score)(\n\u001b[0;32m    823\u001b[0m         clone(base_estimator),\n\u001b[0;32m    824\u001b[0m         X,\n\u001b[0;32m    825\u001b[0m         y,\n\u001b[0;32m    826\u001b[0m         train\u001b[38;5;241m=\u001b[39mtrain,\n\u001b[0;32m    827\u001b[0m         test\u001b[38;5;241m=\u001b[39mtest,\n\u001b[0;32m    828\u001b[0m         parameters\u001b[38;5;241m=\u001b[39mparameters,\n\u001b[0;32m    829\u001b[0m         split_progress\u001b[38;5;241m=\u001b[39m(split_idx, n_splits),\n\u001b[0;32m    830\u001b[0m         candidate_progress\u001b[38;5;241m=\u001b[39m(cand_idx, n_candidates),\n\u001b[0;32m    831\u001b[0m         \u001b[38;5;241m*\u001b[39m\u001b[38;5;241m*\u001b[39mfit_and_score_kwargs,\n\u001b[0;32m    832\u001b[0m     )\n\u001b[0;32m    833\u001b[0m     \u001b[38;5;28;01mfor\u001b[39;00m (cand_idx, parameters), (split_idx, (train, test)) \u001b[38;5;129;01min\u001b[39;00m product(\n\u001b[0;32m    834\u001b[0m         \u001b[38;5;28menumerate\u001b[39m(candidate_params), \u001b[38;5;28menumerate\u001b[39m(cv\u001b[38;5;241m.\u001b[39msplit(X, y, groups))\n\u001b[0;32m    835\u001b[0m     )\n\u001b[0;32m    836\u001b[0m )\n\u001b[0;32m    838\u001b[0m \u001b[38;5;28;01mif\u001b[39;00m \u001b[38;5;28mlen\u001b[39m(out) \u001b[38;5;241m<\u001b[39m \u001b[38;5;241m1\u001b[39m:\n\u001b[0;32m    839\u001b[0m     \u001b[38;5;28;01mraise\u001b[39;00m \u001b[38;5;167;01mValueError\u001b[39;00m(\n\u001b[0;32m    840\u001b[0m         \u001b[38;5;124m\"\u001b[39m\u001b[38;5;124mNo fits were performed. \u001b[39m\u001b[38;5;124m\"\u001b[39m\n\u001b[0;32m    841\u001b[0m         \u001b[38;5;124m\"\u001b[39m\u001b[38;5;124mWas the CV iterator empty? \u001b[39m\u001b[38;5;124m\"\u001b[39m\n\u001b[0;32m    842\u001b[0m         \u001b[38;5;124m\"\u001b[39m\u001b[38;5;124mWere there no candidates?\u001b[39m\u001b[38;5;124m\"\u001b[39m\n\u001b[0;32m    843\u001b[0m     )\n",
      "File \u001b[1;32mc:\\Users\\santi\\anaconda3\\Lib\\site-packages\\sklearn\\utils\\parallel.py:63\u001b[0m, in \u001b[0;36mParallel.__call__\u001b[1;34m(self, iterable)\u001b[0m\n\u001b[0;32m     58\u001b[0m config \u001b[38;5;241m=\u001b[39m get_config()\n\u001b[0;32m     59\u001b[0m iterable_with_config \u001b[38;5;241m=\u001b[39m (\n\u001b[0;32m     60\u001b[0m     (_with_config(delayed_func, config), args, kwargs)\n\u001b[0;32m     61\u001b[0m     \u001b[38;5;28;01mfor\u001b[39;00m delayed_func, args, kwargs \u001b[38;5;129;01min\u001b[39;00m iterable\n\u001b[0;32m     62\u001b[0m )\n\u001b[1;32m---> 63\u001b[0m \u001b[38;5;28;01mreturn\u001b[39;00m \u001b[38;5;28msuper\u001b[39m()\u001b[38;5;241m.\u001b[39m\u001b[38;5;21m__call__\u001b[39m(iterable_with_config)\n",
      "File \u001b[1;32mc:\\Users\\santi\\anaconda3\\Lib\\site-packages\\joblib\\parallel.py:1098\u001b[0m, in \u001b[0;36mParallel.__call__\u001b[1;34m(self, iterable)\u001b[0m\n\u001b[0;32m   1095\u001b[0m     \u001b[38;5;28mself\u001b[39m\u001b[38;5;241m.\u001b[39m_iterating \u001b[38;5;241m=\u001b[39m \u001b[38;5;28;01mFalse\u001b[39;00m\n\u001b[0;32m   1097\u001b[0m \u001b[38;5;28;01mwith\u001b[39;00m \u001b[38;5;28mself\u001b[39m\u001b[38;5;241m.\u001b[39m_backend\u001b[38;5;241m.\u001b[39mretrieval_context():\n\u001b[1;32m-> 1098\u001b[0m     \u001b[38;5;28mself\u001b[39m\u001b[38;5;241m.\u001b[39mretrieve()\n\u001b[0;32m   1099\u001b[0m \u001b[38;5;66;03m# Make sure that we get a last message telling us we are done\u001b[39;00m\n\u001b[0;32m   1100\u001b[0m elapsed_time \u001b[38;5;241m=\u001b[39m time\u001b[38;5;241m.\u001b[39mtime() \u001b[38;5;241m-\u001b[39m \u001b[38;5;28mself\u001b[39m\u001b[38;5;241m.\u001b[39m_start_time\n",
      "File \u001b[1;32mc:\\Users\\santi\\anaconda3\\Lib\\site-packages\\joblib\\parallel.py:975\u001b[0m, in \u001b[0;36mParallel.retrieve\u001b[1;34m(self)\u001b[0m\n\u001b[0;32m    973\u001b[0m \u001b[38;5;28;01mtry\u001b[39;00m:\n\u001b[0;32m    974\u001b[0m     \u001b[38;5;28;01mif\u001b[39;00m \u001b[38;5;28mgetattr\u001b[39m(\u001b[38;5;28mself\u001b[39m\u001b[38;5;241m.\u001b[39m_backend, \u001b[38;5;124m'\u001b[39m\u001b[38;5;124msupports_timeout\u001b[39m\u001b[38;5;124m'\u001b[39m, \u001b[38;5;28;01mFalse\u001b[39;00m):\n\u001b[1;32m--> 975\u001b[0m         \u001b[38;5;28mself\u001b[39m\u001b[38;5;241m.\u001b[39m_output\u001b[38;5;241m.\u001b[39mextend(job\u001b[38;5;241m.\u001b[39mget(timeout\u001b[38;5;241m=\u001b[39m\u001b[38;5;28mself\u001b[39m\u001b[38;5;241m.\u001b[39mtimeout))\n\u001b[0;32m    976\u001b[0m     \u001b[38;5;28;01melse\u001b[39;00m:\n\u001b[0;32m    977\u001b[0m         \u001b[38;5;28mself\u001b[39m\u001b[38;5;241m.\u001b[39m_output\u001b[38;5;241m.\u001b[39mextend(job\u001b[38;5;241m.\u001b[39mget())\n",
      "File \u001b[1;32mc:\\Users\\santi\\anaconda3\\Lib\\site-packages\\joblib\\_parallel_backends.py:567\u001b[0m, in \u001b[0;36mLokyBackend.wrap_future_result\u001b[1;34m(future, timeout)\u001b[0m\n\u001b[0;32m    564\u001b[0m \u001b[38;5;250m\u001b[39m\u001b[38;5;124;03m\"\"\"Wrapper for Future.result to implement the same behaviour as\u001b[39;00m\n\u001b[0;32m    565\u001b[0m \u001b[38;5;124;03mAsyncResults.get from multiprocessing.\"\"\"\u001b[39;00m\n\u001b[0;32m    566\u001b[0m \u001b[38;5;28;01mtry\u001b[39;00m:\n\u001b[1;32m--> 567\u001b[0m     \u001b[38;5;28;01mreturn\u001b[39;00m future\u001b[38;5;241m.\u001b[39mresult(timeout\u001b[38;5;241m=\u001b[39mtimeout)\n\u001b[0;32m    568\u001b[0m \u001b[38;5;28;01mexcept\u001b[39;00m CfTimeoutError \u001b[38;5;28;01mas\u001b[39;00m e:\n\u001b[0;32m    569\u001b[0m     \u001b[38;5;28;01mraise\u001b[39;00m \u001b[38;5;167;01mTimeoutError\u001b[39;00m \u001b[38;5;28;01mfrom\u001b[39;00m \u001b[38;5;21;01me\u001b[39;00m\n",
      "File \u001b[1;32mc:\\Users\\santi\\anaconda3\\Lib\\concurrent\\futures\\_base.py:451\u001b[0m, in \u001b[0;36mFuture.result\u001b[1;34m(self, timeout)\u001b[0m\n\u001b[0;32m    448\u001b[0m \u001b[38;5;28;01melif\u001b[39;00m \u001b[38;5;28mself\u001b[39m\u001b[38;5;241m.\u001b[39m_state \u001b[38;5;241m==\u001b[39m FINISHED:\n\u001b[0;32m    449\u001b[0m     \u001b[38;5;28;01mreturn\u001b[39;00m \u001b[38;5;28mself\u001b[39m\u001b[38;5;241m.\u001b[39m__get_result()\n\u001b[1;32m--> 451\u001b[0m \u001b[38;5;28mself\u001b[39m\u001b[38;5;241m.\u001b[39m_condition\u001b[38;5;241m.\u001b[39mwait(timeout)\n\u001b[0;32m    453\u001b[0m \u001b[38;5;28;01mif\u001b[39;00m \u001b[38;5;28mself\u001b[39m\u001b[38;5;241m.\u001b[39m_state \u001b[38;5;129;01min\u001b[39;00m [CANCELLED, CANCELLED_AND_NOTIFIED]:\n\u001b[0;32m    454\u001b[0m     \u001b[38;5;28;01mraise\u001b[39;00m CancelledError()\n",
      "File \u001b[1;32mc:\\Users\\santi\\anaconda3\\Lib\\threading.py:327\u001b[0m, in \u001b[0;36mCondition.wait\u001b[1;34m(self, timeout)\u001b[0m\n\u001b[0;32m    325\u001b[0m \u001b[38;5;28;01mtry\u001b[39;00m:    \u001b[38;5;66;03m# restore state no matter what (e.g., KeyboardInterrupt)\u001b[39;00m\n\u001b[0;32m    326\u001b[0m     \u001b[38;5;28;01mif\u001b[39;00m timeout \u001b[38;5;129;01mis\u001b[39;00m \u001b[38;5;28;01mNone\u001b[39;00m:\n\u001b[1;32m--> 327\u001b[0m         waiter\u001b[38;5;241m.\u001b[39macquire()\n\u001b[0;32m    328\u001b[0m         gotit \u001b[38;5;241m=\u001b[39m \u001b[38;5;28;01mTrue\u001b[39;00m\n\u001b[0;32m    329\u001b[0m     \u001b[38;5;28;01melse\u001b[39;00m:\n",
      "\u001b[1;31mKeyboardInterrupt\u001b[0m: "
     ]
    }
   ],
   "source": [
    "grid_search.fit(X_train, y_train)"
   ]
  },
  {
   "cell_type": "code",
   "execution_count": null,
   "metadata": {},
   "outputs": [
    {
     "name": "stdout",
     "output_type": "stream",
     "text": [
      "Best parameters: {'colsample_bytree': 0.7, 'gamma': 0, 'learning_rate': 0.03, 'max_depth': 2, 'min_child_weight': 3, 'n_estimators': 200, 'reg_alpha': 0.1, 'reg_lambda': 0.1, 'subsample': 0.7}\n",
      "Best R2 in CV: 0.9826739231039426\n"
     ]
    }
   ],
   "source": [
    "print(f'Best parameters: {grid_search.best_params_}')\n",
    "print(f'Best R2 in CV: {grid_search.best_score_}')"
   ]
  },
  {
   "cell_type": "code",
   "execution_count": null,
   "metadata": {},
   "outputs": [],
   "source": [
    "best_model = grid_search.best_estimator_\n",
    "y_pred = best_model.predict(X_test)"
   ]
  },
  {
   "cell_type": "code",
   "execution_count": null,
   "metadata": {},
   "outputs": [
    {
     "name": "stdout",
     "output_type": "stream",
     "text": [
      "Test MAE: 0.0008665466781288853\n",
      "Test RMSE: 0.001749950396277598\n",
      "Test R2: 0.9935034014820587\n"
     ]
    }
   ],
   "source": [
    "print(\"Test MAE:\", mean_absolute_error(y_test, y_pred))\n",
    "print(\"Test RMSE:\", mean_squared_error(y_test, y_pred, squared=False))\n",
    "print(\"Test R2:\", r2_score(y_test, y_pred))"
   ]
  },
  {
   "cell_type": "code",
   "execution_count": null,
   "metadata": {},
   "outputs": [
    {
     "name": "stdout",
     "output_type": "stream",
     "text": [
      "Train: MAE: 0.0008708048067062333, RMSE: 0.0018419385855257295, R2: 0.9928407642986018\n",
      "Test: MAE: 0.0008665466781288853, RMSE: 0.001749950396277598, R2: 0.9935034014820587\n"
     ]
    }
   ],
   "source": [
    "y_pred_test = best_model.predict(X_test)\n",
    "y_pred_train = best_model.predict(X_train)\n",
    "\n",
    "mae_train = mean_absolute_error(y_train, y_pred_train)\n",
    "mae_test = mean_absolute_error(y_test, y_pred_test)\n",
    "rmse_train = mean_squared_error(y_train, y_pred_train, squared=False)\n",
    "rmse_test = mean_squared_error(y_test, y_pred_test, squared=False)\n",
    "r2_train = r2_score(y_train, y_pred_train)\n",
    "r2_test = r2_score(y_test, y_pred_test)\n",
    "\n",
    "print(f'Train: MAE: {mae_train}, RMSE: {rmse_train}, R2: {r2_train}')\n",
    "print(f'Test: MAE: {mae_test}, RMSE: {rmse_test}, R2: {r2_test}')"
   ]
  },
  {
   "cell_type": "code",
   "execution_count": 30,
   "metadata": {},
   "outputs": [],
   "source": [
    "from bayes_opt import BayesianOptimization\n",
    "from sklearn.model_selection import cross_val_score"
   ]
  },
  {
   "cell_type": "code",
   "execution_count": 31,
   "metadata": {},
   "outputs": [],
   "source": [
    "def objective_function(colsample_bytree, gamma, learning_rate, max_depth, \n",
    "                       min_child_weight, n_estimators, reg_alpha, reg_lambda, subsample):\n",
    "    \n",
    "    params = {\n",
    "        'colsample_bytree': max(min(colsample_bytree, 1), 0),  \n",
    "        'gamma': max(gamma, 0),  \n",
    "        'learning_rate': max(learning_rate, 0.001),  \n",
    "        'max_depth': int(max_depth),  \n",
    "        'min_child_weight': max(min_child_weight, 1),  \n",
    "        'n_estimators': int(n_estimators),  \n",
    "        'reg_alpha': max(reg_alpha, 0),  \n",
    "        'reg_lambda': max(reg_lambda, 0),  \n",
    "        'subsample': max(min(subsample, 1), 0),  \n",
    "        'objective': 'reg:squarederror'\n",
    "    }\n",
    "\n",
    "    model = xgb.XGBRegressor(**params)\n",
    "\n",
    "    scores = cross_val_score(model, X_train, y_train, cv=3, scoring='r2', n_jobs=-1)\n",
    "    \n",
    "    return np.mean(scores)"
   ]
  },
  {
   "cell_type": "code",
   "execution_count": null,
   "metadata": {},
   "outputs": [],
   "source": [
    "param_bounds = {\n",
    "    'colsample_bytree': (0.5, 1.0),\n",
    "    'gamma': (0, 5),\n",
    "    'learning_rate': (0.01, 0.3),\n",
    "    'max_depth': (2, 10),\n",
    "    'min_child_weight': (1, 10),\n",
    "    'n_estimators': (50, 500),\n",
    "    'reg_alpha': (0, 1),\n",
    "    'reg_lambda': (0, 1),\n",
    "    'subsample': (0.5, 1.0)\n",
    "}"
   ]
  },
  {
   "cell_type": "code",
   "execution_count": 33,
   "metadata": {},
   "outputs": [
    {
     "name": "stdout",
     "output_type": "stream",
     "text": [
      "|   iter    |  target   | colsam... |   gamma   | learni... | max_depth | min_ch... | n_esti... | reg_alpha | reg_la... | subsample |\n",
      "-------------------------------------------------------------------------------------------------------------------------------------\n",
      "| \u001b[39m1        \u001b[39m | \u001b[39m-0.000332\u001b[39m | \u001b[39m0.6873   \u001b[39m | \u001b[39m4.754    \u001b[39m | \u001b[39m0.2223   \u001b[39m | \u001b[39m6.789    \u001b[39m | \u001b[39m2.404    \u001b[39m | \u001b[39m120.2    \u001b[39m | \u001b[39m0.05808  \u001b[39m | \u001b[39m0.8662   \u001b[39m | \u001b[39m0.8006   \u001b[39m |\n",
      "| \u001b[35m2        \u001b[39m | \u001b[35m0.1954   \u001b[39m | \u001b[35m0.854    \u001b[39m | \u001b[35m0.1029   \u001b[39m | \u001b[35m0.2913   \u001b[39m | \u001b[35m8.66     \u001b[39m | \u001b[35m2.911    \u001b[39m | \u001b[35m131.8    \u001b[39m | \u001b[35m0.1834   \u001b[39m | \u001b[35m0.3042   \u001b[39m | \u001b[35m0.7624   \u001b[39m |\n",
      "| \u001b[39m3        \u001b[39m | \u001b[39m-0.000470\u001b[39m | \u001b[39m0.716    \u001b[39m | \u001b[39m1.456    \u001b[39m | \u001b[39m0.1874   \u001b[39m | \u001b[39m3.116    \u001b[39m | \u001b[39m3.629    \u001b[39m | \u001b[39m214.9    \u001b[39m | \u001b[39m0.4561   \u001b[39m | \u001b[39m0.7852   \u001b[39m | \u001b[39m0.5998   \u001b[39m |\n",
      "| \u001b[39m4        \u001b[39m | \u001b[39m-0.000456\u001b[39m | \u001b[39m0.7571   \u001b[39m | \u001b[39m2.962    \u001b[39m | \u001b[39m0.02347  \u001b[39m | \u001b[39m6.86     \u001b[39m | \u001b[39m2.535    \u001b[39m | \u001b[39m79.27    \u001b[39m | \u001b[39m0.9489   \u001b[39m | \u001b[39m0.9656   \u001b[39m | \u001b[39m0.9042   \u001b[39m |\n",
      "| \u001b[39m5        \u001b[39m | \u001b[39m-0.000496\u001b[39m | \u001b[39m0.6523   \u001b[39m | \u001b[39m0.4884   \u001b[39m | \u001b[39m0.2084   \u001b[39m | \u001b[39m5.521    \u001b[39m | \u001b[39m2.098    \u001b[39m | \u001b[39m272.8    \u001b[39m | \u001b[39m0.03439  \u001b[39m | \u001b[39m0.9093   \u001b[39m | \u001b[39m0.6294   \u001b[39m |\n",
      "| \u001b[39m6        \u001b[39m | \u001b[39m-0.000460\u001b[39m | \u001b[39m0.9804   \u001b[39m | \u001b[39m3.013    \u001b[39m | \u001b[39m0.2973   \u001b[39m | \u001b[39m5.459    \u001b[39m | \u001b[39m1.291    \u001b[39m | \u001b[39m186.1    \u001b[39m | \u001b[39m0.6508   \u001b[39m | \u001b[39m0.9103   \u001b[39m | \u001b[39m0.8076   \u001b[39m |\n",
      "| \u001b[39m7        \u001b[39m | \u001b[39m-0.000455\u001b[39m | \u001b[39m0.6684   \u001b[39m | \u001b[39m0.5156   \u001b[39m | \u001b[39m0.1076   \u001b[39m | \u001b[39m7.577    \u001b[39m | \u001b[39m3.259    \u001b[39m | \u001b[39m132.3    \u001b[39m | \u001b[39m0.2636   \u001b[39m | \u001b[39m0.5517   \u001b[39m | \u001b[39m0.9373   \u001b[39m |\n",
      "| \u001b[39m8        \u001b[39m | \u001b[39m-0.000470\u001b[39m | \u001b[39m0.7191   \u001b[39m | \u001b[39m4.77     \u001b[39m | \u001b[39m0.06355  \u001b[39m | \u001b[39m9.472    \u001b[39m | \u001b[39m4.982    \u001b[39m | \u001b[39m167.3    \u001b[39m | \u001b[39m0.6079   \u001b[39m | \u001b[39m0.4039   \u001b[39m | \u001b[39m0.699    \u001b[39m |\n",
      "| \u001b[39m9        \u001b[39m | \u001b[39m-0.000456\u001b[39m | \u001b[39m0.563    \u001b[39m | \u001b[39m1.222    \u001b[39m | \u001b[39m0.2306   \u001b[39m | \u001b[39m2.219    \u001b[39m | \u001b[39m8.478    \u001b[39m | \u001b[39m127.6    \u001b[39m | \u001b[39m0.8634   \u001b[39m | \u001b[39m0.1661   \u001b[39m | \u001b[39m0.6726   \u001b[39m |\n",
      "| \u001b[39m10       \u001b[39m | \u001b[39m-0.000456\u001b[39m | \u001b[39m0.9828   \u001b[39m | \u001b[39m3.217    \u001b[39m | \u001b[39m0.1032   \u001b[39m | \u001b[39m8.078    \u001b[39m | \u001b[39m2.093    \u001b[39m | \u001b[39m230.3    \u001b[39m | \u001b[39m0.9419   \u001b[39m | \u001b[39m0.22     \u001b[39m | \u001b[39m0.6701   \u001b[39m |\n",
      "| \u001b[39m11       \u001b[39m | \u001b[39m-0.000459\u001b[39m | \u001b[39m0.9444   \u001b[39m | \u001b[39m2.084    \u001b[39m | \u001b[39m0.01472  \u001b[39m | \u001b[39m2.661    \u001b[39m | \u001b[39m9.173    \u001b[39m | \u001b[39m302.5    \u001b[39m | \u001b[39m0.7548   \u001b[39m | \u001b[39m0.9788   \u001b[39m | \u001b[39m0.5115   \u001b[39m |\n",
      "| \u001b[39m12       \u001b[39m | \u001b[39m-0.000456\u001b[39m | \u001b[39m0.5721   \u001b[39m | \u001b[39m1.326    \u001b[39m | \u001b[39m0.2922   \u001b[39m | \u001b[39m9.739    \u001b[39m | \u001b[39m6.672    \u001b[39m | \u001b[39m98.55    \u001b[39m | \u001b[39m0.8685   \u001b[39m | \u001b[39m0.01199  \u001b[39m | \u001b[39m0.9593   \u001b[39m |\n",
      "| \u001b[39m13       \u001b[39m | \u001b[39m-0.000455\u001b[39m | \u001b[39m0.7179   \u001b[39m | \u001b[39m4.934    \u001b[39m | \u001b[39m0.01302  \u001b[39m | \u001b[39m8.187    \u001b[39m | \u001b[39m9.554    \u001b[39m | \u001b[39m396.5    \u001b[39m | \u001b[39m0.8615   \u001b[39m | \u001b[39m0.6742   \u001b[39m | \u001b[39m0.5377   \u001b[39m |\n",
      "| \u001b[39m14       \u001b[39m | \u001b[39m-0.000456\u001b[39m | \u001b[39m0.7406   \u001b[39m | \u001b[39m4.566    \u001b[39m | \u001b[39m0.187    \u001b[39m | \u001b[39m4.385    \u001b[39m | \u001b[39m8.478    \u001b[39m | \u001b[39m348.0    \u001b[39m | \u001b[39m0.7879   \u001b[39m | \u001b[39m0.4802   \u001b[39m | \u001b[39m0.7528   \u001b[39m |\n",
      "| \u001b[39m15       \u001b[39m | \u001b[39m-0.000680\u001b[39m | \u001b[39m0.6046   \u001b[39m | \u001b[39m3.943    \u001b[39m | \u001b[39m0.2301   \u001b[39m | \u001b[39m8.331    \u001b[39m | \u001b[39m8.814    \u001b[39m | \u001b[39m339.1    \u001b[39m | \u001b[39m0.3138   \u001b[39m | \u001b[39m0.7569   \u001b[39m | \u001b[39m0.7968   \u001b[39m |\n",
      "| \u001b[39m16       \u001b[39m | \u001b[39m-0.000198\u001b[39m | \u001b[39m0.6777   \u001b[39m | \u001b[39m1.218    \u001b[39m | \u001b[39m0.2883   \u001b[39m | \u001b[39m4.049    \u001b[39m | \u001b[39m1.49     \u001b[39m | \u001b[39m217.4    \u001b[39m | \u001b[39m0.1583   \u001b[39m | \u001b[39m0.3934   \u001b[39m | \u001b[39m0.6713   \u001b[39m |\n",
      "| \u001b[39m17       \u001b[39m | \u001b[39m-0.000455\u001b[39m | \u001b[39m0.8673   \u001b[39m | \u001b[39m2.369    \u001b[39m | \u001b[39m0.07019  \u001b[39m | \u001b[39m4.628    \u001b[39m | \u001b[39m7.042    \u001b[39m | \u001b[39m162.9    \u001b[39m | \u001b[39m0.3593   \u001b[39m | \u001b[39m0.3542   \u001b[39m | \u001b[39m0.6243   \u001b[39m |\n",
      "| \u001b[39m18       \u001b[39m | \u001b[39m-0.000456\u001b[39m | \u001b[39m0.5117   \u001b[39m | \u001b[39m3.551    \u001b[39m | \u001b[39m0.1093   \u001b[39m | \u001b[39m6.7      \u001b[39m | \u001b[39m4.448    \u001b[39m | \u001b[39m199.8    \u001b[39m | \u001b[39m0.8695   \u001b[39m | \u001b[39m0.6944   \u001b[39m | \u001b[39m0.8228   \u001b[39m |\n",
      "| \u001b[39m19       \u001b[39m | \u001b[39m-0.000456\u001b[39m | \u001b[39m0.9459   \u001b[39m | \u001b[39m4.82     \u001b[39m | \u001b[39m0.12     \u001b[39m | \u001b[39m3.465    \u001b[39m | \u001b[39m1.033    \u001b[39m | \u001b[39m82.16    \u001b[39m | \u001b[39m0.9418   \u001b[39m | \u001b[39m0.5058   \u001b[39m | \u001b[39m0.7665   \u001b[39m |\n",
      "| \u001b[39m20       \u001b[39m | \u001b[39m-0.000456\u001b[39m | \u001b[39m0.8859   \u001b[39m | \u001b[39m4.307    \u001b[39m | \u001b[39m0.1171   \u001b[39m | \u001b[39m5.372    \u001b[39m | \u001b[39m9.081    \u001b[39m | \u001b[39m410.3    \u001b[39m | \u001b[39m0.9254   \u001b[39m | \u001b[39m0.7255   \u001b[39m | \u001b[39m0.8352   \u001b[39m |\n",
      "| \u001b[39m21       \u001b[39m | \u001b[39m-0.000477\u001b[39m | \u001b[39m0.7311   \u001b[39m | \u001b[39m1.959    \u001b[39m | \u001b[39m0.02545  \u001b[39m | \u001b[39m2.563    \u001b[39m | \u001b[39m7.225    \u001b[39m | \u001b[39m329.1    \u001b[39m | \u001b[39m0.04653  \u001b[39m | \u001b[39m0.4159   \u001b[39m | \u001b[39m0.9549   \u001b[39m |\n",
      "| \u001b[39m22       \u001b[39m | \u001b[39m-0.000456\u001b[39m | \u001b[39m0.742    \u001b[39m | \u001b[39m0.3271   \u001b[39m | \u001b[39m0.1316   \u001b[39m | \u001b[39m6.396    \u001b[39m | \u001b[39m3.674    \u001b[39m | \u001b[39m331.4    \u001b[39m | \u001b[39m0.8558   \u001b[39m | \u001b[39m0.131    \u001b[39m | \u001b[39m0.7267   \u001b[39m |\n",
      "| \u001b[39m23       \u001b[39m | \u001b[39m-0.000466\u001b[39m | \u001b[39m0.8245   \u001b[39m | \u001b[39m3.985    \u001b[39m | \u001b[39m0.08164  \u001b[39m | \u001b[39m4.719    \u001b[39m | \u001b[39m3.713    \u001b[39m | \u001b[39m193.8    \u001b[39m | \u001b[39m0.2782   \u001b[39m | \u001b[39m0.4266   \u001b[39m | \u001b[39m0.8002   \u001b[39m |\n",
      "| \u001b[39m24       \u001b[39m | \u001b[39m0.08459  \u001b[39m | \u001b[39m0.697    \u001b[39m | \u001b[39m0.1054   \u001b[39m | \u001b[39m0.2298   \u001b[39m | \u001b[39m8.096    \u001b[39m | \u001b[39m9.284    \u001b[39m | \u001b[39m306.8    \u001b[39m | \u001b[39m0.2638   \u001b[39m | \u001b[39m0.1441   \u001b[39m | \u001b[39m0.7778   \u001b[39m |\n",
      "| \u001b[39m25       \u001b[39m | \u001b[39m-0.000456\u001b[39m | \u001b[39m0.6631   \u001b[39m | \u001b[39m4.63     \u001b[39m | \u001b[39m0.2779   \u001b[39m | \u001b[39m7.452    \u001b[39m | \u001b[39m1.457    \u001b[39m | \u001b[39m473.0    \u001b[39m | \u001b[39m0.7683   \u001b[39m | \u001b[39m0.9672   \u001b[39m | \u001b[39m0.7942   \u001b[39m |\n",
      "| \u001b[39m26       \u001b[39m | \u001b[39m-0.000456\u001b[39m | \u001b[39m0.7205   \u001b[39m | \u001b[39m4.916    \u001b[39m | \u001b[39m0.2576   \u001b[39m | \u001b[39m9.823    \u001b[39m | \u001b[39m1.165    \u001b[39m | \u001b[39m381.8    \u001b[39m | \u001b[39m0.9111   \u001b[39m | \u001b[39m0.7022   \u001b[39m | \u001b[39m0.9826   \u001b[39m |\n",
      "| \u001b[39m27       \u001b[39m | \u001b[39m-0.000797\u001b[39m | \u001b[39m0.8139   \u001b[39m | \u001b[39m0.7261   \u001b[39m | \u001b[39m0.2838   \u001b[39m | \u001b[39m4.68     \u001b[39m | \u001b[39m8.682    \u001b[39m | \u001b[39m490.8    \u001b[39m | \u001b[39m0.2675   \u001b[39m | \u001b[39m0.5832   \u001b[39m | \u001b[39m0.5939   \u001b[39m |\n",
      "| \u001b[39m28       \u001b[39m | \u001b[39m-0.000456\u001b[39m | \u001b[39m0.6828   \u001b[39m | \u001b[39m2.942    \u001b[39m | \u001b[39m0.06561  \u001b[39m | \u001b[39m5.288    \u001b[39m | \u001b[39m3.948    \u001b[39m | \u001b[39m298.2    \u001b[39m | \u001b[39m0.8549   \u001b[39m | \u001b[39m0.6824   \u001b[39m | \u001b[39m0.974    \u001b[39m |\n",
      "| \u001b[39m29       \u001b[39m | \u001b[39m-0.000622\u001b[39m | \u001b[39m0.784    \u001b[39m | \u001b[39m1.014    \u001b[39m | \u001b[39m0.1442   \u001b[39m | \u001b[39m3.569    \u001b[39m | \u001b[39m8.921    \u001b[39m | \u001b[39m468.1    \u001b[39m | \u001b[39m0.1592   \u001b[39m | \u001b[39m0.1481   \u001b[39m | \u001b[39m0.8357   \u001b[39m |\n",
      "| \u001b[39m30       \u001b[39m | \u001b[39m-0.000467\u001b[39m | \u001b[39m0.5604   \u001b[39m | \u001b[39m0.9787   \u001b[39m | \u001b[39m0.2363   \u001b[39m | \u001b[39m2.382    \u001b[39m | \u001b[39m7.302    \u001b[39m | \u001b[39m393.8    \u001b[39m | \u001b[39m0.006807 \u001b[39m | \u001b[39m0.7085   \u001b[39m | \u001b[39m0.8546   \u001b[39m |\n",
      "=====================================================================================================================================\n"
     ]
    }
   ],
   "source": [
    "optimizer = BayesianOptimization(f=objective_function, pbounds=param_bounds, random_state=42)\n",
    "optimizer.maximize(init_points=5, n_iter=25)"
   ]
  },
  {
   "cell_type": "code",
   "execution_count": 34,
   "metadata": {},
   "outputs": [],
   "source": [
    "best_params = optimizer.max['params']\n",
    "best_params['max_depth'] = int(best_params['max_depth'])\n",
    "best_params['n_estimators'] = int(best_params['n_estimators'])"
   ]
  },
  {
   "cell_type": "code",
   "execution_count": null,
   "metadata": {},
   "outputs": [],
   "source": []
  },
  {
   "cell_type": "code",
   "execution_count": 35,
   "metadata": {},
   "outputs": [
    {
     "name": "stdout",
     "output_type": "stream",
     "text": [
      "Mejores parámetros: {'colsample_bytree': 0.8540362888980227, 'gamma': 0.10292247147901223, 'learning_rate': 0.29127385712697834, 'max_depth': 8, 'min_child_weight': 2.9110519961044856, 'n_estimators': 131, 'reg_alpha': 0.18340450985343382, 'reg_lambda': 0.3042422429595377, 'subsample': 0.762378215816119}\n"
     ]
    }
   ],
   "source": [
    "print(f\"Mejores parámetros: {best_params}\")"
   ]
  },
  {
   "cell_type": "code",
   "execution_count": 38,
   "metadata": {},
   "outputs": [],
   "source": [
    "best_params_adjusted = {\n",
    "    'colsample_bytree': 0.8540362888980227,\n",
    "    'gamma': 0.10292247147901223,\n",
    "    'learning_rate': 0.03,  # Ajuste manual\n",
    "    'max_depth': 8,\n",
    "    'min_child_weight': 2.9110519961044856,\n",
    "    'n_estimators': 200,  # Ajuste manual\n",
    "    'reg_alpha': 0.18340450985343382,\n",
    "    'reg_lambda': 0.3042422429595377,\n",
    "    'subsample': 0.762378215816119\n",
    "}"
   ]
  },
  {
   "cell_type": "code",
   "execution_count": 39,
   "metadata": {},
   "outputs": [
    {
     "data": {
      "text/html": [
       "<style>#sk-container-id-3 {color: black;background-color: white;}#sk-container-id-3 pre{padding: 0;}#sk-container-id-3 div.sk-toggleable {background-color: white;}#sk-container-id-3 label.sk-toggleable__label {cursor: pointer;display: block;width: 100%;margin-bottom: 0;padding: 0.3em;box-sizing: border-box;text-align: center;}#sk-container-id-3 label.sk-toggleable__label-arrow:before {content: \"▸\";float: left;margin-right: 0.25em;color: #696969;}#sk-container-id-3 label.sk-toggleable__label-arrow:hover:before {color: black;}#sk-container-id-3 div.sk-estimator:hover label.sk-toggleable__label-arrow:before {color: black;}#sk-container-id-3 div.sk-toggleable__content {max-height: 0;max-width: 0;overflow: hidden;text-align: left;background-color: #f0f8ff;}#sk-container-id-3 div.sk-toggleable__content pre {margin: 0.2em;color: black;border-radius: 0.25em;background-color: #f0f8ff;}#sk-container-id-3 input.sk-toggleable__control:checked~div.sk-toggleable__content {max-height: 200px;max-width: 100%;overflow: auto;}#sk-container-id-3 input.sk-toggleable__control:checked~label.sk-toggleable__label-arrow:before {content: \"▾\";}#sk-container-id-3 div.sk-estimator input.sk-toggleable__control:checked~label.sk-toggleable__label {background-color: #d4ebff;}#sk-container-id-3 div.sk-label input.sk-toggleable__control:checked~label.sk-toggleable__label {background-color: #d4ebff;}#sk-container-id-3 input.sk-hidden--visually {border: 0;clip: rect(1px 1px 1px 1px);clip: rect(1px, 1px, 1px, 1px);height: 1px;margin: -1px;overflow: hidden;padding: 0;position: absolute;width: 1px;}#sk-container-id-3 div.sk-estimator {font-family: monospace;background-color: #f0f8ff;border: 1px dotted black;border-radius: 0.25em;box-sizing: border-box;margin-bottom: 0.5em;}#sk-container-id-3 div.sk-estimator:hover {background-color: #d4ebff;}#sk-container-id-3 div.sk-parallel-item::after {content: \"\";width: 100%;border-bottom: 1px solid gray;flex-grow: 1;}#sk-container-id-3 div.sk-label:hover label.sk-toggleable__label {background-color: #d4ebff;}#sk-container-id-3 div.sk-serial::before {content: \"\";position: absolute;border-left: 1px solid gray;box-sizing: border-box;top: 0;bottom: 0;left: 50%;z-index: 0;}#sk-container-id-3 div.sk-serial {display: flex;flex-direction: column;align-items: center;background-color: white;padding-right: 0.2em;padding-left: 0.2em;position: relative;}#sk-container-id-3 div.sk-item {position: relative;z-index: 1;}#sk-container-id-3 div.sk-parallel {display: flex;align-items: stretch;justify-content: center;background-color: white;position: relative;}#sk-container-id-3 div.sk-item::before, #sk-container-id-3 div.sk-parallel-item::before {content: \"\";position: absolute;border-left: 1px solid gray;box-sizing: border-box;top: 0;bottom: 0;left: 50%;z-index: -1;}#sk-container-id-3 div.sk-parallel-item {display: flex;flex-direction: column;z-index: 1;position: relative;background-color: white;}#sk-container-id-3 div.sk-parallel-item:first-child::after {align-self: flex-end;width: 50%;}#sk-container-id-3 div.sk-parallel-item:last-child::after {align-self: flex-start;width: 50%;}#sk-container-id-3 div.sk-parallel-item:only-child::after {width: 0;}#sk-container-id-3 div.sk-dashed-wrapped {border: 1px dashed gray;margin: 0 0.4em 0.5em 0.4em;box-sizing: border-box;padding-bottom: 0.4em;background-color: white;}#sk-container-id-3 div.sk-label label {font-family: monospace;font-weight: bold;display: inline-block;line-height: 1.2em;}#sk-container-id-3 div.sk-label-container {text-align: center;}#sk-container-id-3 div.sk-container {/* jupyter's `normalize.less` sets `[hidden] { display: none; }` but bootstrap.min.css set `[hidden] { display: none !important; }` so we also need the `!important` here to be able to override the default hidden behavior on the sphinx rendered scikit-learn.org. See: https://github.com/scikit-learn/scikit-learn/issues/21755 */display: inline-block !important;position: relative;}#sk-container-id-3 div.sk-text-repr-fallback {display: none;}</style><div id=\"sk-container-id-3\" class=\"sk-top-container\"><div class=\"sk-text-repr-fallback\"><pre>XGBRegressor(base_score=None, booster=None, callbacks=None,\n",
       "             colsample_bylevel=None, colsample_bynode=None,\n",
       "             colsample_bytree=0.8540362888980227, device=None,\n",
       "             early_stopping_rounds=None, enable_categorical=False,\n",
       "             eval_metric=None, feature_types=None, gamma=0.10292247147901223,\n",
       "             grow_policy=None, importance_type=None,\n",
       "             interaction_constraints=None, learning_rate=0.03, max_bin=None,\n",
       "             max_cat_threshold=None, max_cat_to_onehot=None,\n",
       "             max_delta_step=None, max_depth=8, max_leaves=None,\n",
       "             min_child_weight=2.9110519961044856, missing=nan,\n",
       "             monotone_constraints=None, multi_strategy=None, n_estimators=200,\n",
       "             n_jobs=None, num_parallel_tree=None, random_state=42, ...)</pre><b>In a Jupyter environment, please rerun this cell to show the HTML representation or trust the notebook. <br />On GitHub, the HTML representation is unable to render, please try loading this page with nbviewer.org.</b></div><div class=\"sk-container\" hidden><div class=\"sk-item\"><div class=\"sk-estimator sk-toggleable\"><input class=\"sk-toggleable__control sk-hidden--visually\" id=\"sk-estimator-id-3\" type=\"checkbox\" checked><label for=\"sk-estimator-id-3\" class=\"sk-toggleable__label sk-toggleable__label-arrow\">XGBRegressor</label><div class=\"sk-toggleable__content\"><pre>XGBRegressor(base_score=None, booster=None, callbacks=None,\n",
       "             colsample_bylevel=None, colsample_bynode=None,\n",
       "             colsample_bytree=0.8540362888980227, device=None,\n",
       "             early_stopping_rounds=None, enable_categorical=False,\n",
       "             eval_metric=None, feature_types=None, gamma=0.10292247147901223,\n",
       "             grow_policy=None, importance_type=None,\n",
       "             interaction_constraints=None, learning_rate=0.03, max_bin=None,\n",
       "             max_cat_threshold=None, max_cat_to_onehot=None,\n",
       "             max_delta_step=None, max_depth=8, max_leaves=None,\n",
       "             min_child_weight=2.9110519961044856, missing=nan,\n",
       "             monotone_constraints=None, multi_strategy=None, n_estimators=200,\n",
       "             n_jobs=None, num_parallel_tree=None, random_state=42, ...)</pre></div></div></div></div></div>"
      ],
      "text/plain": [
       "XGBRegressor(base_score=None, booster=None, callbacks=None,\n",
       "             colsample_bylevel=None, colsample_bynode=None,\n",
       "             colsample_bytree=0.8540362888980227, device=None,\n",
       "             early_stopping_rounds=None, enable_categorical=False,\n",
       "             eval_metric=None, feature_types=None, gamma=0.10292247147901223,\n",
       "             grow_policy=None, importance_type=None,\n",
       "             interaction_constraints=None, learning_rate=0.03, max_bin=None,\n",
       "             max_cat_threshold=None, max_cat_to_onehot=None,\n",
       "             max_delta_step=None, max_depth=8, max_leaves=None,\n",
       "             min_child_weight=2.9110519961044856, missing=nan,\n",
       "             monotone_constraints=None, multi_strategy=None, n_estimators=200,\n",
       "             n_jobs=None, num_parallel_tree=None, random_state=42, ...)"
      ]
     },
     "execution_count": 39,
     "metadata": {},
     "output_type": "execute_result"
    }
   ],
   "source": [
    "model_adjusted = xgb.XGBRegressor(**best_params_adjusted, random_state=42)\n",
    "model_adjusted.fit(X_train, y_train)\n"
   ]
  },
  {
   "cell_type": "code",
   "execution_count": 40,
   "metadata": {},
   "outputs": [],
   "source": [
    "y_train_pred = model_adjusted.predict(X_train)\n",
    "mae_train = mean_absolute_error(y_train, y_train_pred)\n",
    "rmse_train = mean_squared_error(y_train, y_train_pred, squared=False)\n",
    "r2_train = r2_score(y_train, y_train_pred)"
   ]
  },
  {
   "cell_type": "code",
   "execution_count": 41,
   "metadata": {},
   "outputs": [],
   "source": [
    "y_test_pred = model_adjusted.predict(X_test)\n",
    "mae_test = mean_absolute_error(y_test, y_test_pred)\n",
    "rmse_test = mean_squared_error(y_test, y_test_pred, squared=False)\n",
    "r2_test = r2_score(y_test, y_test_pred)"
   ]
  },
  {
   "cell_type": "code",
   "execution_count": 42,
   "metadata": {},
   "outputs": [
    {
     "name": "stdout",
     "output_type": "stream",
     "text": [
      "Train: MAE: 0.01293, RMSE: 0.01835, R2: 0.28968\n",
      "Test: MAE: 0.01334, RMSE: 0.01814, R2: 0.30204\n"
     ]
    }
   ],
   "source": [
    "print(f\"Train: MAE: {mae_train:.5f}, RMSE: {rmse_train:.5f}, R2: {r2_train:.5f}\")\n",
    "print(f\"Test: MAE: {mae_test:.5f}, RMSE: {rmse_test:.5f}, R2: {r2_test:.5f}\")"
   ]
  },
  {
   "cell_type": "code",
   "execution_count": 49,
   "metadata": {},
   "outputs": [
    {
     "name": "stdout",
     "output_type": "stream",
     "text": [
      "Train: MAE: 0.01061, RMSE: 0.01598, R2: 0.46127\n",
      "Test: MAE: 0.01073, RMSE: 0.01561, R2: 0.48307\n"
     ]
    }
   ],
   "source": [
    "# Nuevos hiperparámetros ajustados\n",
    "best_params_tweaked = {\n",
    "    'colsample_bytree': 0.854,\n",
    "    'gamma': 0.08,\n",
    "    'learning_rate': 0.291,  # Volvemos al valor de BO\n",
    "    'max_depth': 6,  # Reducimos para evitar sobreajuste\n",
    "    'min_child_weight': 4,  # Aumentamos para mayor regularización\n",
    "    'n_estimators': 155,  # Volvemos al valor de BO\n",
    "    'reg_alpha': 0.183,\n",
    "    'reg_lambda': 0.304,\n",
    "    'subsample': 0.75\n",
    "}\n",
    "\n",
    "# Entrenar el modelo con los nuevos parámetros\n",
    "model_tweaked = xgb.XGBRegressor(**best_params_tweaked, random_state=42)\n",
    "model_tweaked.fit(X_train, y_train)\n",
    "\n",
    "# Evaluación en train\n",
    "y_train_pred = model_tweaked.predict(X_train)\n",
    "mae_train = mean_absolute_error(y_train, y_train_pred)\n",
    "rmse_train = mean_squared_error(y_train, y_train_pred, squared=False)\n",
    "r2_train = r2_score(y_train, y_train_pred)\n",
    "\n",
    "# Evaluación en test\n",
    "y_test_pred = model_tweaked.predict(X_test)\n",
    "mae_test = mean_absolute_error(y_test, y_test_pred)\n",
    "rmse_test = mean_squared_error(y_test, y_test_pred, squared=False)\n",
    "r2_test = r2_score(y_test, y_test_pred)\n",
    "\n",
    "# Mostrar resultados\n",
    "print(f\"Train: MAE: {mae_train:.5f}, RMSE: {rmse_train:.5f}, R2: {r2_train:.5f}\")\n",
    "print(f\"Test: MAE: {mae_test:.5f}, RMSE: {rmse_test:.5f}, R2: {r2_test:.5f}\")\n"
   ]
  },
  {
   "cell_type": "code",
   "execution_count": null,
   "metadata": {},
   "outputs": [],
   "source": []
  }
 ],
 "metadata": {
  "kernelspec": {
   "display_name": "base",
   "language": "python",
   "name": "python3"
  },
  "language_info": {
   "codemirror_mode": {
    "name": "ipython",
    "version": 3
   },
   "file_extension": ".py",
   "mimetype": "text/x-python",
   "name": "python",
   "nbconvert_exporter": "python",
   "pygments_lexer": "ipython3",
   "version": "3.11.9"
  }
 },
 "nbformat": 4,
 "nbformat_minor": 2
}
